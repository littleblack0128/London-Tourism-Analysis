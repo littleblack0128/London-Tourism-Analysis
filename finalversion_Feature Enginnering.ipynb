{
 "cells": [
  {
   "cell_type": "code",
   "execution_count": 1,
   "metadata": {
    "collapsed": true
   },
   "outputs": [],
   "source": [
    "import pandas as pd\n",
    "import numpy as np\n",
    "from sklearn.decomposition import PCA\n",
    "import matplotlib.pyplot as plt"
   ]
  },
  {
   "cell_type": "markdown",
   "metadata": {},
   "source": [
    "# Load all the files"
   ]
  },
  {
   "cell_type": "code",
   "execution_count": 2,
   "metadata": {
    "collapsed": true
   },
   "outputs": [],
   "source": [
    "visitors0 = pd.read_csv('international-visitors-london-raw.csv')"
   ]
  },
  {
   "cell_type": "code",
   "execution_count": 3,
   "metadata": {
    "collapsed": true
   },
   "outputs": [],
   "source": [
    "gdp = pd.read_csv('gdp.csv', skiprows=3)"
   ]
  },
  {
   "cell_type": "code",
   "execution_count": 4,
   "metadata": {
    "collapsed": true
   },
   "outputs": [],
   "source": [
    "xls = pd.ExcelFile('PI_All_data_2007-2017.xlsx')"
   ]
  },
  {
   "cell_type": "code",
   "execution_count": 5,
   "metadata": {
    "collapsed": true
   },
   "outputs": [],
   "source": [
    "for i in xls.sheet_names[1:]:\n",
    "    globals()['pi_%s' %i] = pd.read_excel('PI_All_data_2007-2017.xlsx', sheetname=i)"
   ]
  },
  {
   "cell_type": "markdown",
   "metadata": {},
   "source": [
    "# Check the difference between PI data and visiters data. "
   ]
  },
  {
   "cell_type": "code",
   "execution_count": 6,
   "metadata": {},
   "outputs": [
    {
     "data": {
      "text/plain": [
       "{'Irish Republic',\n",
       " 'Other Africa',\n",
       " 'Other Asia',\n",
       " 'Other Central & South America',\n",
       " 'Other Eastern Europe',\n",
       " 'Other Middle East',\n",
       " 'Other Southern Africa',\n",
       " 'Other Western Europe',\n",
       " 'Taiwan',\n",
       " 'USA'}"
      ]
     },
     "execution_count": 6,
     "metadata": {},
     "output_type": "execute_result"
    }
   ],
   "source": [
    "set(visitors0.market.unique()) - set(pi_Pillars.country.unique())"
   ]
  },
  {
   "cell_type": "markdown",
   "metadata": {},
   "source": [
    "# Change the names of some countries that don't match the GDP Data and PI data"
   ]
  },
  {
   "cell_type": "code",
   "execution_count": 7,
   "metadata": {
    "collapsed": true
   },
   "outputs": [],
   "source": [
    "visitors0.loc[visitors0['market'] == 'USA', 'market']= 'United States'\n",
    "visitors0.loc[visitors0['market'] == 'Irish Republic', 'market']= 'Ireland'"
   ]
  },
  {
   "cell_type": "markdown",
   "metadata": {},
   "source": [
    "# Join the Pi_data set with visitors data so the visitors dataset have region column."
   ]
  },
  {
   "cell_type": "code",
   "execution_count": 8,
   "metadata": {
    "collapsed": true
   },
   "outputs": [],
   "source": [
    "visitors = visitors0.merge(pi_Pillars[['country','region']].drop_duplicates(), left_on='market', right_on='country', how='left')"
   ]
  },
  {
   "cell_type": "code",
   "execution_count": 9,
   "metadata": {
    "collapsed": true
   },
   "outputs": [],
   "source": [
    "visitors = visitors.drop('country', axis =1)"
   ]
  },
  {
   "cell_type": "markdown",
   "metadata": {},
   "source": [
    "# Check the rows with null values"
   ]
  },
  {
   "cell_type": "code",
   "execution_count": 10,
   "metadata": {},
   "outputs": [
    {
     "data": {
      "text/plain": [
       "array(['Other Western Europe', 'Other Eastern Europe',\n",
       "       'Other Central & South America', 'Taiwan', 'Other Asia',\n",
       "       'Other Middle East', 'Other Southern Africa', 'Other Africa'], dtype=object)"
      ]
     },
     "execution_count": 10,
     "metadata": {},
     "output_type": "execute_result"
    }
   ],
   "source": [
    "visitors[pd.isnull(visitors).region].market.unique()"
   ]
  },
  {
   "cell_type": "markdown",
   "metadata": {},
   "source": [
    "# Based on the geographical location of the data, we are going to catigorize the missing countries into the regions"
   ]
  },
  {
   "cell_type": "code",
   "execution_count": 11,
   "metadata": {
    "collapsed": true
   },
   "outputs": [],
   "source": [
    "visitors.loc[visitors['market'] == 'Taiwan', 'region']= 'East Asia'\n",
    "visitors.loc[visitors['market'] == 'Other Western Europe', 'region']= 'Western Europe'\n",
    "visitors.loc[visitors['market'] == 'Other Eastern Europe', 'region']= 'Eastern Europe'\n",
    "visitors.loc[visitors['market'] == 'Other Central & South America', 'region']= 'Latin America and the Caribbean'"
   ]
  },
  {
   "cell_type": "markdown",
   "metadata": {},
   "source": [
    "# Check the regions and the countries in them"
   ]
  },
  {
   "cell_type": "code",
   "execution_count": 12,
   "metadata": {},
   "outputs": [
    {
     "data": {
      "text/plain": [
       "array(['Belgium', 'Luxembourg', 'France', 'Germany', 'Italy',\n",
       "       'Netherlands', 'Denmark', 'Greece', 'Spain', 'Portugal', 'Austria',\n",
       "       'Sweden', 'Finland', 'Ireland', 'Switzerland', 'Norway', 'Iceland'], dtype=object)"
      ]
     },
     "execution_count": 12,
     "metadata": {},
     "output_type": "execute_result"
    }
   ],
   "source": [
    "visitors[visitors['region']== 'Europe']['market'].unique()"
   ]
  },
  {
   "cell_type": "code",
   "execution_count": 13,
   "metadata": {},
   "outputs": [
    {
     "data": {
      "text/plain": [
       "array(['Other Western Europe'], dtype=object)"
      ]
     },
     "execution_count": 13,
     "metadata": {},
     "output_type": "execute_result"
    }
   ],
   "source": [
    "visitors[visitors['region']== 'Western Europe']['market'].unique()"
   ]
  },
  {
   "cell_type": "code",
   "execution_count": 14,
   "metadata": {},
   "outputs": [
    {
     "data": {
      "text/plain": [
       "array(['Czech Republic', 'Poland', 'Hungary', 'Russia',\n",
       "       'Other Eastern Europe', 'Bulgaria', 'Romania', 'Serbia'], dtype=object)"
      ]
     },
     "execution_count": 14,
     "metadata": {},
     "output_type": "execute_result"
    }
   ],
   "source": [
    "visitors[visitors['region']== 'Eastern Europe']['market'].unique()"
   ]
  },
  {
   "cell_type": "code",
   "execution_count": 15,
   "metadata": {},
   "outputs": [
    {
     "data": {
      "text/plain": [
       "array(['Other Asia', 'Other Middle East', 'Other Southern Africa',\n",
       "       'Other Africa'], dtype=object)"
      ]
     },
     "execution_count": 15,
     "metadata": {},
     "output_type": "execute_result"
    }
   ],
   "source": [
    "visitors[pd.isnull(visitors).region].market.unique()"
   ]
  },
  {
   "cell_type": "markdown",
   "metadata": {},
   "source": [
    "# We are going to impute the missing values in Asia "
   ]
  },
  {
   "cell_type": "code",
   "execution_count": 16,
   "metadata": {
    "collapsed": true
   },
   "outputs": [],
   "source": [
    "#east asia is not in here because it is already captured by the data \n",
    "asian = ['South Asia', 'Western Asia', 'Southeast Asia', 'Central Asia']"
   ]
  },
  {
   "cell_type": "code",
   "execution_count": 17,
   "metadata": {
    "collapsed": true
   },
   "outputs": [],
   "source": [
    "for index, row in visitors.iterrows():\n",
    "    if visitors.loc[index,'market'] == 'Other Asia':\n",
    "        visitors.loc[index, 'region'] = np.random.choice(asian)"
   ]
  },
  {
   "cell_type": "code",
   "execution_count": 18,
   "metadata": {},
   "outputs": [
    {
     "data": {
      "text/plain": [
       "array(['South Asia', 'Eastern Europe', 'MENA', 'Sub-Saharan Africa',\n",
       "       'Western Asia', 'Latin America and the Caribbean', 'Pacific Asia',\n",
       "       'Europe', 'Southeast Asia', 'North America', 'East Asia',\n",
       "       'Central Asia'], dtype=object)"
      ]
     },
     "execution_count": 18,
     "metadata": {},
     "output_type": "execute_result"
    }
   ],
   "source": [
    "pi_Pillars.region.unique()"
   ]
  },
  {
   "cell_type": "markdown",
   "metadata": {},
   "source": [
    "# Based on the data and missing value, we are going to assume when the market equals to other middle east, the region is MENA, Middle East and North Africa region. "
   ]
  },
  {
   "cell_type": "code",
   "execution_count": 19,
   "metadata": {
    "collapsed": true
   },
   "outputs": [],
   "source": [
    "for index, row in visitors.iterrows():\n",
    "    if visitors.loc[index,'market'] == 'Other Middle East':\n",
    "        visitors.loc[index, 'region'] = 'MENA'"
   ]
  },
  {
   "cell_type": "code",
   "execution_count": 20,
   "metadata": {},
   "outputs": [
    {
     "data": {
      "text/plain": [
       "array(['Other Southern Africa', 'Other Africa'], dtype=object)"
      ]
     },
     "execution_count": 20,
     "metadata": {},
     "output_type": "execute_result"
    }
   ],
   "source": [
    "visitors[pd.isnull(visitors).region]['market'].unique()"
   ]
  },
  {
   "cell_type": "markdown",
   "metadata": {},
   "source": [
    "# After we imputed the missing values from market, we can see only other southern Africa and Other Afria left. We are going to impute them as Sub-Saharan Africa. "
   ]
  },
  {
   "cell_type": "code",
   "execution_count": 21,
   "metadata": {
    "collapsed": true
   },
   "outputs": [],
   "source": [
    "visitors = visitors.fillna('Sub-Saharan Africa')"
   ]
  },
  {
   "cell_type": "code",
   "execution_count": 22,
   "metadata": {},
   "outputs": [
    {
     "data": {
      "text/plain": [
       "(1337, 12)"
      ]
     },
     "execution_count": 22,
     "metadata": {},
     "output_type": "execute_result"
    }
   ],
   "source": [
    "visitors[(visitors['purpose']=='Study') & (visitors['dur_stay'] =='15+  nights')].shape"
   ]
  },
  {
   "cell_type": "code",
   "execution_count": 23,
   "metadata": {},
   "outputs": [
    {
     "data": {
      "text/plain": [
       "(1049, 12)"
      ]
     },
     "execution_count": 23,
     "metadata": {},
     "output_type": "execute_result"
    }
   ],
   "source": [
    "visitors[(visitors['purpose']=='Study') & (visitors['dur_stay'] !='15+  nights')].shape"
   ]
  },
  {
   "cell_type": "markdown",
   "metadata": {},
   "source": [
    "# As we can see from above, for students it is highly likely that they will stay for more than 15 days. For the purpose of the model. we are going to do analyses on people who are not here for study. "
   ]
  },
  {
   "cell_type": "code",
   "execution_count": 24,
   "metadata": {
    "collapsed": true
   },
   "outputs": [],
   "source": [
    "visitors=visitors[visitors['purpose'] != 'Study']"
   ]
  },
  {
   "cell_type": "markdown",
   "metadata": {},
   "source": [
    "# we are joining the GDP data with the visitors information"
   ]
  },
  {
   "cell_type": "code",
   "execution_count": 25,
   "metadata": {
    "collapsed": true
   },
   "outputs": [],
   "source": [
    "gdp =gdp.drop(['Country Code','Indicator Name','Indicator Code','1960','1961','1962','1963','1964','1965','1966','1967','1968','1969','1970','1971','1972','1973','1974','1975','1976','1977', '1978','1979','1980','1981','1982',\n",
    " '1983','1984','1985','1986','1987','1988','1989','1990','1991','1992','1993','1994','1995','1996','1997','1998','1999','2000','2001'], axis =1)"
   ]
  },
  {
   "cell_type": "code",
   "execution_count": 26,
   "metadata": {
    "collapsed": true
   },
   "outputs": [],
   "source": [
    "gdp = pd.melt(gdp, id_vars=['Country Name'], value_vars=[str(i) for i in range(2002,2018)])"
   ]
  },
  {
   "cell_type": "code",
   "execution_count": 27,
   "metadata": {
    "collapsed": true
   },
   "outputs": [],
   "source": [
    "gdp.columns = ['country', 'year1','gdp']"
   ]
  },
  {
   "cell_type": "markdown",
   "metadata": {},
   "source": [
    "# Change the GDP's country information into the proper information that can be matched with the visitors dataframe "
   ]
  },
  {
   "cell_type": "code",
   "execution_count": 28,
   "metadata": {
    "collapsed": true
   },
   "outputs": [],
   "source": [
    "gdp.loc[gdp['country'] == 'Russian Federation', 'country']= 'Russia'\n",
    "gdp.loc[gdp['country'] == 'Hong Kong SAR, China', 'country']= 'Hong Kong'\n",
    "gdp.loc[gdp['country'] == 'Egypt, Arab Rep.', 'country']= 'Egypt'\n",
    "gdp.loc[gdp['country'] == 'Korea, Rep.', 'country']= 'South Korea'\n"
   ]
  },
  {
   "cell_type": "markdown",
   "metadata": {},
   "source": [
    "# converte the year variable to intiger so it can join the visitors table."
   ]
  },
  {
   "cell_type": "code",
   "execution_count": 29,
   "metadata": {
    "collapsed": true
   },
   "outputs": [],
   "source": [
    "gdp['year1']=gdp['year1'].astype(np.int64)\n",
    "visitors1 = visitors.merge(gdp, left_on=['market', 'year'], right_on=['country', 'year1'], how='left')"
   ]
  },
  {
   "cell_type": "code",
   "execution_count": 30,
   "metadata": {
    "collapsed": true
   },
   "outputs": [],
   "source": [
    "visitors1 =visitors1.drop(['year1', 'country'], axis =1)"
   ]
  },
  {
   "cell_type": "code",
   "execution_count": 31,
   "metadata": {},
   "outputs": [
    {
     "data": {
      "text/html": [
       "<div>\n",
       "<style>\n",
       "    .dataframe thead tr:only-child th {\n",
       "        text-align: right;\n",
       "    }\n",
       "\n",
       "    .dataframe thead th {\n",
       "        text-align: left;\n",
       "    }\n",
       "\n",
       "    .dataframe tbody tr th {\n",
       "        vertical-align: top;\n",
       "    }\n",
       "</style>\n",
       "<table border=\"1\" class=\"dataframe\">\n",
       "  <thead>\n",
       "    <tr style=\"text-align: right;\">\n",
       "      <th></th>\n",
       "      <th>year</th>\n",
       "      <th>quarter</th>\n",
       "      <th>market</th>\n",
       "      <th>dur_stay</th>\n",
       "      <th>mode</th>\n",
       "      <th>purpose</th>\n",
       "      <th>area</th>\n",
       "      <th>visits</th>\n",
       "      <th>spend</th>\n",
       "      <th>nights</th>\n",
       "      <th>sample</th>\n",
       "      <th>region</th>\n",
       "      <th>gdp</th>\n",
       "    </tr>\n",
       "  </thead>\n",
       "  <tbody>\n",
       "    <tr>\n",
       "      <th>0</th>\n",
       "      <td>2002</td>\n",
       "      <td>Q1</td>\n",
       "      <td>Belgium</td>\n",
       "      <td>1-3  nights</td>\n",
       "      <td>Air</td>\n",
       "      <td>Holiday</td>\n",
       "      <td>LONDON</td>\n",
       "      <td>3.572186</td>\n",
       "      <td>0.969138</td>\n",
       "      <td>6.954456</td>\n",
       "      <td>5</td>\n",
       "      <td>Europe</td>\n",
       "      <td>2.588604e+11</td>\n",
       "    </tr>\n",
       "    <tr>\n",
       "      <th>1</th>\n",
       "      <td>2002</td>\n",
       "      <td>Q1</td>\n",
       "      <td>Belgium</td>\n",
       "      <td>1-3  nights</td>\n",
       "      <td>Air</td>\n",
       "      <td>Business</td>\n",
       "      <td>LONDON</td>\n",
       "      <td>9.284226</td>\n",
       "      <td>2.399577</td>\n",
       "      <td>12.604959</td>\n",
       "      <td>19</td>\n",
       "      <td>Europe</td>\n",
       "      <td>2.588604e+11</td>\n",
       "    </tr>\n",
       "  </tbody>\n",
       "</table>\n",
       "</div>"
      ],
      "text/plain": [
       "   year quarter   market     dur_stay mode   purpose     area    visits  \\\n",
       "0  2002      Q1  Belgium  1-3  nights  Air   Holiday   LONDON  3.572186   \n",
       "1  2002      Q1  Belgium  1-3  nights  Air  Business   LONDON  9.284226   \n",
       "\n",
       "      spend     nights  sample  region           gdp  \n",
       "0  0.969138   6.954456       5  Europe  2.588604e+11  \n",
       "1  2.399577  12.604959      19  Europe  2.588604e+11  "
      ]
     },
     "execution_count": 31,
     "metadata": {},
     "output_type": "execute_result"
    }
   ],
   "source": [
    "visitors1.head(2)"
   ]
  },
  {
   "cell_type": "markdown",
   "metadata": {},
   "source": [
    "# Below we are going to use the market value and region value to encode the missing values from GDP column"
   ]
  },
  {
   "cell_type": "code",
   "execution_count": 32,
   "metadata": {},
   "outputs": [
    {
     "data": {
      "text/plain": [
       "array(['Other Western Europe', 'Other Eastern Europe',\n",
       "       'Other Central & South America', 'Taiwan', 'Other Asia',\n",
       "       'Other Middle East', 'Other Southern Africa', 'Other Africa'], dtype=object)"
      ]
     },
     "execution_count": 32,
     "metadata": {},
     "output_type": "execute_result"
    }
   ],
   "source": [
    "visitors1[visitors1['gdp'].isnull()]['market'].unique()"
   ]
  },
  {
   "cell_type": "code",
   "execution_count": 33,
   "metadata": {},
   "outputs": [
    {
     "data": {
      "text/plain": [
       "array(['Europe', 'MENA', 'Eastern Europe', 'Western Europe',\n",
       "       'North America', 'Latin America and the Caribbean', 'East Asia',\n",
       "       'Southeast Asia', 'Western Asia', 'Central Asia', 'South Asia',\n",
       "       'Pacific Asia', 'Sub-Saharan Africa'], dtype=object)"
      ]
     },
     "execution_count": 33,
     "metadata": {},
     "output_type": "execute_result"
    }
   ],
   "source": [
    "visitors1.region.unique()"
   ]
  },
  {
   "cell_type": "markdown",
   "metadata": {},
   "source": [
    "# I am going to make eastern eurpoe and western europe's GDP equal to Europe's GDP"
   ]
  },
  {
   "cell_type": "code",
   "execution_count": 34,
   "metadata": {
    "collapsed": true
   },
   "outputs": [],
   "source": [
    "europe_average_gdp = visitors1[(visitors1['region']=='Europe')& (visitors1['gdp'].notnull())].groupby('year')['gdp'].mean().reset_index()"
   ]
  },
  {
   "cell_type": "code",
   "execution_count": 35,
   "metadata": {
    "collapsed": true
   },
   "outputs": [],
   "source": [
    "europe_average_gdp['region']= 'Western Europe'"
   ]
  },
  {
   "cell_type": "code",
   "execution_count": 36,
   "metadata": {
    "collapsed": true
   },
   "outputs": [],
   "source": [
    "europe_average_gdp['year1']=europe_average_gdp['year']\n",
    "europe_average_gdp['gdp1'] =europe_average_gdp['gdp']\n",
    "europe_average_gdp= europe_average_gdp.drop(['year','gdp'], axis =1)"
   ]
  },
  {
   "cell_type": "code",
   "execution_count": 37,
   "metadata": {
    "collapsed": true
   },
   "outputs": [],
   "source": [
    "visitors2 = visitors1.merge(europe_average_gdp, left_on=['region', 'year'], right_on=['region', 'year1'], how='left')"
   ]
  },
  {
   "cell_type": "code",
   "execution_count": 38,
   "metadata": {
    "collapsed": true
   },
   "outputs": [],
   "source": [
    "visitors2['gdp']=visitors2['gdp'].fillna(visitors2['gdp1'])"
   ]
  },
  {
   "cell_type": "code",
   "execution_count": 39,
   "metadata": {
    "collapsed": true
   },
   "outputs": [],
   "source": [
    "visitors2=visitors2.drop(['year1','gdp1'],axis =1)"
   ]
  },
  {
   "cell_type": "code",
   "execution_count": 40,
   "metadata": {},
   "outputs": [
    {
     "data": {
      "text/plain": [
       "array(['Other Eastern Europe', 'Other Central & South America', 'Taiwan',\n",
       "       'Other Asia', 'Other Middle East', 'Other Southern Africa',\n",
       "       'Other Africa'], dtype=object)"
      ]
     },
     "execution_count": 40,
     "metadata": {},
     "output_type": "execute_result"
    }
   ],
   "source": [
    "visitors2[visitors2.gdp.isnull()]['market'].unique()"
   ]
  },
  {
   "cell_type": "code",
   "execution_count": 41,
   "metadata": {
    "collapsed": true
   },
   "outputs": [],
   "source": [
    "europe_average_gdp['region']= 'Eastern Europe'"
   ]
  },
  {
   "cell_type": "code",
   "execution_count": 42,
   "metadata": {
    "collapsed": true
   },
   "outputs": [],
   "source": [
    "visitors2 = visitors2.merge(europe_average_gdp, left_on=['region', 'year'], right_on=['region', 'year1'], how='left')"
   ]
  },
  {
   "cell_type": "code",
   "execution_count": 43,
   "metadata": {
    "collapsed": true
   },
   "outputs": [],
   "source": [
    "visitors2['gdp']=visitors2['gdp'].fillna(visitors2['gdp1'])"
   ]
  },
  {
   "cell_type": "code",
   "execution_count": 44,
   "metadata": {
    "collapsed": true
   },
   "outputs": [],
   "source": [
    "visitors2=visitors2.drop(['year1','gdp1'],axis =1)"
   ]
  },
  {
   "cell_type": "code",
   "execution_count": 45,
   "metadata": {},
   "outputs": [
    {
     "data": {
      "text/plain": [
       "array(['Other Central & South America', 'Taiwan', 'Other Asia',\n",
       "       'Other Middle East', 'Other Southern Africa', 'Other Africa'], dtype=object)"
      ]
     },
     "execution_count": 45,
     "metadata": {},
     "output_type": "execute_result"
    }
   ],
   "source": [
    "visitors2[visitors2.gdp.isnull()]['market'].unique()"
   ]
  },
  {
   "cell_type": "code",
   "execution_count": 46,
   "metadata": {},
   "outputs": [
    {
     "data": {
      "text/plain": [
       "array(['Latin America and the Caribbean', 'East Asia', 'Western Asia',\n",
       "       'Central Asia', 'South Asia', 'Southeast Asia', 'MENA',\n",
       "       'Sub-Saharan Africa'], dtype=object)"
      ]
     },
     "execution_count": 46,
     "metadata": {},
     "output_type": "execute_result"
    }
   ],
   "source": [
    "visitors2[visitors2['gdp'].isnull()]['region'].unique()"
   ]
  },
  {
   "cell_type": "code",
   "execution_count": 47,
   "metadata": {},
   "outputs": [
    {
     "data": {
      "text/plain": [
       "array(['Other Central & South America', 'Taiwan', 'Other Asia',\n",
       "       'Other Middle East', 'Other Southern Africa', 'Other Africa'], dtype=object)"
      ]
     },
     "execution_count": 47,
     "metadata": {},
     "output_type": "execute_result"
    }
   ],
   "source": [
    "visitors2[(visitors2['gdp'].isnull())]['market'].unique()"
   ]
  },
  {
   "cell_type": "markdown",
   "metadata": {},
   "source": [
    "# Change Taiwan's GDP to the mean of east Asia's GDP"
   ]
  },
  {
   "cell_type": "code",
   "execution_count": 48,
   "metadata": {
    "collapsed": true
   },
   "outputs": [],
   "source": [
    "asian_gdp= visitors2[(visitors2['region']=='East Asia')].groupby('year')['gdp'].mean().reset_index()"
   ]
  },
  {
   "cell_type": "code",
   "execution_count": 49,
   "metadata": {
    "collapsed": true
   },
   "outputs": [],
   "source": [
    "asian_gdp['region']='Taiwan'\n",
    "asian_gdp['year1']= asian_gdp['year']\n",
    "asian_gdp['gdp1']= asian_gdp['gdp']"
   ]
  },
  {
   "cell_type": "code",
   "execution_count": 50,
   "metadata": {
    "collapsed": true
   },
   "outputs": [],
   "source": [
    "asian_gdp = asian_gdp.drop(['year','gdp'], axis =1)"
   ]
  },
  {
   "cell_type": "code",
   "execution_count": 51,
   "metadata": {
    "collapsed": true
   },
   "outputs": [],
   "source": [
    "visitors2 = visitors2.merge(asian_gdp, left_on=['market', 'year'], right_on=['region', 'year1'], how='left')"
   ]
  },
  {
   "cell_type": "code",
   "execution_count": 52,
   "metadata": {
    "collapsed": true
   },
   "outputs": [],
   "source": [
    "visitors2['gdp'] = visitors2['gdp'].fillna(visitors2['gdp1'])"
   ]
  },
  {
   "cell_type": "code",
   "execution_count": 53,
   "metadata": {
    "collapsed": true
   },
   "outputs": [],
   "source": [
    "visitors2=visitors2.drop(['region_y', 'year1','gdp1'],axis =1)"
   ]
  },
  {
   "cell_type": "code",
   "execution_count": 54,
   "metadata": {},
   "outputs": [
    {
     "data": {
      "text/plain": [
       "array(['Other Central & South America', 'Other Asia', 'Other Middle East',\n",
       "       'Other Southern Africa', 'Other Africa'], dtype=object)"
      ]
     },
     "execution_count": 54,
     "metadata": {},
     "output_type": "execute_result"
    }
   ],
   "source": [
    "visitors2[visitors2['gdp'].isnull()]['market'].unique()"
   ]
  },
  {
   "cell_type": "code",
   "execution_count": 55,
   "metadata": {},
   "outputs": [
    {
     "data": {
      "text/plain": [
       "array(['Latin America and the Caribbean', 'Western Asia', 'Central Asia',\n",
       "       'South Asia', 'Southeast Asia', 'MENA', 'Sub-Saharan Africa'], dtype=object)"
      ]
     },
     "execution_count": 55,
     "metadata": {},
     "output_type": "execute_result"
    }
   ],
   "source": [
    "visitors2[visitors2['gdp'].isnull()]['region_x'].unique()"
   ]
  },
  {
   "cell_type": "code",
   "execution_count": 56,
   "metadata": {},
   "outputs": [
    {
     "data": {
      "text/plain": [
       "array(['Other Asia', 'India', 'Pakistan'], dtype=object)"
      ]
     },
     "execution_count": 56,
     "metadata": {},
     "output_type": "execute_result"
    }
   ],
   "source": [
    "visitors2[visitors2['region_x']=='South Asia']['market'].unique()"
   ]
  },
  {
   "cell_type": "code",
   "execution_count": 57,
   "metadata": {},
   "outputs": [
    {
     "data": {
      "text/plain": [
       "array(['Europe', 'MENA', 'Eastern Europe', 'Western Europe',\n",
       "       'North America', 'Latin America and the Caribbean', 'East Asia',\n",
       "       'Southeast Asia', 'Western Asia', 'Central Asia', 'South Asia',\n",
       "       'Pacific Asia', 'Sub-Saharan Africa'], dtype=object)"
      ]
     },
     "execution_count": 57,
     "metadata": {},
     "output_type": "execute_result"
    }
   ],
   "source": [
    "visitors2['region_x'].unique()"
   ]
  },
  {
   "cell_type": "markdown",
   "metadata": {},
   "source": [
    "# There are still some Asian countries that don't have correct GDP, so we are going to make the the average of the asian GDP"
   ]
  },
  {
   "cell_type": "code",
   "execution_count": 58,
   "metadata": {
    "collapsed": true
   },
   "outputs": [],
   "source": [
    "asian_gdp['region']='Other Asia'"
   ]
  },
  {
   "cell_type": "code",
   "execution_count": 59,
   "metadata": {
    "collapsed": true
   },
   "outputs": [],
   "source": [
    "visitors2 = visitors2.merge(asian_gdp, left_on=['market', 'year'], right_on=['region', 'year1'], how='left')"
   ]
  },
  {
   "cell_type": "code",
   "execution_count": 60,
   "metadata": {
    "collapsed": true
   },
   "outputs": [],
   "source": [
    "visitors2['gdp'] = visitors2['gdp'].fillna(visitors2['gdp1'])"
   ]
  },
  {
   "cell_type": "code",
   "execution_count": 61,
   "metadata": {
    "collapsed": true
   },
   "outputs": [],
   "source": [
    "visitors2=visitors2.drop(['region', 'year1','gdp1'],axis =1)"
   ]
  },
  {
   "cell_type": "code",
   "execution_count": 62,
   "metadata": {},
   "outputs": [
    {
     "data": {
      "text/plain": [
       "array(['Other Central & South America', 'Other Middle East',\n",
       "       'Other Southern Africa', 'Other Africa'], dtype=object)"
      ]
     },
     "execution_count": 62,
     "metadata": {},
     "output_type": "execute_result"
    }
   ],
   "source": [
    "visitors2[visitors2['gdp'].isnull()]['market'].unique()"
   ]
  },
  {
   "cell_type": "code",
   "execution_count": 63,
   "metadata": {},
   "outputs": [
    {
     "data": {
      "text/plain": [
       "array(['Latin America and the Caribbean', 'MENA', 'Sub-Saharan Africa'], dtype=object)"
      ]
     },
     "execution_count": 63,
     "metadata": {},
     "output_type": "execute_result"
    }
   ],
   "source": [
    "visitors2[visitors2['gdp'].isnull()]['region_x'].unique()"
   ]
  },
  {
   "cell_type": "markdown",
   "metadata": {},
   "source": [
    "# We are also going to use the mean Eurpo's DGP to impute the missing values for europe GDPs."
   ]
  },
  {
   "cell_type": "code",
   "execution_count": 64,
   "metadata": {
    "collapsed": true
   },
   "outputs": [],
   "source": [
    "europe_gdp= visitors2[(visitors2['region_x']=='Eastern Europe')| (visitors2['region_x']=='Europe')].groupby('year')['gdp'].mean().reset_index()"
   ]
  },
  {
   "cell_type": "code",
   "execution_count": 65,
   "metadata": {
    "collapsed": true
   },
   "outputs": [],
   "source": [
    "europe_gdp['region']='Other Western Europe'"
   ]
  },
  {
   "cell_type": "code",
   "execution_count": 66,
   "metadata": {
    "collapsed": true
   },
   "outputs": [],
   "source": [
    "europe_gdp['year1'] = europe_gdp['year']\n",
    "europe_gdp['gdp1']= europe_gdp['gdp']\n",
    "europe_gdp= europe_gdp.drop(['year','gdp'],axis =1)"
   ]
  },
  {
   "cell_type": "code",
   "execution_count": 67,
   "metadata": {
    "collapsed": true
   },
   "outputs": [],
   "source": [
    "visitors2 = visitors2.merge(europe_gdp, left_on=['market', 'year'], right_on=['region', 'year1'], how='left')"
   ]
  },
  {
   "cell_type": "code",
   "execution_count": 68,
   "metadata": {
    "collapsed": true
   },
   "outputs": [],
   "source": [
    "visitors2['gdp'] = visitors2['gdp'].fillna(visitors2['gdp1'])"
   ]
  },
  {
   "cell_type": "code",
   "execution_count": 69,
   "metadata": {
    "collapsed": true
   },
   "outputs": [],
   "source": [
    "visitors2=visitors2.drop(['region', 'year1','gdp1'],axis =1)"
   ]
  },
  {
   "cell_type": "code",
   "execution_count": 70,
   "metadata": {},
   "outputs": [
    {
     "data": {
      "text/plain": [
       "array(['Other Central & South America', 'Other Middle East',\n",
       "       'Other Southern Africa', 'Other Africa'], dtype=object)"
      ]
     },
     "execution_count": 70,
     "metadata": {},
     "output_type": "execute_result"
    }
   ],
   "source": [
    "visitors2[visitors2['gdp'].isnull()]['market'].unique()"
   ]
  },
  {
   "cell_type": "markdown",
   "metadata": {},
   "source": [
    "# I am going to impute the missing values for other middle east using mean of the MENA's GDP"
   ]
  },
  {
   "cell_type": "code",
   "execution_count": 71,
   "metadata": {
    "collapsed": true
   },
   "outputs": [],
   "source": [
    "africa_gdp = visitors2[visitors2['region_x']=='MENA'].groupby('year')['gdp'].mean().reset_index()"
   ]
  },
  {
   "cell_type": "code",
   "execution_count": 72,
   "metadata": {
    "collapsed": true
   },
   "outputs": [],
   "source": [
    "africa_gdp['region'] = 'Other Middle East'"
   ]
  },
  {
   "cell_type": "code",
   "execution_count": 73,
   "metadata": {
    "collapsed": true
   },
   "outputs": [],
   "source": [
    "africa_gdp.rename(index=str, columns={\"year\": \"year1\", \"gdp\": \"gdp1\"}, inplace = True)"
   ]
  },
  {
   "cell_type": "code",
   "execution_count": 74,
   "metadata": {
    "collapsed": true
   },
   "outputs": [],
   "source": [
    "visitors2 = visitors2.merge(africa_gdp, left_on=['market', 'year'], right_on=['region', 'year1'], how='left')"
   ]
  },
  {
   "cell_type": "code",
   "execution_count": 75,
   "metadata": {
    "collapsed": true
   },
   "outputs": [],
   "source": [
    "visitors2['gdp'] = visitors2['gdp'].fillna(visitors2['gdp1'])"
   ]
  },
  {
   "cell_type": "code",
   "execution_count": 76,
   "metadata": {
    "collapsed": true
   },
   "outputs": [],
   "source": [
    "visitors2=visitors2.drop(['region', 'year1','gdp1'],axis =1)"
   ]
  },
  {
   "cell_type": "code",
   "execution_count": 77,
   "metadata": {},
   "outputs": [
    {
     "data": {
      "text/plain": [
       "array(['Other Central & South America', 'Other Southern Africa',\n",
       "       'Other Africa'], dtype=object)"
      ]
     },
     "execution_count": 77,
     "metadata": {},
     "output_type": "execute_result"
    }
   ],
   "source": [
    "visitors2[visitors2['gdp'].isnull()]['market'].unique()"
   ]
  },
  {
   "cell_type": "code",
   "execution_count": 78,
   "metadata": {},
   "outputs": [
    {
     "data": {
      "text/plain": [
       "array(['Latin America and the Caribbean', 'Sub-Saharan Africa'], dtype=object)"
      ]
     },
     "execution_count": 78,
     "metadata": {},
     "output_type": "execute_result"
    }
   ],
   "source": [
    "visitors2[visitors2['gdp'].isnull()]['region_x'].unique()"
   ]
  },
  {
   "cell_type": "markdown",
   "metadata": {},
   "source": [
    "# Impute other africa's gdp"
   ]
  },
  {
   "cell_type": "code",
   "execution_count": 79,
   "metadata": {
    "collapsed": true
   },
   "outputs": [],
   "source": [
    "africa_gdp['region']= 'Other Africa'"
   ]
  },
  {
   "cell_type": "code",
   "execution_count": 80,
   "metadata": {
    "collapsed": true
   },
   "outputs": [],
   "source": [
    "visitors2 = visitors2.merge(africa_gdp, left_on=['market', 'year'], right_on=['region', 'year1'], how='left')\n",
    "visitors2['gdp'] = visitors2['gdp'].fillna(visitors2['gdp1'])\n",
    "visitors2=visitors2.drop(['region', 'year1','gdp1'],axis =1)"
   ]
  },
  {
   "cell_type": "code",
   "execution_count": 81,
   "metadata": {},
   "outputs": [
    {
     "data": {
      "text/plain": [
       "array(['Other Central & South America', 'Other Southern Africa'], dtype=object)"
      ]
     },
     "execution_count": 81,
     "metadata": {},
     "output_type": "execute_result"
    }
   ],
   "source": [
    "visitors2[visitors2['gdp'].isnull()]['market'].unique()"
   ]
  },
  {
   "cell_type": "code",
   "execution_count": 82,
   "metadata": {
    "collapsed": true
   },
   "outputs": [],
   "source": [
    "africa_gdp['region']= 'Other Southern Africa'\n",
    "visitors2 = visitors2.merge(africa_gdp, left_on=['market', 'year'], right_on=['region', 'year1'], how='left')\n",
    "visitors2['gdp'] = visitors2['gdp'].fillna(visitors2['gdp1'])\n",
    "visitors2=visitors2.drop(['region', 'year1','gdp1'],axis =1)"
   ]
  },
  {
   "cell_type": "code",
   "execution_count": 83,
   "metadata": {},
   "outputs": [
    {
     "data": {
      "text/plain": [
       "array(['Other Central & South America'], dtype=object)"
      ]
     },
     "execution_count": 83,
     "metadata": {},
     "output_type": "execute_result"
    }
   ],
   "source": [
    "visitors2[visitors2['gdp'].isnull()]['market'].unique()"
   ]
  },
  {
   "cell_type": "code",
   "execution_count": 84,
   "metadata": {},
   "outputs": [
    {
     "data": {
      "text/plain": [
       "array(['Latin America and the Caribbean'], dtype=object)"
      ]
     },
     "execution_count": 84,
     "metadata": {},
     "output_type": "execute_result"
    }
   ],
   "source": [
    "visitors2[visitors2['gdp'].isnull()]['region_x'].unique()"
   ]
  },
  {
   "cell_type": "markdown",
   "metadata": {},
   "source": [
    "# For the countries in Latin America and Caribbeans, we are going to calulate the mean GDP and use them to imput the catigory Latin America and the Caribbeans. "
   ]
  },
  {
   "cell_type": "code",
   "execution_count": 85,
   "metadata": {
    "collapsed": true
   },
   "outputs": [],
   "source": [
    "central_south_america = ['Belize','Costa Rica', 'El Salvador','Guatemala', 'Honduras','Nicaragua','Panama', 'Bolivia','Colombia', 'Ecuador', 'Guyana', 'Paraguay', 'Peru', 'Suriname','Uruguay', 'Venezuela']"
   ]
  },
  {
   "cell_type": "code",
   "execution_count": 86,
   "metadata": {
    "collapsed": true
   },
   "outputs": [],
   "source": [
    "central_america_gdp = gdp[gdp['country'].isin(central_south_america)].groupby('year1')['gdp'].mean().reset_index()"
   ]
  },
  {
   "cell_type": "code",
   "execution_count": 87,
   "metadata": {
    "collapsed": true
   },
   "outputs": [],
   "source": [
    "central_america_gdp['region'] = 'Latin America and the Caribbean'"
   ]
  },
  {
   "cell_type": "code",
   "execution_count": 88,
   "metadata": {
    "collapsed": true
   },
   "outputs": [],
   "source": [
    "central_america_gdp.rename(index=str, columns={\"year\": \"year1\", \"gdp\": \"gdp1\"}, inplace = True)"
   ]
  },
  {
   "cell_type": "code",
   "execution_count": 89,
   "metadata": {
    "collapsed": true
   },
   "outputs": [],
   "source": [
    "visitors2 = visitors2.merge(central_america_gdp, left_on=['region_x', 'year'], right_on=['region', 'year1'], how='left')\n"
   ]
  },
  {
   "cell_type": "code",
   "execution_count": 90,
   "metadata": {
    "collapsed": true
   },
   "outputs": [],
   "source": [
    "visitors2['gdp'] = visitors2['gdp'].fillna(visitors2['gdp1'])\n",
    "visitors2=visitors2.drop(['region', 'year1','gdp1'],axis =1)"
   ]
  },
  {
   "cell_type": "markdown",
   "metadata": {},
   "source": [
    "# For the PI table, we only have data after 2006, so we are going to drop some data from the origional dataset and joing the visitors table with the PI table"
   ]
  },
  {
   "cell_type": "code",
   "execution_count": 91,
   "metadata": {
    "collapsed": true
   },
   "outputs": [],
   "source": [
    "visitors3 = visitors2[visitors2['year'] >2006]"
   ]
  },
  {
   "cell_type": "code",
   "execution_count": 92,
   "metadata": {},
   "outputs": [
    {
     "name": "stderr",
     "output_type": "stream",
     "text": [
      "/Users/elvy/anaconda3/lib/python3.5/site-packages/pandas/core/frame.py:2746: SettingWithCopyWarning: \n",
      "A value is trying to be set on a copy of a slice from a DataFrame\n",
      "\n",
      "See the caveats in the documentation: http://pandas.pydata.org/pandas-docs/stable/indexing.html#indexing-view-versus-copy\n",
      "  **kwargs)\n"
     ]
    }
   ],
   "source": [
    "visitors3.rename(index=str, columns={ \"region_x\": \"region\"}, inplace = True)"
   ]
  },
  {
   "cell_type": "markdown",
   "metadata": {},
   "source": [
    "# Because the PI dataset has similar structure as the GDP dataset, we are going to write a function to do everything we did before to join everything in PI with the visitors dataset."
   ]
  },
  {
   "cell_type": "code",
   "execution_count": 93,
   "metadata": {
    "collapsed": true
   },
   "outputs": [],
   "source": [
    "def mergedata(visitors_org, merger_data, column):\n",
    "    merger_data = merger_data[['country','year', column]]\n",
    "    visitors4 = visitors_org.merge(merger_data, left_on=['market','year'], right_on=['country','year'], how='left')\n",
    "    visitors4 = visitors4.drop('country',axis =1)\n",
    "    europe_average = visitors4[(visitors4['region']=='Europe')& (visitors4[column].notnull())].groupby('year')[column].mean().reset_index()\n",
    "    europe_average['region']= 'Western Europe'\n",
    "    europe_average['year1']=europe_average['year']\n",
    "    europe_average['gdp1'] =europe_average[column]\n",
    "    europe_average= europe_average.drop(['year',column], axis =1)\n",
    "    visitors4 = visitors4.merge(europe_average, left_on=['region', 'year'], right_on=['region', 'year1'], how='left')\n",
    "    visitors4[column]=visitors4[column].fillna(visitors4['gdp1'])\n",
    "    visitors4=visitors4.drop(['year1','gdp1'],axis =1)\n",
    "    europe_average['region']= 'Eastern Europe'\n",
    "    visitors4 = visitors4.merge(europe_average, left_on=['region', 'year'], right_on=['region', 'year1'], how='left')\n",
    "    visitors4[column]=visitors4[column].fillna(visitors4['gdp1'])\n",
    "    visitors4=visitors4.drop(['year1','gdp1'],axis =1)\n",
    "    asian= visitors4[(visitors4['region']=='East Asia')].groupby('year')[column].mean().reset_index()\n",
    "    asian['region']='Taiwan'\n",
    "    asian['year1']= asian['year']\n",
    "    asian['gdp1']= asian[column]\n",
    "    asian = asian.drop(['year',column], axis =1)\n",
    "    visitors4 = visitors4.merge(asian, left_on=['market', 'year'], right_on=['region', 'year1'], how='left')\n",
    "    visitors4[column] = visitors4[column].fillna(visitors4['gdp1'])\n",
    "    visitors4=visitors4.drop(['region_y', 'year1','gdp1'],axis =1)\n",
    "    asian['region']='Other Asia'\n",
    "    visitors4 = visitors4.merge(asian, left_on=['market', 'year'], right_on=['region', 'year1'], how='left')\n",
    "    visitors4[column] = visitors4[column].fillna(visitors4['gdp1'])\n",
    "    visitors4=visitors4.drop(['region', 'year1','gdp1'],axis =1)\n",
    "    europe_value= visitors4[(visitors4['region_x']=='Eastern Europe')| (visitors4['region_x']=='Europe')].groupby('year')[column].mean().reset_index()\n",
    "    europe_value['region']='Other Western Europe'\n",
    "    europe_value['year1'] = europe_value['year']\n",
    "    europe_value['gdp1']= europe_value[column]\n",
    "    europe_value= europe_value.drop(['year',column],axis =1)\n",
    "    visitors4 = visitors4.merge(europe_value, left_on=['market', 'year'], right_on=['region', 'year1'], how='left')\n",
    "    visitors4[column] = visitors4[column].fillna(visitors4['gdp1'])\n",
    "    visitors4=visitors4.drop(['region', 'year1','gdp1'],axis =1)\n",
    "    africa_value = visitors4[visitors4['region_x']=='MENA'].groupby('year')[column].mean().reset_index()\n",
    "    africa_value['region'] = 'Other Middle East'\n",
    "    africa_value.rename(index=str, columns={\"year\": \"year1\", column: \"gdp1\"}, inplace = True)\n",
    "    visitors4 = visitors4.merge(africa_value, left_on=['market', 'year'], right_on=['region', 'year1'], how='left')\n",
    "    visitors4[column] = visitors4[column].fillna(visitors4['gdp1'])\n",
    "    visitors4=visitors4.drop(['region', 'year1','gdp1'],axis =1)\n",
    "    africa_value['region']= 'Other Africa'\n",
    "    visitors4 = visitors4.merge(africa_value, left_on=['market', 'year'], right_on=['region', 'year1'], how='left')\n",
    "    visitors4[column] = visitors4[column].fillna(visitors4['gdp1'])\n",
    "    visitors4=visitors4.drop(['region', 'year1','gdp1'],axis =1)\n",
    "    africa_value['region']= 'Other Southern Africa'\n",
    "    visitors4 = visitors4.merge(africa_value, left_on=['market', 'year'], right_on=['region', 'year1'], how='left')\n",
    "    visitors4[column] = visitors4[column].fillna(visitors4['gdp1'])\n",
    "    visitors4=visitors4.drop(['region', 'year1','gdp1'],axis =1)\n",
    "    central_south_america = ['Belize','Costa Rica', 'El Salvador','Guatemala', 'Honduras','Nicaragua','Panama', 'Bolivia','Colombia', 'Ecuador', 'Guyana', 'Paraguay', 'Peru', 'Suriname','Uruguay', 'Venezuela']\n",
    "    central_america_value = merger_data[merger_data['country'].isin(central_south_america)].groupby('year')[column].mean().reset_index()\n",
    "    central_america_value['region'] = 'Latin America and the Caribbean'\n",
    "    central_america_value.rename(index=str, columns={\"year\": \"year1\", column: \"gdp1\"}, inplace = True)\n",
    "    visitors4 = visitors4.merge(central_america_value, left_on=['region_x', 'year'], right_on=['region', 'year1'], how='left')\n",
    "    visitors4[column] = visitors4[column].fillna(visitors4['gdp1'])\n",
    "    visitors4=visitors4.drop(['region', 'year1','gdp1'],axis =1)\n",
    "\n",
    "    return visitors4"
   ]
  },
  {
   "cell_type": "code",
   "execution_count": 94,
   "metadata": {
    "collapsed": true
   },
   "outputs": [],
   "source": [
    "new_frame = visitors3\n",
    "for i in  ['PI','econ','busi','gove','educ','heal','safe','pers','soci','envi']:\n",
    "    new_frame = mergedata(new_frame, pi_Pillars, i)\n",
    "    new_frame.rename(index=str, columns={\"region_x\": \"region\"}, inplace = True)"
   ]
  },
  {
   "cell_type": "markdown",
   "metadata": {},
   "source": [
    "# join the econ_var table in the dataframe "
   ]
  },
  {
   "cell_type": "code",
   "execution_count": 95,
   "metadata": {
    "collapsed": true
   },
   "outputs": [],
   "source": [
    "frame = new_frame\n",
    "for i in list(pi_econ_var.iloc[:,list(range(12,34))]):\n",
    "    frame = mergedata(frame, pi_econ_var.iloc[:,[0,3]+list(range(12,34))], i)\n",
    "    frame.rename(index=str, columns={\"region_x\": \"region\"}, inplace = True)"
   ]
  },
  {
   "cell_type": "markdown",
   "metadata": {},
   "source": [
    "# Joion the busi_var table"
   ]
  },
  {
   "cell_type": "code",
   "execution_count": 96,
   "metadata": {
    "collapsed": true
   },
   "outputs": [],
   "source": [
    "for i in list(pi_busi_var.iloc[:,list(range(12,30))]):\n",
    "    frame = mergedata(frame, pi_busi_var.iloc[:,[0,3]+list(range(12,30))], i)\n",
    "    frame.rename(index=str, columns={\"region_x\": \"region\"}, inplace = True)"
   ]
  },
  {
   "cell_type": "markdown",
   "metadata": {},
   "source": [
    "# Join the gove_var table"
   ]
  },
  {
   "cell_type": "code",
   "execution_count": 97,
   "metadata": {
    "collapsed": true
   },
   "outputs": [],
   "source": [
    "for i in list(pi_gove_var.iloc[:, [10,11,12,13]+ list(range(16,34))]):\n",
    "    frame = mergedata(frame, pi_gove_var.iloc[:, [0,3,10,11,12,13]+ list(range(16,34))], i)\n",
    "    frame.rename(index=str, columns={\"region_x\": \"region\"}, inplace = True)\n",
    "\n"
   ]
  },
  {
   "cell_type": "markdown",
   "metadata": {},
   "source": [
    "# join pi_educ_var"
   ]
  },
  {
   "cell_type": "code",
   "execution_count": 98,
   "metadata": {
    "collapsed": true
   },
   "outputs": [],
   "source": [
    "for i in list(pi_educ_var.iloc[:,[8,9,12,13,14,15]+list(range(18,32))]):\n",
    "    frame = mergedata(frame, pi_educ_var.iloc[:,[0,3,8,9,12,13,14,15]+list(range(18,32))], i)\n",
    "    frame.rename(index=str, columns={\"region_x\": \"region\"}, inplace = True)\n"
   ]
  },
  {
   "cell_type": "markdown",
   "metadata": {},
   "source": [
    "# Join heal_var"
   ]
  },
  {
   "cell_type": "code",
   "execution_count": 99,
   "metadata": {
    "collapsed": true
   },
   "outputs": [],
   "source": [
    "for i in list(pi_heal_var.iloc[:,[10,11,14,15,16,17,20,21,22,23,24,25,26,27,30,31]]):\n",
    "    frame = mergedata(frame, pi_heal_var.iloc[:,[0,3,10,11,14,15,16,17,20,21,22,23,24,25,26,27,30,31]], i)\n",
    "    frame.rename(index=str, columns={\"region_x\": \"region\"}, inplace = True)\n",
    "\n"
   ]
  },
  {
   "cell_type": "code",
   "execution_count": 100,
   "metadata": {
    "collapsed": true
   },
   "outputs": [],
   "source": [
    "for i in list(pi_safe_var.iloc[:,[8,9,24,25,28,29]+list(range(12,20))]):\n",
    "    frame = mergedata(frame, pi_safe_var.iloc[:,[0,3,8,9,24,25,28,29]+list(range(12,20))], i)\n",
    "    frame.rename(index=str, columns={\"region_x\": \"region\"}, inplace = True)\n",
    "\n"
   ]
  },
  {
   "cell_type": "code",
   "execution_count": 101,
   "metadata": {
    "collapsed": true
   },
   "outputs": [],
   "source": [
    "for i in list(pi_pers_var.iloc[:, [8,9,10,11,12,13,18,19,22,23,24,25,28,29,30,31]]):\n",
    "    frame = mergedata(frame, pi_pers_var.iloc[:, [0,3,8,9,10,11,12,13,18,19,22,23,24,25,28,29,30,31]], i)\n",
    "    frame.rename(index=str, columns={\"region_x\": \"region\"}, inplace = True)\n"
   ]
  },
  {
   "cell_type": "code",
   "execution_count": 102,
   "metadata": {
    "collapsed": true
   },
   "outputs": [],
   "source": [
    "for i in list(pi_soci_var.iloc[:,[-2,-1]]):\n",
    "    frame = mergedata(frame, pi_soci_var.iloc[:,[0,3,-2,-1]], i)\n",
    "    frame.rename(index=str, columns={\"region_x\": \"region\"}, inplace = True)\n"
   ]
  },
  {
   "cell_type": "code",
   "execution_count": 103,
   "metadata": {
    "collapsed": true
   },
   "outputs": [],
   "source": [
    "for i in list(pi_envi_var.iloc[:,[22,23,24,25]+list(range(8,20))]):\n",
    "    frame = mergedata(frame, pi_envi_var.iloc[:,[0,3,22,23,24,25]+list(range(8,20))], i)\n",
    "    frame.rename(index=str, columns={\"region_x\": \"region\"}, inplace = True)\n"
   ]
  },
  {
   "cell_type": "markdown",
   "metadata": {},
   "source": [
    "# after we join all the data, I am going to check if everything ran smoothly."
   ]
  },
  {
   "cell_type": "code",
   "execution_count": 104,
   "metadata": {},
   "outputs": [
    {
     "data": {
      "text/html": [
       "<div>\n",
       "<style>\n",
       "    .dataframe thead tr:only-child th {\n",
       "        text-align: right;\n",
       "    }\n",
       "\n",
       "    .dataframe thead th {\n",
       "        text-align: left;\n",
       "    }\n",
       "\n",
       "    .dataframe tbody tr th {\n",
       "        vertical-align: top;\n",
       "    }\n",
       "</style>\n",
       "<table border=\"1\" class=\"dataframe\">\n",
       "  <thead>\n",
       "    <tr style=\"text-align: right;\">\n",
       "      <th></th>\n",
       "      <th>year</th>\n",
       "      <th>quarter</th>\n",
       "      <th>market</th>\n",
       "      <th>dur_stay</th>\n",
       "      <th>mode</th>\n",
       "      <th>purpose</th>\n",
       "      <th>area</th>\n",
       "      <th>visits</th>\n",
       "      <th>spend</th>\n",
       "      <th>nights</th>\n",
       "      <th>...</th>\n",
       "      <th>fishstock</th>\n",
       "      <th>fishstock_dtf</th>\n",
       "      <th>fwateruse</th>\n",
       "      <th>fwateruse_dtf</th>\n",
       "      <th>improved_drinkwater</th>\n",
       "      <th>improved_drinkwater_dtf</th>\n",
       "      <th>marineprotect</th>\n",
       "      <th>marineprotect_dtf</th>\n",
       "      <th>pestreg</th>\n",
       "      <th>pestreg_dtf</th>\n",
       "    </tr>\n",
       "  </thead>\n",
       "  <tbody>\n",
       "    <tr>\n",
       "      <th>0</th>\n",
       "      <td>2007</td>\n",
       "      <td>Q1</td>\n",
       "      <td>Belgium</td>\n",
       "      <td>1-3  nights</td>\n",
       "      <td>Air</td>\n",
       "      <td>Holiday</td>\n",
       "      <td>LONDON</td>\n",
       "      <td>0.753385</td>\n",
       "      <td>0.087581</td>\n",
       "      <td>0.753385</td>\n",
       "      <td>...</td>\n",
       "      <td>50.878780</td>\n",
       "      <td>0.491212</td>\n",
       "      <td>51.800000</td>\n",
       "      <td>0.482000</td>\n",
       "      <td>100.000000</td>\n",
       "      <td>1.000000</td>\n",
       "      <td>0.043200</td>\n",
       "      <td>0.000432</td>\n",
       "      <td>23.000000</td>\n",
       "      <td>0.920000</td>\n",
       "    </tr>\n",
       "    <tr>\n",
       "      <th>1</th>\n",
       "      <td>2007</td>\n",
       "      <td>Q1</td>\n",
       "      <td>Belgium</td>\n",
       "      <td>1-3  nights</td>\n",
       "      <td>Air</td>\n",
       "      <td>Business</td>\n",
       "      <td>LONDON</td>\n",
       "      <td>4.625445</td>\n",
       "      <td>1.555299</td>\n",
       "      <td>6.869618</td>\n",
       "      <td>...</td>\n",
       "      <td>50.878780</td>\n",
       "      <td>0.491212</td>\n",
       "      <td>51.800000</td>\n",
       "      <td>0.482000</td>\n",
       "      <td>100.000000</td>\n",
       "      <td>1.000000</td>\n",
       "      <td>0.043200</td>\n",
       "      <td>0.000432</td>\n",
       "      <td>23.000000</td>\n",
       "      <td>0.920000</td>\n",
       "    </tr>\n",
       "    <tr>\n",
       "      <th>2</th>\n",
       "      <td>2007</td>\n",
       "      <td>Q1</td>\n",
       "      <td>Belgium</td>\n",
       "      <td>1-3  nights</td>\n",
       "      <td>Air</td>\n",
       "      <td>VFR</td>\n",
       "      <td>LONDON</td>\n",
       "      <td>1.225540</td>\n",
       "      <td>0.048458</td>\n",
       "      <td>1.793118</td>\n",
       "      <td>...</td>\n",
       "      <td>50.878780</td>\n",
       "      <td>0.491212</td>\n",
       "      <td>51.800000</td>\n",
       "      <td>0.482000</td>\n",
       "      <td>100.000000</td>\n",
       "      <td>1.000000</td>\n",
       "      <td>0.043200</td>\n",
       "      <td>0.000432</td>\n",
       "      <td>23.000000</td>\n",
       "      <td>0.920000</td>\n",
       "    </tr>\n",
       "    <tr>\n",
       "      <th>3</th>\n",
       "      <td>2007</td>\n",
       "      <td>Q1</td>\n",
       "      <td>Belgium</td>\n",
       "      <td>1-3  nights</td>\n",
       "      <td>Air</td>\n",
       "      <td>Miscellaneous</td>\n",
       "      <td>LONDON</td>\n",
       "      <td>1.023070</td>\n",
       "      <td>0.208063</td>\n",
       "      <td>1.776455</td>\n",
       "      <td>...</td>\n",
       "      <td>50.878780</td>\n",
       "      <td>0.491212</td>\n",
       "      <td>51.800000</td>\n",
       "      <td>0.482000</td>\n",
       "      <td>100.000000</td>\n",
       "      <td>1.000000</td>\n",
       "      <td>0.043200</td>\n",
       "      <td>0.000432</td>\n",
       "      <td>23.000000</td>\n",
       "      <td>0.920000</td>\n",
       "    </tr>\n",
       "    <tr>\n",
       "      <th>4</th>\n",
       "      <td>2007</td>\n",
       "      <td>Q1</td>\n",
       "      <td>Belgium</td>\n",
       "      <td>1-3  nights</td>\n",
       "      <td>Sea</td>\n",
       "      <td>Holiday</td>\n",
       "      <td>LONDON</td>\n",
       "      <td>6.439640</td>\n",
       "      <td>0.438086</td>\n",
       "      <td>8.448400</td>\n",
       "      <td>...</td>\n",
       "      <td>50.878780</td>\n",
       "      <td>0.491212</td>\n",
       "      <td>51.800000</td>\n",
       "      <td>0.482000</td>\n",
       "      <td>100.000000</td>\n",
       "      <td>1.000000</td>\n",
       "      <td>0.043200</td>\n",
       "      <td>0.000432</td>\n",
       "      <td>23.000000</td>\n",
       "      <td>0.920000</td>\n",
       "    </tr>\n",
       "    <tr>\n",
       "      <th>5</th>\n",
       "      <td>2007</td>\n",
       "      <td>Q1</td>\n",
       "      <td>Belgium</td>\n",
       "      <td>1-3  nights</td>\n",
       "      <td>Tunnel</td>\n",
       "      <td>Holiday</td>\n",
       "      <td>LONDON</td>\n",
       "      <td>13.735650</td>\n",
       "      <td>3.255361</td>\n",
       "      <td>26.701581</td>\n",
       "      <td>...</td>\n",
       "      <td>50.878780</td>\n",
       "      <td>0.491212</td>\n",
       "      <td>51.800000</td>\n",
       "      <td>0.482000</td>\n",
       "      <td>100.000000</td>\n",
       "      <td>1.000000</td>\n",
       "      <td>0.043200</td>\n",
       "      <td>0.000432</td>\n",
       "      <td>23.000000</td>\n",
       "      <td>0.920000</td>\n",
       "    </tr>\n",
       "    <tr>\n",
       "      <th>6</th>\n",
       "      <td>2007</td>\n",
       "      <td>Q1</td>\n",
       "      <td>Belgium</td>\n",
       "      <td>1-3  nights</td>\n",
       "      <td>Tunnel</td>\n",
       "      <td>Business</td>\n",
       "      <td>LONDON</td>\n",
       "      <td>11.917938</td>\n",
       "      <td>3.212330</td>\n",
       "      <td>17.576485</td>\n",
       "      <td>...</td>\n",
       "      <td>50.878780</td>\n",
       "      <td>0.491212</td>\n",
       "      <td>51.800000</td>\n",
       "      <td>0.482000</td>\n",
       "      <td>100.000000</td>\n",
       "      <td>1.000000</td>\n",
       "      <td>0.043200</td>\n",
       "      <td>0.000432</td>\n",
       "      <td>23.000000</td>\n",
       "      <td>0.920000</td>\n",
       "    </tr>\n",
       "    <tr>\n",
       "      <th>7</th>\n",
       "      <td>2007</td>\n",
       "      <td>Q1</td>\n",
       "      <td>Belgium</td>\n",
       "      <td>1-3  nights</td>\n",
       "      <td>Tunnel</td>\n",
       "      <td>VFR</td>\n",
       "      <td>LONDON</td>\n",
       "      <td>7.796814</td>\n",
       "      <td>1.019411</td>\n",
       "      <td>13.213334</td>\n",
       "      <td>...</td>\n",
       "      <td>50.878780</td>\n",
       "      <td>0.491212</td>\n",
       "      <td>51.800000</td>\n",
       "      <td>0.482000</td>\n",
       "      <td>100.000000</td>\n",
       "      <td>1.000000</td>\n",
       "      <td>0.043200</td>\n",
       "      <td>0.000432</td>\n",
       "      <td>23.000000</td>\n",
       "      <td>0.920000</td>\n",
       "    </tr>\n",
       "    <tr>\n",
       "      <th>8</th>\n",
       "      <td>2007</td>\n",
       "      <td>Q1</td>\n",
       "      <td>Belgium</td>\n",
       "      <td>1-3  nights</td>\n",
       "      <td>Tunnel</td>\n",
       "      <td>Miscellaneous</td>\n",
       "      <td>LONDON</td>\n",
       "      <td>1.232798</td>\n",
       "      <td>0.965997</td>\n",
       "      <td>2.415030</td>\n",
       "      <td>...</td>\n",
       "      <td>50.878780</td>\n",
       "      <td>0.491212</td>\n",
       "      <td>51.800000</td>\n",
       "      <td>0.482000</td>\n",
       "      <td>100.000000</td>\n",
       "      <td>1.000000</td>\n",
       "      <td>0.043200</td>\n",
       "      <td>0.000432</td>\n",
       "      <td>23.000000</td>\n",
       "      <td>0.920000</td>\n",
       "    </tr>\n",
       "    <tr>\n",
       "      <th>9</th>\n",
       "      <td>2007</td>\n",
       "      <td>Q1</td>\n",
       "      <td>Belgium</td>\n",
       "      <td>4-7  nights</td>\n",
       "      <td>Air</td>\n",
       "      <td>Holiday</td>\n",
       "      <td>LONDON</td>\n",
       "      <td>0.276795</td>\n",
       "      <td>0.142273</td>\n",
       "      <td>1.107180</td>\n",
       "      <td>...</td>\n",
       "      <td>50.878780</td>\n",
       "      <td>0.491212</td>\n",
       "      <td>51.800000</td>\n",
       "      <td>0.482000</td>\n",
       "      <td>100.000000</td>\n",
       "      <td>1.000000</td>\n",
       "      <td>0.043200</td>\n",
       "      <td>0.000432</td>\n",
       "      <td>23.000000</td>\n",
       "      <td>0.920000</td>\n",
       "    </tr>\n",
       "    <tr>\n",
       "      <th>10</th>\n",
       "      <td>2007</td>\n",
       "      <td>Q1</td>\n",
       "      <td>Belgium</td>\n",
       "      <td>4-7  nights</td>\n",
       "      <td>Air</td>\n",
       "      <td>Business</td>\n",
       "      <td>LONDON</td>\n",
       "      <td>1.324734</td>\n",
       "      <td>0.928757</td>\n",
       "      <td>5.601461</td>\n",
       "      <td>...</td>\n",
       "      <td>50.878780</td>\n",
       "      <td>0.491212</td>\n",
       "      <td>51.800000</td>\n",
       "      <td>0.482000</td>\n",
       "      <td>100.000000</td>\n",
       "      <td>1.000000</td>\n",
       "      <td>0.043200</td>\n",
       "      <td>0.000432</td>\n",
       "      <td>23.000000</td>\n",
       "      <td>0.920000</td>\n",
       "    </tr>\n",
       "    <tr>\n",
       "      <th>11</th>\n",
       "      <td>2007</td>\n",
       "      <td>Q1</td>\n",
       "      <td>Belgium</td>\n",
       "      <td>4-7  nights</td>\n",
       "      <td>Tunnel</td>\n",
       "      <td>Holiday</td>\n",
       "      <td>LONDON</td>\n",
       "      <td>1.562280</td>\n",
       "      <td>0.490538</td>\n",
       "      <td>6.541170</td>\n",
       "      <td>...</td>\n",
       "      <td>50.878780</td>\n",
       "      <td>0.491212</td>\n",
       "      <td>51.800000</td>\n",
       "      <td>0.482000</td>\n",
       "      <td>100.000000</td>\n",
       "      <td>1.000000</td>\n",
       "      <td>0.043200</td>\n",
       "      <td>0.000432</td>\n",
       "      <td>23.000000</td>\n",
       "      <td>0.920000</td>\n",
       "    </tr>\n",
       "    <tr>\n",
       "      <th>12</th>\n",
       "      <td>2007</td>\n",
       "      <td>Q1</td>\n",
       "      <td>Belgium</td>\n",
       "      <td>4-7  nights</td>\n",
       "      <td>Tunnel</td>\n",
       "      <td>Business</td>\n",
       "      <td>LONDON</td>\n",
       "      <td>1.331751</td>\n",
       "      <td>1.970940</td>\n",
       "      <td>5.764310</td>\n",
       "      <td>...</td>\n",
       "      <td>50.878780</td>\n",
       "      <td>0.491212</td>\n",
       "      <td>51.800000</td>\n",
       "      <td>0.482000</td>\n",
       "      <td>100.000000</td>\n",
       "      <td>1.000000</td>\n",
       "      <td>0.043200</td>\n",
       "      <td>0.000432</td>\n",
       "      <td>23.000000</td>\n",
       "      <td>0.920000</td>\n",
       "    </tr>\n",
       "    <tr>\n",
       "      <th>13</th>\n",
       "      <td>2007</td>\n",
       "      <td>Q1</td>\n",
       "      <td>Belgium</td>\n",
       "      <td>4-7  nights</td>\n",
       "      <td>Tunnel</td>\n",
       "      <td>VFR</td>\n",
       "      <td>LONDON</td>\n",
       "      <td>1.821375</td>\n",
       "      <td>0.450224</td>\n",
       "      <td>9.576130</td>\n",
       "      <td>...</td>\n",
       "      <td>50.878780</td>\n",
       "      <td>0.491212</td>\n",
       "      <td>51.800000</td>\n",
       "      <td>0.482000</td>\n",
       "      <td>100.000000</td>\n",
       "      <td>1.000000</td>\n",
       "      <td>0.043200</td>\n",
       "      <td>0.000432</td>\n",
       "      <td>23.000000</td>\n",
       "      <td>0.920000</td>\n",
       "    </tr>\n",
       "    <tr>\n",
       "      <th>14</th>\n",
       "      <td>2007</td>\n",
       "      <td>Q1</td>\n",
       "      <td>Belgium</td>\n",
       "      <td>8-14 nights</td>\n",
       "      <td>Air</td>\n",
       "      <td>Holiday</td>\n",
       "      <td>LONDON</td>\n",
       "      <td>0.573861</td>\n",
       "      <td>0.327675</td>\n",
       "      <td>5.738610</td>\n",
       "      <td>...</td>\n",
       "      <td>50.878780</td>\n",
       "      <td>0.491212</td>\n",
       "      <td>51.800000</td>\n",
       "      <td>0.482000</td>\n",
       "      <td>100.000000</td>\n",
       "      <td>1.000000</td>\n",
       "      <td>0.043200</td>\n",
       "      <td>0.000432</td>\n",
       "      <td>23.000000</td>\n",
       "      <td>0.920000</td>\n",
       "    </tr>\n",
       "    <tr>\n",
       "      <th>15</th>\n",
       "      <td>2007</td>\n",
       "      <td>Q1</td>\n",
       "      <td>Belgium</td>\n",
       "      <td>8-14 nights</td>\n",
       "      <td>Tunnel</td>\n",
       "      <td>Holiday</td>\n",
       "      <td>LONDON</td>\n",
       "      <td>0.480179</td>\n",
       "      <td>0.159808</td>\n",
       "      <td>4.618460</td>\n",
       "      <td>...</td>\n",
       "      <td>50.878780</td>\n",
       "      <td>0.491212</td>\n",
       "      <td>51.800000</td>\n",
       "      <td>0.482000</td>\n",
       "      <td>100.000000</td>\n",
       "      <td>1.000000</td>\n",
       "      <td>0.043200</td>\n",
       "      <td>0.000432</td>\n",
       "      <td>23.000000</td>\n",
       "      <td>0.920000</td>\n",
       "    </tr>\n",
       "    <tr>\n",
       "      <th>16</th>\n",
       "      <td>2007</td>\n",
       "      <td>Q1</td>\n",
       "      <td>Belgium</td>\n",
       "      <td>8-14 nights</td>\n",
       "      <td>Tunnel</td>\n",
       "      <td>VFR</td>\n",
       "      <td>LONDON</td>\n",
       "      <td>0.882881</td>\n",
       "      <td>0.213311</td>\n",
       "      <td>6.607620</td>\n",
       "      <td>...</td>\n",
       "      <td>50.878780</td>\n",
       "      <td>0.491212</td>\n",
       "      <td>51.800000</td>\n",
       "      <td>0.482000</td>\n",
       "      <td>100.000000</td>\n",
       "      <td>1.000000</td>\n",
       "      <td>0.043200</td>\n",
       "      <td>0.000432</td>\n",
       "      <td>23.000000</td>\n",
       "      <td>0.920000</td>\n",
       "    </tr>\n",
       "    <tr>\n",
       "      <th>17</th>\n",
       "      <td>2007</td>\n",
       "      <td>Q1</td>\n",
       "      <td>Belgium</td>\n",
       "      <td>15+  nights</td>\n",
       "      <td>Tunnel</td>\n",
       "      <td>Holiday</td>\n",
       "      <td>LONDON</td>\n",
       "      <td>0.499645</td>\n",
       "      <td>0.364082</td>\n",
       "      <td>15.858800</td>\n",
       "      <td>...</td>\n",
       "      <td>50.878780</td>\n",
       "      <td>0.491212</td>\n",
       "      <td>51.800000</td>\n",
       "      <td>0.482000</td>\n",
       "      <td>100.000000</td>\n",
       "      <td>1.000000</td>\n",
       "      <td>0.043200</td>\n",
       "      <td>0.000432</td>\n",
       "      <td>23.000000</td>\n",
       "      <td>0.920000</td>\n",
       "    </tr>\n",
       "    <tr>\n",
       "      <th>18</th>\n",
       "      <td>2007</td>\n",
       "      <td>Q1</td>\n",
       "      <td>Luxembourg</td>\n",
       "      <td>1-3  nights</td>\n",
       "      <td>Air</td>\n",
       "      <td>Holiday</td>\n",
       "      <td>LONDON</td>\n",
       "      <td>1.631335</td>\n",
       "      <td>0.627556</td>\n",
       "      <td>3.262660</td>\n",
       "      <td>...</td>\n",
       "      <td>50.878780</td>\n",
       "      <td>0.491212</td>\n",
       "      <td>6.020000</td>\n",
       "      <td>0.939800</td>\n",
       "      <td>100.000000</td>\n",
       "      <td>1.000000</td>\n",
       "      <td>28.023226</td>\n",
       "      <td>0.280232</td>\n",
       "      <td>23.000000</td>\n",
       "      <td>0.920000</td>\n",
       "    </tr>\n",
       "    <tr>\n",
       "      <th>19</th>\n",
       "      <td>2007</td>\n",
       "      <td>Q1</td>\n",
       "      <td>Luxembourg</td>\n",
       "      <td>1-3  nights</td>\n",
       "      <td>Air</td>\n",
       "      <td>Business</td>\n",
       "      <td>LONDON</td>\n",
       "      <td>0.602708</td>\n",
       "      <td>0.249521</td>\n",
       "      <td>0.602708</td>\n",
       "      <td>...</td>\n",
       "      <td>50.878780</td>\n",
       "      <td>0.491212</td>\n",
       "      <td>6.020000</td>\n",
       "      <td>0.939800</td>\n",
       "      <td>100.000000</td>\n",
       "      <td>1.000000</td>\n",
       "      <td>28.023226</td>\n",
       "      <td>0.280232</td>\n",
       "      <td>23.000000</td>\n",
       "      <td>0.920000</td>\n",
       "    </tr>\n",
       "    <tr>\n",
       "      <th>20</th>\n",
       "      <td>2007</td>\n",
       "      <td>Q1</td>\n",
       "      <td>Luxembourg</td>\n",
       "      <td>1-3  nights</td>\n",
       "      <td>Air</td>\n",
       "      <td>VFR</td>\n",
       "      <td>LONDON</td>\n",
       "      <td>0.425915</td>\n",
       "      <td>0.261512</td>\n",
       "      <td>0.851830</td>\n",
       "      <td>...</td>\n",
       "      <td>50.878780</td>\n",
       "      <td>0.491212</td>\n",
       "      <td>6.020000</td>\n",
       "      <td>0.939800</td>\n",
       "      <td>100.000000</td>\n",
       "      <td>1.000000</td>\n",
       "      <td>28.023226</td>\n",
       "      <td>0.280232</td>\n",
       "      <td>23.000000</td>\n",
       "      <td>0.920000</td>\n",
       "    </tr>\n",
       "    <tr>\n",
       "      <th>21</th>\n",
       "      <td>2007</td>\n",
       "      <td>Q1</td>\n",
       "      <td>Luxembourg</td>\n",
       "      <td>1-3  nights</td>\n",
       "      <td>Air</td>\n",
       "      <td>Miscellaneous</td>\n",
       "      <td>LONDON</td>\n",
       "      <td>0.602708</td>\n",
       "      <td>0.309792</td>\n",
       "      <td>1.205420</td>\n",
       "      <td>...</td>\n",
       "      <td>50.878780</td>\n",
       "      <td>0.491212</td>\n",
       "      <td>6.020000</td>\n",
       "      <td>0.939800</td>\n",
       "      <td>100.000000</td>\n",
       "      <td>1.000000</td>\n",
       "      <td>28.023226</td>\n",
       "      <td>0.280232</td>\n",
       "      <td>23.000000</td>\n",
       "      <td>0.920000</td>\n",
       "    </tr>\n",
       "    <tr>\n",
       "      <th>22</th>\n",
       "      <td>2007</td>\n",
       "      <td>Q1</td>\n",
       "      <td>Luxembourg</td>\n",
       "      <td>1-3  nights</td>\n",
       "      <td>Tunnel</td>\n",
       "      <td>Holiday</td>\n",
       "      <td>LONDON</td>\n",
       "      <td>0.422322</td>\n",
       "      <td>0.129024</td>\n",
       "      <td>0.422322</td>\n",
       "      <td>...</td>\n",
       "      <td>50.878780</td>\n",
       "      <td>0.491212</td>\n",
       "      <td>6.020000</td>\n",
       "      <td>0.939800</td>\n",
       "      <td>100.000000</td>\n",
       "      <td>1.000000</td>\n",
       "      <td>28.023226</td>\n",
       "      <td>0.280232</td>\n",
       "      <td>23.000000</td>\n",
       "      <td>0.920000</td>\n",
       "    </tr>\n",
       "    <tr>\n",
       "      <th>23</th>\n",
       "      <td>2007</td>\n",
       "      <td>Q1</td>\n",
       "      <td>Luxembourg</td>\n",
       "      <td>4-7  nights</td>\n",
       "      <td>Air</td>\n",
       "      <td>Business</td>\n",
       "      <td>LONDON</td>\n",
       "      <td>0.602708</td>\n",
       "      <td>0.000000</td>\n",
       "      <td>2.410830</td>\n",
       "      <td>...</td>\n",
       "      <td>50.878780</td>\n",
       "      <td>0.491212</td>\n",
       "      <td>6.020000</td>\n",
       "      <td>0.939800</td>\n",
       "      <td>100.000000</td>\n",
       "      <td>1.000000</td>\n",
       "      <td>28.023226</td>\n",
       "      <td>0.280232</td>\n",
       "      <td>23.000000</td>\n",
       "      <td>0.920000</td>\n",
       "    </tr>\n",
       "    <tr>\n",
       "      <th>24</th>\n",
       "      <td>2007</td>\n",
       "      <td>Q1</td>\n",
       "      <td>Luxembourg</td>\n",
       "      <td>4-7  nights</td>\n",
       "      <td>Air</td>\n",
       "      <td>VFR</td>\n",
       "      <td>LONDON</td>\n",
       "      <td>0.337183</td>\n",
       "      <td>0.072157</td>\n",
       "      <td>1.348730</td>\n",
       "      <td>...</td>\n",
       "      <td>50.878780</td>\n",
       "      <td>0.491212</td>\n",
       "      <td>6.020000</td>\n",
       "      <td>0.939800</td>\n",
       "      <td>100.000000</td>\n",
       "      <td>1.000000</td>\n",
       "      <td>28.023226</td>\n",
       "      <td>0.280232</td>\n",
       "      <td>23.000000</td>\n",
       "      <td>0.920000</td>\n",
       "    </tr>\n",
       "    <tr>\n",
       "      <th>25</th>\n",
       "      <td>2007</td>\n",
       "      <td>Q1</td>\n",
       "      <td>Luxembourg</td>\n",
       "      <td>4-7  nights</td>\n",
       "      <td>Tunnel</td>\n",
       "      <td>VFR</td>\n",
       "      <td>LONDON</td>\n",
       "      <td>0.422322</td>\n",
       "      <td>0.105584</td>\n",
       "      <td>1.689290</td>\n",
       "      <td>...</td>\n",
       "      <td>50.878780</td>\n",
       "      <td>0.491212</td>\n",
       "      <td>6.020000</td>\n",
       "      <td>0.939800</td>\n",
       "      <td>100.000000</td>\n",
       "      <td>1.000000</td>\n",
       "      <td>28.023226</td>\n",
       "      <td>0.280232</td>\n",
       "      <td>23.000000</td>\n",
       "      <td>0.920000</td>\n",
       "    </tr>\n",
       "    <tr>\n",
       "      <th>26</th>\n",
       "      <td>2007</td>\n",
       "      <td>Q1</td>\n",
       "      <td>Luxembourg</td>\n",
       "      <td>8-14 nights</td>\n",
       "      <td>Air</td>\n",
       "      <td>Holiday</td>\n",
       "      <td>LONDON</td>\n",
       "      <td>0.602708</td>\n",
       "      <td>0.231440</td>\n",
       "      <td>6.027080</td>\n",
       "      <td>...</td>\n",
       "      <td>50.878780</td>\n",
       "      <td>0.491212</td>\n",
       "      <td>6.020000</td>\n",
       "      <td>0.939800</td>\n",
       "      <td>100.000000</td>\n",
       "      <td>1.000000</td>\n",
       "      <td>28.023226</td>\n",
       "      <td>0.280232</td>\n",
       "      <td>23.000000</td>\n",
       "      <td>0.920000</td>\n",
       "    </tr>\n",
       "    <tr>\n",
       "      <th>27</th>\n",
       "      <td>2007</td>\n",
       "      <td>Q1</td>\n",
       "      <td>Luxembourg</td>\n",
       "      <td>15+  nights</td>\n",
       "      <td>Tunnel</td>\n",
       "      <td>VFR</td>\n",
       "      <td>LONDON</td>\n",
       "      <td>0.534737</td>\n",
       "      <td>0.000000</td>\n",
       "      <td>8.555790</td>\n",
       "      <td>...</td>\n",
       "      <td>50.878780</td>\n",
       "      <td>0.491212</td>\n",
       "      <td>6.020000</td>\n",
       "      <td>0.939800</td>\n",
       "      <td>100.000000</td>\n",
       "      <td>1.000000</td>\n",
       "      <td>28.023226</td>\n",
       "      <td>0.280232</td>\n",
       "      <td>23.000000</td>\n",
       "      <td>0.920000</td>\n",
       "    </tr>\n",
       "    <tr>\n",
       "      <th>28</th>\n",
       "      <td>2007</td>\n",
       "      <td>Q1</td>\n",
       "      <td>France</td>\n",
       "      <td>1-3  nights</td>\n",
       "      <td>Air</td>\n",
       "      <td>Holiday</td>\n",
       "      <td>LONDON</td>\n",
       "      <td>23.931760</td>\n",
       "      <td>4.395331</td>\n",
       "      <td>51.178427</td>\n",
       "      <td>...</td>\n",
       "      <td>20.151234</td>\n",
       "      <td>0.798488</td>\n",
       "      <td>15.810000</td>\n",
       "      <td>0.841900</td>\n",
       "      <td>100.000000</td>\n",
       "      <td>1.000000</td>\n",
       "      <td>21.339728</td>\n",
       "      <td>0.213397</td>\n",
       "      <td>23.000000</td>\n",
       "      <td>0.920000</td>\n",
       "    </tr>\n",
       "    <tr>\n",
       "      <th>29</th>\n",
       "      <td>2007</td>\n",
       "      <td>Q1</td>\n",
       "      <td>France</td>\n",
       "      <td>1-3  nights</td>\n",
       "      <td>Air</td>\n",
       "      <td>Business</td>\n",
       "      <td>LONDON</td>\n",
       "      <td>35.812234</td>\n",
       "      <td>9.770724</td>\n",
       "      <td>55.116794</td>\n",
       "      <td>...</td>\n",
       "      <td>20.151234</td>\n",
       "      <td>0.798488</td>\n",
       "      <td>15.810000</td>\n",
       "      <td>0.841900</td>\n",
       "      <td>100.000000</td>\n",
       "      <td>1.000000</td>\n",
       "      <td>21.339728</td>\n",
       "      <td>0.213397</td>\n",
       "      <td>23.000000</td>\n",
       "      <td>0.920000</td>\n",
       "    </tr>\n",
       "    <tr>\n",
       "      <th>...</th>\n",
       "      <td>...</td>\n",
       "      <td>...</td>\n",
       "      <td>...</td>\n",
       "      <td>...</td>\n",
       "      <td>...</td>\n",
       "      <td>...</td>\n",
       "      <td>...</td>\n",
       "      <td>...</td>\n",
       "      <td>...</td>\n",
       "      <td>...</td>\n",
       "      <td>...</td>\n",
       "      <td>...</td>\n",
       "      <td>...</td>\n",
       "      <td>...</td>\n",
       "      <td>...</td>\n",
       "      <td>...</td>\n",
       "      <td>...</td>\n",
       "      <td>...</td>\n",
       "      <td>...</td>\n",
       "      <td>...</td>\n",
       "      <td>...</td>\n",
       "    </tr>\n",
       "    <tr>\n",
       "      <th>35885</th>\n",
       "      <td>2017</td>\n",
       "      <td>Q4</td>\n",
       "      <td>Nigeria</td>\n",
       "      <td>1-3  nights</td>\n",
       "      <td>Air</td>\n",
       "      <td>VFR</td>\n",
       "      <td>LONDON</td>\n",
       "      <td>0.433277</td>\n",
       "      <td>1.307942</td>\n",
       "      <td>1.397436</td>\n",
       "      <td>...</td>\n",
       "      <td>19.670000</td>\n",
       "      <td>0.803300</td>\n",
       "      <td>5.932127</td>\n",
       "      <td>0.940679</td>\n",
       "      <td>68.500000</td>\n",
       "      <td>0.606250</td>\n",
       "      <td>0.200000</td>\n",
       "      <td>0.002000</td>\n",
       "      <td>21.000000</td>\n",
       "      <td>0.840000</td>\n",
       "    </tr>\n",
       "    <tr>\n",
       "      <th>35886</th>\n",
       "      <td>2017</td>\n",
       "      <td>Q4</td>\n",
       "      <td>Nigeria</td>\n",
       "      <td>1-3  nights</td>\n",
       "      <td>Air</td>\n",
       "      <td>Miscellaneous</td>\n",
       "      <td>LONDON</td>\n",
       "      <td>1.597243</td>\n",
       "      <td>1.038810</td>\n",
       "      <td>2.902949</td>\n",
       "      <td>...</td>\n",
       "      <td>19.670000</td>\n",
       "      <td>0.803300</td>\n",
       "      <td>5.932127</td>\n",
       "      <td>0.940679</td>\n",
       "      <td>68.500000</td>\n",
       "      <td>0.606250</td>\n",
       "      <td>0.200000</td>\n",
       "      <td>0.002000</td>\n",
       "      <td>21.000000</td>\n",
       "      <td>0.840000</td>\n",
       "    </tr>\n",
       "    <tr>\n",
       "      <th>35887</th>\n",
       "      <td>2017</td>\n",
       "      <td>Q4</td>\n",
       "      <td>Nigeria</td>\n",
       "      <td>1-3  nights</td>\n",
       "      <td>Tunnel</td>\n",
       "      <td>Miscellaneous</td>\n",
       "      <td>LONDON</td>\n",
       "      <td>1.679539</td>\n",
       "      <td>0.085518</td>\n",
       "      <td>1.672211</td>\n",
       "      <td>...</td>\n",
       "      <td>19.670000</td>\n",
       "      <td>0.803300</td>\n",
       "      <td>5.932127</td>\n",
       "      <td>0.940679</td>\n",
       "      <td>68.500000</td>\n",
       "      <td>0.606250</td>\n",
       "      <td>0.200000</td>\n",
       "      <td>0.002000</td>\n",
       "      <td>21.000000</td>\n",
       "      <td>0.840000</td>\n",
       "    </tr>\n",
       "    <tr>\n",
       "      <th>35888</th>\n",
       "      <td>2017</td>\n",
       "      <td>Q4</td>\n",
       "      <td>Nigeria</td>\n",
       "      <td>4-7  nights</td>\n",
       "      <td>Air</td>\n",
       "      <td>Holiday</td>\n",
       "      <td>LONDON</td>\n",
       "      <td>0.404903</td>\n",
       "      <td>2.977542</td>\n",
       "      <td>2.428907</td>\n",
       "      <td>...</td>\n",
       "      <td>19.670000</td>\n",
       "      <td>0.803300</td>\n",
       "      <td>5.932127</td>\n",
       "      <td>0.940679</td>\n",
       "      <td>68.500000</td>\n",
       "      <td>0.606250</td>\n",
       "      <td>0.200000</td>\n",
       "      <td>0.002000</td>\n",
       "      <td>21.000000</td>\n",
       "      <td>0.840000</td>\n",
       "    </tr>\n",
       "    <tr>\n",
       "      <th>35889</th>\n",
       "      <td>2017</td>\n",
       "      <td>Q4</td>\n",
       "      <td>Nigeria</td>\n",
       "      <td>4-7  nights</td>\n",
       "      <td>Air</td>\n",
       "      <td>Business</td>\n",
       "      <td>LONDON</td>\n",
       "      <td>2.411211</td>\n",
       "      <td>5.715183</td>\n",
       "      <td>12.818130</td>\n",
       "      <td>...</td>\n",
       "      <td>19.670000</td>\n",
       "      <td>0.803300</td>\n",
       "      <td>5.932127</td>\n",
       "      <td>0.940679</td>\n",
       "      <td>68.500000</td>\n",
       "      <td>0.606250</td>\n",
       "      <td>0.200000</td>\n",
       "      <td>0.002000</td>\n",
       "      <td>21.000000</td>\n",
       "      <td>0.840000</td>\n",
       "    </tr>\n",
       "    <tr>\n",
       "      <th>35890</th>\n",
       "      <td>2017</td>\n",
       "      <td>Q4</td>\n",
       "      <td>Nigeria</td>\n",
       "      <td>4-7  nights</td>\n",
       "      <td>Air</td>\n",
       "      <td>VFR</td>\n",
       "      <td>LONDON</td>\n",
       "      <td>1.623791</td>\n",
       "      <td>0.753341</td>\n",
       "      <td>10.144823</td>\n",
       "      <td>...</td>\n",
       "      <td>19.670000</td>\n",
       "      <td>0.803300</td>\n",
       "      <td>5.932127</td>\n",
       "      <td>0.940679</td>\n",
       "      <td>68.500000</td>\n",
       "      <td>0.606250</td>\n",
       "      <td>0.200000</td>\n",
       "      <td>0.002000</td>\n",
       "      <td>21.000000</td>\n",
       "      <td>0.840000</td>\n",
       "    </tr>\n",
       "    <tr>\n",
       "      <th>35891</th>\n",
       "      <td>2017</td>\n",
       "      <td>Q4</td>\n",
       "      <td>Nigeria</td>\n",
       "      <td>8-14 nights</td>\n",
       "      <td>Air</td>\n",
       "      <td>Holiday</td>\n",
       "      <td>LONDON</td>\n",
       "      <td>0.422631</td>\n",
       "      <td>0.102757</td>\n",
       "      <td>7.098703</td>\n",
       "      <td>...</td>\n",
       "      <td>19.670000</td>\n",
       "      <td>0.803300</td>\n",
       "      <td>5.932127</td>\n",
       "      <td>0.940679</td>\n",
       "      <td>68.500000</td>\n",
       "      <td>0.606250</td>\n",
       "      <td>0.200000</td>\n",
       "      <td>0.002000</td>\n",
       "      <td>21.000000</td>\n",
       "      <td>0.840000</td>\n",
       "    </tr>\n",
       "    <tr>\n",
       "      <th>35892</th>\n",
       "      <td>2017</td>\n",
       "      <td>Q4</td>\n",
       "      <td>Nigeria</td>\n",
       "      <td>8-14 nights</td>\n",
       "      <td>Air</td>\n",
       "      <td>Business</td>\n",
       "      <td>LONDON</td>\n",
       "      <td>1.970773</td>\n",
       "      <td>3.484588</td>\n",
       "      <td>18.771442</td>\n",
       "      <td>...</td>\n",
       "      <td>19.670000</td>\n",
       "      <td>0.803300</td>\n",
       "      <td>5.932127</td>\n",
       "      <td>0.940679</td>\n",
       "      <td>68.500000</td>\n",
       "      <td>0.606250</td>\n",
       "      <td>0.200000</td>\n",
       "      <td>0.002000</td>\n",
       "      <td>21.000000</td>\n",
       "      <td>0.840000</td>\n",
       "    </tr>\n",
       "    <tr>\n",
       "      <th>35893</th>\n",
       "      <td>2017</td>\n",
       "      <td>Q4</td>\n",
       "      <td>Nigeria</td>\n",
       "      <td>8-14 nights</td>\n",
       "      <td>Air</td>\n",
       "      <td>VFR</td>\n",
       "      <td>LONDON</td>\n",
       "      <td>2.738627</td>\n",
       "      <td>1.172205</td>\n",
       "      <td>39.356604</td>\n",
       "      <td>...</td>\n",
       "      <td>19.670000</td>\n",
       "      <td>0.803300</td>\n",
       "      <td>5.932127</td>\n",
       "      <td>0.940679</td>\n",
       "      <td>68.500000</td>\n",
       "      <td>0.606250</td>\n",
       "      <td>0.200000</td>\n",
       "      <td>0.002000</td>\n",
       "      <td>21.000000</td>\n",
       "      <td>0.840000</td>\n",
       "    </tr>\n",
       "    <tr>\n",
       "      <th>35894</th>\n",
       "      <td>2017</td>\n",
       "      <td>Q4</td>\n",
       "      <td>Nigeria</td>\n",
       "      <td>15+  nights</td>\n",
       "      <td>Air</td>\n",
       "      <td>Holiday</td>\n",
       "      <td>LONDON</td>\n",
       "      <td>2.934471</td>\n",
       "      <td>7.094676</td>\n",
       "      <td>123.785109</td>\n",
       "      <td>...</td>\n",
       "      <td>19.670000</td>\n",
       "      <td>0.803300</td>\n",
       "      <td>5.932127</td>\n",
       "      <td>0.940679</td>\n",
       "      <td>68.500000</td>\n",
       "      <td>0.606250</td>\n",
       "      <td>0.200000</td>\n",
       "      <td>0.002000</td>\n",
       "      <td>21.000000</td>\n",
       "      <td>0.840000</td>\n",
       "    </tr>\n",
       "    <tr>\n",
       "      <th>35895</th>\n",
       "      <td>2017</td>\n",
       "      <td>Q4</td>\n",
       "      <td>Nigeria</td>\n",
       "      <td>15+  nights</td>\n",
       "      <td>Air</td>\n",
       "      <td>VFR</td>\n",
       "      <td>LONDON</td>\n",
       "      <td>3.267197</td>\n",
       "      <td>3.788938</td>\n",
       "      <td>197.976237</td>\n",
       "      <td>...</td>\n",
       "      <td>19.670000</td>\n",
       "      <td>0.803300</td>\n",
       "      <td>5.932127</td>\n",
       "      <td>0.940679</td>\n",
       "      <td>68.500000</td>\n",
       "      <td>0.606250</td>\n",
       "      <td>0.200000</td>\n",
       "      <td>0.002000</td>\n",
       "      <td>21.000000</td>\n",
       "      <td>0.840000</td>\n",
       "    </tr>\n",
       "    <tr>\n",
       "      <th>35896</th>\n",
       "      <td>2017</td>\n",
       "      <td>Q4</td>\n",
       "      <td>Kenya</td>\n",
       "      <td>1-3  nights</td>\n",
       "      <td>Air</td>\n",
       "      <td>Business</td>\n",
       "      <td>LONDON</td>\n",
       "      <td>0.818114</td>\n",
       "      <td>1.108544</td>\n",
       "      <td>1.636228</td>\n",
       "      <td>...</td>\n",
       "      <td>33.060000</td>\n",
       "      <td>0.669400</td>\n",
       "      <td>15.545894</td>\n",
       "      <td>0.844541</td>\n",
       "      <td>63.200001</td>\n",
       "      <td>0.540000</td>\n",
       "      <td>10.000000</td>\n",
       "      <td>0.100000</td>\n",
       "      <td>21.000000</td>\n",
       "      <td>0.840000</td>\n",
       "    </tr>\n",
       "    <tr>\n",
       "      <th>35897</th>\n",
       "      <td>2017</td>\n",
       "      <td>Q4</td>\n",
       "      <td>Kenya</td>\n",
       "      <td>1-3  nights</td>\n",
       "      <td>Air</td>\n",
       "      <td>VFR</td>\n",
       "      <td>LONDON</td>\n",
       "      <td>1.061910</td>\n",
       "      <td>3.362005</td>\n",
       "      <td>3.185730</td>\n",
       "      <td>...</td>\n",
       "      <td>33.060000</td>\n",
       "      <td>0.669400</td>\n",
       "      <td>15.545894</td>\n",
       "      <td>0.844541</td>\n",
       "      <td>63.200001</td>\n",
       "      <td>0.540000</td>\n",
       "      <td>10.000000</td>\n",
       "      <td>0.100000</td>\n",
       "      <td>21.000000</td>\n",
       "      <td>0.840000</td>\n",
       "    </tr>\n",
       "    <tr>\n",
       "      <th>35898</th>\n",
       "      <td>2017</td>\n",
       "      <td>Q4</td>\n",
       "      <td>Kenya</td>\n",
       "      <td>1-3  nights</td>\n",
       "      <td>Air</td>\n",
       "      <td>Miscellaneous</td>\n",
       "      <td>LONDON</td>\n",
       "      <td>0.409057</td>\n",
       "      <td>0.169759</td>\n",
       "      <td>0.409057</td>\n",
       "      <td>...</td>\n",
       "      <td>33.060000</td>\n",
       "      <td>0.669400</td>\n",
       "      <td>15.545894</td>\n",
       "      <td>0.844541</td>\n",
       "      <td>63.200001</td>\n",
       "      <td>0.540000</td>\n",
       "      <td>10.000000</td>\n",
       "      <td>0.100000</td>\n",
       "      <td>21.000000</td>\n",
       "      <td>0.840000</td>\n",
       "    </tr>\n",
       "    <tr>\n",
       "      <th>35899</th>\n",
       "      <td>2017</td>\n",
       "      <td>Q4</td>\n",
       "      <td>Kenya</td>\n",
       "      <td>4-7  nights</td>\n",
       "      <td>Air</td>\n",
       "      <td>Business</td>\n",
       "      <td>LONDON</td>\n",
       "      <td>1.134279</td>\n",
       "      <td>1.405863</td>\n",
       "      <td>4.537116</td>\n",
       "      <td>...</td>\n",
       "      <td>33.060000</td>\n",
       "      <td>0.669400</td>\n",
       "      <td>15.545894</td>\n",
       "      <td>0.844541</td>\n",
       "      <td>63.200001</td>\n",
       "      <td>0.540000</td>\n",
       "      <td>10.000000</td>\n",
       "      <td>0.100000</td>\n",
       "      <td>21.000000</td>\n",
       "      <td>0.840000</td>\n",
       "    </tr>\n",
       "    <tr>\n",
       "      <th>35900</th>\n",
       "      <td>2017</td>\n",
       "      <td>Q4</td>\n",
       "      <td>Kenya</td>\n",
       "      <td>8-14 nights</td>\n",
       "      <td>Air</td>\n",
       "      <td>Holiday</td>\n",
       "      <td>LONDON</td>\n",
       "      <td>0.551947</td>\n",
       "      <td>0.284253</td>\n",
       "      <td>5.519470</td>\n",
       "      <td>...</td>\n",
       "      <td>33.060000</td>\n",
       "      <td>0.669400</td>\n",
       "      <td>15.545894</td>\n",
       "      <td>0.844541</td>\n",
       "      <td>63.200001</td>\n",
       "      <td>0.540000</td>\n",
       "      <td>10.000000</td>\n",
       "      <td>0.100000</td>\n",
       "      <td>21.000000</td>\n",
       "      <td>0.840000</td>\n",
       "    </tr>\n",
       "    <tr>\n",
       "      <th>35901</th>\n",
       "      <td>2017</td>\n",
       "      <td>Q4</td>\n",
       "      <td>Kenya</td>\n",
       "      <td>8-14 nights</td>\n",
       "      <td>Air</td>\n",
       "      <td>Business</td>\n",
       "      <td>LONDON</td>\n",
       "      <td>0.951888</td>\n",
       "      <td>0.184380</td>\n",
       "      <td>0.951888</td>\n",
       "      <td>...</td>\n",
       "      <td>33.060000</td>\n",
       "      <td>0.669400</td>\n",
       "      <td>15.545894</td>\n",
       "      <td>0.844541</td>\n",
       "      <td>63.200001</td>\n",
       "      <td>0.540000</td>\n",
       "      <td>10.000000</td>\n",
       "      <td>0.100000</td>\n",
       "      <td>21.000000</td>\n",
       "      <td>0.840000</td>\n",
       "    </tr>\n",
       "    <tr>\n",
       "      <th>35902</th>\n",
       "      <td>2017</td>\n",
       "      <td>Q4</td>\n",
       "      <td>Kenya</td>\n",
       "      <td>8-14 nights</td>\n",
       "      <td>Air</td>\n",
       "      <td>VFR</td>\n",
       "      <td>LONDON</td>\n",
       "      <td>0.961004</td>\n",
       "      <td>0.535823</td>\n",
       "      <td>11.674938</td>\n",
       "      <td>...</td>\n",
       "      <td>33.060000</td>\n",
       "      <td>0.669400</td>\n",
       "      <td>15.545894</td>\n",
       "      <td>0.844541</td>\n",
       "      <td>63.200001</td>\n",
       "      <td>0.540000</td>\n",
       "      <td>10.000000</td>\n",
       "      <td>0.100000</td>\n",
       "      <td>21.000000</td>\n",
       "      <td>0.840000</td>\n",
       "    </tr>\n",
       "    <tr>\n",
       "      <th>35903</th>\n",
       "      <td>2017</td>\n",
       "      <td>Q4</td>\n",
       "      <td>Kenya</td>\n",
       "      <td>15+  nights</td>\n",
       "      <td>Air</td>\n",
       "      <td>Holiday</td>\n",
       "      <td>LONDON</td>\n",
       "      <td>0.551947</td>\n",
       "      <td>0.836200</td>\n",
       "      <td>14.902569</td>\n",
       "      <td>...</td>\n",
       "      <td>33.060000</td>\n",
       "      <td>0.669400</td>\n",
       "      <td>15.545894</td>\n",
       "      <td>0.844541</td>\n",
       "      <td>63.200001</td>\n",
       "      <td>0.540000</td>\n",
       "      <td>10.000000</td>\n",
       "      <td>0.100000</td>\n",
       "      <td>21.000000</td>\n",
       "      <td>0.840000</td>\n",
       "    </tr>\n",
       "    <tr>\n",
       "      <th>35904</th>\n",
       "      <td>2017</td>\n",
       "      <td>Q4</td>\n",
       "      <td>Kenya</td>\n",
       "      <td>15+  nights</td>\n",
       "      <td>Air</td>\n",
       "      <td>VFR</td>\n",
       "      <td>LONDON</td>\n",
       "      <td>3.505870</td>\n",
       "      <td>2.267393</td>\n",
       "      <td>87.144597</td>\n",
       "      <td>...</td>\n",
       "      <td>33.060000</td>\n",
       "      <td>0.669400</td>\n",
       "      <td>15.545894</td>\n",
       "      <td>0.844541</td>\n",
       "      <td>63.200001</td>\n",
       "      <td>0.540000</td>\n",
       "      <td>10.000000</td>\n",
       "      <td>0.100000</td>\n",
       "      <td>21.000000</td>\n",
       "      <td>0.840000</td>\n",
       "    </tr>\n",
       "    <tr>\n",
       "      <th>35905</th>\n",
       "      <td>2017</td>\n",
       "      <td>Q4</td>\n",
       "      <td>Other Africa</td>\n",
       "      <td>1-3  nights</td>\n",
       "      <td>Air</td>\n",
       "      <td>Business</td>\n",
       "      <td>LONDON</td>\n",
       "      <td>2.722962</td>\n",
       "      <td>3.836052</td>\n",
       "      <td>5.773990</td>\n",
       "      <td>...</td>\n",
       "      <td>32.662882</td>\n",
       "      <td>0.673371</td>\n",
       "      <td>90.878385</td>\n",
       "      <td>0.091216</td>\n",
       "      <td>98.910180</td>\n",
       "      <td>0.986377</td>\n",
       "      <td>5.937725</td>\n",
       "      <td>0.059377</td>\n",
       "      <td>17.191617</td>\n",
       "      <td>0.687665</td>\n",
       "    </tr>\n",
       "    <tr>\n",
       "      <th>35906</th>\n",
       "      <td>2017</td>\n",
       "      <td>Q4</td>\n",
       "      <td>Other Africa</td>\n",
       "      <td>1-3  nights</td>\n",
       "      <td>Air</td>\n",
       "      <td>VFR</td>\n",
       "      <td>LONDON</td>\n",
       "      <td>5.111294</td>\n",
       "      <td>20.181652</td>\n",
       "      <td>11.712981</td>\n",
       "      <td>...</td>\n",
       "      <td>32.662882</td>\n",
       "      <td>0.673371</td>\n",
       "      <td>90.878385</td>\n",
       "      <td>0.091216</td>\n",
       "      <td>98.910180</td>\n",
       "      <td>0.986377</td>\n",
       "      <td>5.937725</td>\n",
       "      <td>0.059377</td>\n",
       "      <td>17.191617</td>\n",
       "      <td>0.687665</td>\n",
       "    </tr>\n",
       "    <tr>\n",
       "      <th>35907</th>\n",
       "      <td>2017</td>\n",
       "      <td>Q4</td>\n",
       "      <td>Other Africa</td>\n",
       "      <td>4-7  nights</td>\n",
       "      <td>Air</td>\n",
       "      <td>Holiday</td>\n",
       "      <td>LONDON</td>\n",
       "      <td>2.279531</td>\n",
       "      <td>2.909377</td>\n",
       "      <td>10.835093</td>\n",
       "      <td>...</td>\n",
       "      <td>32.662882</td>\n",
       "      <td>0.673371</td>\n",
       "      <td>90.878385</td>\n",
       "      <td>0.091216</td>\n",
       "      <td>98.910180</td>\n",
       "      <td>0.986377</td>\n",
       "      <td>5.937725</td>\n",
       "      <td>0.059377</td>\n",
       "      <td>17.191617</td>\n",
       "      <td>0.687665</td>\n",
       "    </tr>\n",
       "    <tr>\n",
       "      <th>35908</th>\n",
       "      <td>2017</td>\n",
       "      <td>Q4</td>\n",
       "      <td>Other Africa</td>\n",
       "      <td>4-7  nights</td>\n",
       "      <td>Air</td>\n",
       "      <td>Business</td>\n",
       "      <td>LONDON</td>\n",
       "      <td>4.976326</td>\n",
       "      <td>8.209703</td>\n",
       "      <td>25.296605</td>\n",
       "      <td>...</td>\n",
       "      <td>32.662882</td>\n",
       "      <td>0.673371</td>\n",
       "      <td>90.878385</td>\n",
       "      <td>0.091216</td>\n",
       "      <td>98.910180</td>\n",
       "      <td>0.986377</td>\n",
       "      <td>5.937725</td>\n",
       "      <td>0.059377</td>\n",
       "      <td>17.191617</td>\n",
       "      <td>0.687665</td>\n",
       "    </tr>\n",
       "    <tr>\n",
       "      <th>35909</th>\n",
       "      <td>2017</td>\n",
       "      <td>Q4</td>\n",
       "      <td>Other Africa</td>\n",
       "      <td>8-14 nights</td>\n",
       "      <td>Air</td>\n",
       "      <td>Holiday</td>\n",
       "      <td>LONDON</td>\n",
       "      <td>4.550632</td>\n",
       "      <td>2.684352</td>\n",
       "      <td>49.047506</td>\n",
       "      <td>...</td>\n",
       "      <td>32.662882</td>\n",
       "      <td>0.673371</td>\n",
       "      <td>90.878385</td>\n",
       "      <td>0.091216</td>\n",
       "      <td>98.910180</td>\n",
       "      <td>0.986377</td>\n",
       "      <td>5.937725</td>\n",
       "      <td>0.059377</td>\n",
       "      <td>17.191617</td>\n",
       "      <td>0.687665</td>\n",
       "    </tr>\n",
       "    <tr>\n",
       "      <th>35910</th>\n",
       "      <td>2017</td>\n",
       "      <td>Q4</td>\n",
       "      <td>Other Africa</td>\n",
       "      <td>8-14 nights</td>\n",
       "      <td>Air</td>\n",
       "      <td>Business</td>\n",
       "      <td>LONDON</td>\n",
       "      <td>0.498958</td>\n",
       "      <td>1.402755</td>\n",
       "      <td>4.853027</td>\n",
       "      <td>...</td>\n",
       "      <td>32.662882</td>\n",
       "      <td>0.673371</td>\n",
       "      <td>90.878385</td>\n",
       "      <td>0.091216</td>\n",
       "      <td>98.910180</td>\n",
       "      <td>0.986377</td>\n",
       "      <td>5.937725</td>\n",
       "      <td>0.059377</td>\n",
       "      <td>17.191617</td>\n",
       "      <td>0.687665</td>\n",
       "    </tr>\n",
       "    <tr>\n",
       "      <th>35911</th>\n",
       "      <td>2017</td>\n",
       "      <td>Q4</td>\n",
       "      <td>Other Africa</td>\n",
       "      <td>8-14 nights</td>\n",
       "      <td>Air</td>\n",
       "      <td>VFR</td>\n",
       "      <td>LONDON</td>\n",
       "      <td>6.639372</td>\n",
       "      <td>2.399617</td>\n",
       "      <td>52.929674</td>\n",
       "      <td>...</td>\n",
       "      <td>32.662882</td>\n",
       "      <td>0.673371</td>\n",
       "      <td>90.878385</td>\n",
       "      <td>0.091216</td>\n",
       "      <td>98.910180</td>\n",
       "      <td>0.986377</td>\n",
       "      <td>5.937725</td>\n",
       "      <td>0.059377</td>\n",
       "      <td>17.191617</td>\n",
       "      <td>0.687665</td>\n",
       "    </tr>\n",
       "    <tr>\n",
       "      <th>35912</th>\n",
       "      <td>2017</td>\n",
       "      <td>Q4</td>\n",
       "      <td>Other Africa</td>\n",
       "      <td>8-14 nights</td>\n",
       "      <td>Air</td>\n",
       "      <td>Miscellaneous</td>\n",
       "      <td>LONDON</td>\n",
       "      <td>0.400294</td>\n",
       "      <td>0.806592</td>\n",
       "      <td>4.002940</td>\n",
       "      <td>...</td>\n",
       "      <td>32.662882</td>\n",
       "      <td>0.673371</td>\n",
       "      <td>90.878385</td>\n",
       "      <td>0.091216</td>\n",
       "      <td>98.910180</td>\n",
       "      <td>0.986377</td>\n",
       "      <td>5.937725</td>\n",
       "      <td>0.059377</td>\n",
       "      <td>17.191617</td>\n",
       "      <td>0.687665</td>\n",
       "    </tr>\n",
       "    <tr>\n",
       "      <th>35913</th>\n",
       "      <td>2017</td>\n",
       "      <td>Q4</td>\n",
       "      <td>Other Africa</td>\n",
       "      <td>15+  nights</td>\n",
       "      <td>Air</td>\n",
       "      <td>Business</td>\n",
       "      <td>LONDON</td>\n",
       "      <td>0.562562</td>\n",
       "      <td>1.133562</td>\n",
       "      <td>9.000992</td>\n",
       "      <td>...</td>\n",
       "      <td>32.662882</td>\n",
       "      <td>0.673371</td>\n",
       "      <td>90.878385</td>\n",
       "      <td>0.091216</td>\n",
       "      <td>98.910180</td>\n",
       "      <td>0.986377</td>\n",
       "      <td>5.937725</td>\n",
       "      <td>0.059377</td>\n",
       "      <td>17.191617</td>\n",
       "      <td>0.687665</td>\n",
       "    </tr>\n",
       "    <tr>\n",
       "      <th>35914</th>\n",
       "      <td>2017</td>\n",
       "      <td>Q4</td>\n",
       "      <td>Other Africa</td>\n",
       "      <td>15+  nights</td>\n",
       "      <td>Air</td>\n",
       "      <td>VFR</td>\n",
       "      <td>LONDON</td>\n",
       "      <td>4.652418</td>\n",
       "      <td>2.200366</td>\n",
       "      <td>222.104392</td>\n",
       "      <td>...</td>\n",
       "      <td>32.662882</td>\n",
       "      <td>0.673371</td>\n",
       "      <td>90.878385</td>\n",
       "      <td>0.091216</td>\n",
       "      <td>98.910180</td>\n",
       "      <td>0.986377</td>\n",
       "      <td>5.937725</td>\n",
       "      <td>0.059377</td>\n",
       "      <td>17.191617</td>\n",
       "      <td>0.687665</td>\n",
       "    </tr>\n",
       "  </tbody>\n",
       "</table>\n",
       "<p>35915 rows × 169 columns</p>\n",
       "</div>"
      ],
      "text/plain": [
       "       year quarter        market     dur_stay    mode        purpose  \\\n",
       "0      2007      Q1       Belgium  1-3  nights     Air        Holiday   \n",
       "1      2007      Q1       Belgium  1-3  nights     Air       Business   \n",
       "2      2007      Q1       Belgium  1-3  nights     Air            VFR   \n",
       "3      2007      Q1       Belgium  1-3  nights     Air  Miscellaneous   \n",
       "4      2007      Q1       Belgium  1-3  nights     Sea        Holiday   \n",
       "5      2007      Q1       Belgium  1-3  nights  Tunnel        Holiday   \n",
       "6      2007      Q1       Belgium  1-3  nights  Tunnel       Business   \n",
       "7      2007      Q1       Belgium  1-3  nights  Tunnel            VFR   \n",
       "8      2007      Q1       Belgium  1-3  nights  Tunnel  Miscellaneous   \n",
       "9      2007      Q1       Belgium  4-7  nights     Air        Holiday   \n",
       "10     2007      Q1       Belgium  4-7  nights     Air       Business   \n",
       "11     2007      Q1       Belgium  4-7  nights  Tunnel        Holiday   \n",
       "12     2007      Q1       Belgium  4-7  nights  Tunnel       Business   \n",
       "13     2007      Q1       Belgium  4-7  nights  Tunnel            VFR   \n",
       "14     2007      Q1       Belgium  8-14 nights     Air        Holiday   \n",
       "15     2007      Q1       Belgium  8-14 nights  Tunnel        Holiday   \n",
       "16     2007      Q1       Belgium  8-14 nights  Tunnel            VFR   \n",
       "17     2007      Q1       Belgium  15+  nights  Tunnel        Holiday   \n",
       "18     2007      Q1    Luxembourg  1-3  nights     Air        Holiday   \n",
       "19     2007      Q1    Luxembourg  1-3  nights     Air       Business   \n",
       "20     2007      Q1    Luxembourg  1-3  nights     Air            VFR   \n",
       "21     2007      Q1    Luxembourg  1-3  nights     Air  Miscellaneous   \n",
       "22     2007      Q1    Luxembourg  1-3  nights  Tunnel        Holiday   \n",
       "23     2007      Q1    Luxembourg  4-7  nights     Air       Business   \n",
       "24     2007      Q1    Luxembourg  4-7  nights     Air            VFR   \n",
       "25     2007      Q1    Luxembourg  4-7  nights  Tunnel            VFR   \n",
       "26     2007      Q1    Luxembourg  8-14 nights     Air        Holiday   \n",
       "27     2007      Q1    Luxembourg  15+  nights  Tunnel            VFR   \n",
       "28     2007      Q1        France  1-3  nights     Air        Holiday   \n",
       "29     2007      Q1        France  1-3  nights     Air       Business   \n",
       "...     ...     ...           ...          ...     ...            ...   \n",
       "35885  2017      Q4       Nigeria  1-3  nights     Air            VFR   \n",
       "35886  2017      Q4       Nigeria  1-3  nights     Air  Miscellaneous   \n",
       "35887  2017      Q4       Nigeria  1-3  nights  Tunnel  Miscellaneous   \n",
       "35888  2017      Q4       Nigeria  4-7  nights     Air        Holiday   \n",
       "35889  2017      Q4       Nigeria  4-7  nights     Air       Business   \n",
       "35890  2017      Q4       Nigeria  4-7  nights     Air            VFR   \n",
       "35891  2017      Q4       Nigeria  8-14 nights     Air        Holiday   \n",
       "35892  2017      Q4       Nigeria  8-14 nights     Air       Business   \n",
       "35893  2017      Q4       Nigeria  8-14 nights     Air            VFR   \n",
       "35894  2017      Q4       Nigeria  15+  nights     Air        Holiday   \n",
       "35895  2017      Q4       Nigeria  15+  nights     Air            VFR   \n",
       "35896  2017      Q4         Kenya  1-3  nights     Air       Business   \n",
       "35897  2017      Q4         Kenya  1-3  nights     Air            VFR   \n",
       "35898  2017      Q4         Kenya  1-3  nights     Air  Miscellaneous   \n",
       "35899  2017      Q4         Kenya  4-7  nights     Air       Business   \n",
       "35900  2017      Q4         Kenya  8-14 nights     Air        Holiday   \n",
       "35901  2017      Q4         Kenya  8-14 nights     Air       Business   \n",
       "35902  2017      Q4         Kenya  8-14 nights     Air            VFR   \n",
       "35903  2017      Q4         Kenya  15+  nights     Air        Holiday   \n",
       "35904  2017      Q4         Kenya  15+  nights     Air            VFR   \n",
       "35905  2017      Q4  Other Africa  1-3  nights     Air       Business   \n",
       "35906  2017      Q4  Other Africa  1-3  nights     Air            VFR   \n",
       "35907  2017      Q4  Other Africa  4-7  nights     Air        Holiday   \n",
       "35908  2017      Q4  Other Africa  4-7  nights     Air       Business   \n",
       "35909  2017      Q4  Other Africa  8-14 nights     Air        Holiday   \n",
       "35910  2017      Q4  Other Africa  8-14 nights     Air       Business   \n",
       "35911  2017      Q4  Other Africa  8-14 nights     Air            VFR   \n",
       "35912  2017      Q4  Other Africa  8-14 nights     Air  Miscellaneous   \n",
       "35913  2017      Q4  Other Africa  15+  nights     Air       Business   \n",
       "35914  2017      Q4  Other Africa  15+  nights     Air            VFR   \n",
       "\n",
       "          area     visits      spend      nights     ...       fishstock  \\\n",
       "0       LONDON   0.753385   0.087581    0.753385     ...       50.878780   \n",
       "1       LONDON   4.625445   1.555299    6.869618     ...       50.878780   \n",
       "2       LONDON   1.225540   0.048458    1.793118     ...       50.878780   \n",
       "3       LONDON   1.023070   0.208063    1.776455     ...       50.878780   \n",
       "4       LONDON   6.439640   0.438086    8.448400     ...       50.878780   \n",
       "5       LONDON  13.735650   3.255361   26.701581     ...       50.878780   \n",
       "6       LONDON  11.917938   3.212330   17.576485     ...       50.878780   \n",
       "7       LONDON   7.796814   1.019411   13.213334     ...       50.878780   \n",
       "8       LONDON   1.232798   0.965997    2.415030     ...       50.878780   \n",
       "9       LONDON   0.276795   0.142273    1.107180     ...       50.878780   \n",
       "10      LONDON   1.324734   0.928757    5.601461     ...       50.878780   \n",
       "11      LONDON   1.562280   0.490538    6.541170     ...       50.878780   \n",
       "12      LONDON   1.331751   1.970940    5.764310     ...       50.878780   \n",
       "13      LONDON   1.821375   0.450224    9.576130     ...       50.878780   \n",
       "14      LONDON   0.573861   0.327675    5.738610     ...       50.878780   \n",
       "15      LONDON   0.480179   0.159808    4.618460     ...       50.878780   \n",
       "16      LONDON   0.882881   0.213311    6.607620     ...       50.878780   \n",
       "17      LONDON   0.499645   0.364082   15.858800     ...       50.878780   \n",
       "18      LONDON   1.631335   0.627556    3.262660     ...       50.878780   \n",
       "19      LONDON   0.602708   0.249521    0.602708     ...       50.878780   \n",
       "20      LONDON   0.425915   0.261512    0.851830     ...       50.878780   \n",
       "21      LONDON   0.602708   0.309792    1.205420     ...       50.878780   \n",
       "22      LONDON   0.422322   0.129024    0.422322     ...       50.878780   \n",
       "23      LONDON   0.602708   0.000000    2.410830     ...       50.878780   \n",
       "24      LONDON   0.337183   0.072157    1.348730     ...       50.878780   \n",
       "25      LONDON   0.422322   0.105584    1.689290     ...       50.878780   \n",
       "26      LONDON   0.602708   0.231440    6.027080     ...       50.878780   \n",
       "27      LONDON   0.534737   0.000000    8.555790     ...       50.878780   \n",
       "28      LONDON  23.931760   4.395331   51.178427     ...       20.151234   \n",
       "29      LONDON  35.812234   9.770724   55.116794     ...       20.151234   \n",
       "...        ...        ...        ...         ...     ...             ...   \n",
       "35885   LONDON   0.433277   1.307942    1.397436     ...       19.670000   \n",
       "35886   LONDON   1.597243   1.038810    2.902949     ...       19.670000   \n",
       "35887   LONDON   1.679539   0.085518    1.672211     ...       19.670000   \n",
       "35888   LONDON   0.404903   2.977542    2.428907     ...       19.670000   \n",
       "35889   LONDON   2.411211   5.715183   12.818130     ...       19.670000   \n",
       "35890   LONDON   1.623791   0.753341   10.144823     ...       19.670000   \n",
       "35891   LONDON   0.422631   0.102757    7.098703     ...       19.670000   \n",
       "35892   LONDON   1.970773   3.484588   18.771442     ...       19.670000   \n",
       "35893   LONDON   2.738627   1.172205   39.356604     ...       19.670000   \n",
       "35894   LONDON   2.934471   7.094676  123.785109     ...       19.670000   \n",
       "35895   LONDON   3.267197   3.788938  197.976237     ...       19.670000   \n",
       "35896   LONDON   0.818114   1.108544    1.636228     ...       33.060000   \n",
       "35897   LONDON   1.061910   3.362005    3.185730     ...       33.060000   \n",
       "35898   LONDON   0.409057   0.169759    0.409057     ...       33.060000   \n",
       "35899   LONDON   1.134279   1.405863    4.537116     ...       33.060000   \n",
       "35900   LONDON   0.551947   0.284253    5.519470     ...       33.060000   \n",
       "35901   LONDON   0.951888   0.184380    0.951888     ...       33.060000   \n",
       "35902   LONDON   0.961004   0.535823   11.674938     ...       33.060000   \n",
       "35903   LONDON   0.551947   0.836200   14.902569     ...       33.060000   \n",
       "35904   LONDON   3.505870   2.267393   87.144597     ...       33.060000   \n",
       "35905   LONDON   2.722962   3.836052    5.773990     ...       32.662882   \n",
       "35906   LONDON   5.111294  20.181652   11.712981     ...       32.662882   \n",
       "35907   LONDON   2.279531   2.909377   10.835093     ...       32.662882   \n",
       "35908   LONDON   4.976326   8.209703   25.296605     ...       32.662882   \n",
       "35909   LONDON   4.550632   2.684352   49.047506     ...       32.662882   \n",
       "35910   LONDON   0.498958   1.402755    4.853027     ...       32.662882   \n",
       "35911   LONDON   6.639372   2.399617   52.929674     ...       32.662882   \n",
       "35912   LONDON   0.400294   0.806592    4.002940     ...       32.662882   \n",
       "35913   LONDON   0.562562   1.133562    9.000992     ...       32.662882   \n",
       "35914   LONDON   4.652418   2.200366  222.104392     ...       32.662882   \n",
       "\n",
       "      fishstock_dtf  fwateruse  fwateruse_dtf  improved_drinkwater  \\\n",
       "0          0.491212  51.800000       0.482000           100.000000   \n",
       "1          0.491212  51.800000       0.482000           100.000000   \n",
       "2          0.491212  51.800000       0.482000           100.000000   \n",
       "3          0.491212  51.800000       0.482000           100.000000   \n",
       "4          0.491212  51.800000       0.482000           100.000000   \n",
       "5          0.491212  51.800000       0.482000           100.000000   \n",
       "6          0.491212  51.800000       0.482000           100.000000   \n",
       "7          0.491212  51.800000       0.482000           100.000000   \n",
       "8          0.491212  51.800000       0.482000           100.000000   \n",
       "9          0.491212  51.800000       0.482000           100.000000   \n",
       "10         0.491212  51.800000       0.482000           100.000000   \n",
       "11         0.491212  51.800000       0.482000           100.000000   \n",
       "12         0.491212  51.800000       0.482000           100.000000   \n",
       "13         0.491212  51.800000       0.482000           100.000000   \n",
       "14         0.491212  51.800000       0.482000           100.000000   \n",
       "15         0.491212  51.800000       0.482000           100.000000   \n",
       "16         0.491212  51.800000       0.482000           100.000000   \n",
       "17         0.491212  51.800000       0.482000           100.000000   \n",
       "18         0.491212   6.020000       0.939800           100.000000   \n",
       "19         0.491212   6.020000       0.939800           100.000000   \n",
       "20         0.491212   6.020000       0.939800           100.000000   \n",
       "21         0.491212   6.020000       0.939800           100.000000   \n",
       "22         0.491212   6.020000       0.939800           100.000000   \n",
       "23         0.491212   6.020000       0.939800           100.000000   \n",
       "24         0.491212   6.020000       0.939800           100.000000   \n",
       "25         0.491212   6.020000       0.939800           100.000000   \n",
       "26         0.491212   6.020000       0.939800           100.000000   \n",
       "27         0.491212   6.020000       0.939800           100.000000   \n",
       "28         0.798488  15.810000       0.841900           100.000000   \n",
       "29         0.798488  15.810000       0.841900           100.000000   \n",
       "...             ...        ...            ...                  ...   \n",
       "35885      0.803300   5.932127       0.940679            68.500000   \n",
       "35886      0.803300   5.932127       0.940679            68.500000   \n",
       "35887      0.803300   5.932127       0.940679            68.500000   \n",
       "35888      0.803300   5.932127       0.940679            68.500000   \n",
       "35889      0.803300   5.932127       0.940679            68.500000   \n",
       "35890      0.803300   5.932127       0.940679            68.500000   \n",
       "35891      0.803300   5.932127       0.940679            68.500000   \n",
       "35892      0.803300   5.932127       0.940679            68.500000   \n",
       "35893      0.803300   5.932127       0.940679            68.500000   \n",
       "35894      0.803300   5.932127       0.940679            68.500000   \n",
       "35895      0.803300   5.932127       0.940679            68.500000   \n",
       "35896      0.669400  15.545894       0.844541            63.200001   \n",
       "35897      0.669400  15.545894       0.844541            63.200001   \n",
       "35898      0.669400  15.545894       0.844541            63.200001   \n",
       "35899      0.669400  15.545894       0.844541            63.200001   \n",
       "35900      0.669400  15.545894       0.844541            63.200001   \n",
       "35901      0.669400  15.545894       0.844541            63.200001   \n",
       "35902      0.669400  15.545894       0.844541            63.200001   \n",
       "35903      0.669400  15.545894       0.844541            63.200001   \n",
       "35904      0.669400  15.545894       0.844541            63.200001   \n",
       "35905      0.673371  90.878385       0.091216            98.910180   \n",
       "35906      0.673371  90.878385       0.091216            98.910180   \n",
       "35907      0.673371  90.878385       0.091216            98.910180   \n",
       "35908      0.673371  90.878385       0.091216            98.910180   \n",
       "35909      0.673371  90.878385       0.091216            98.910180   \n",
       "35910      0.673371  90.878385       0.091216            98.910180   \n",
       "35911      0.673371  90.878385       0.091216            98.910180   \n",
       "35912      0.673371  90.878385       0.091216            98.910180   \n",
       "35913      0.673371  90.878385       0.091216            98.910180   \n",
       "35914      0.673371  90.878385       0.091216            98.910180   \n",
       "\n",
       "       improved_drinkwater_dtf  marineprotect  marineprotect_dtf    pestreg  \\\n",
       "0                     1.000000       0.043200           0.000432  23.000000   \n",
       "1                     1.000000       0.043200           0.000432  23.000000   \n",
       "2                     1.000000       0.043200           0.000432  23.000000   \n",
       "3                     1.000000       0.043200           0.000432  23.000000   \n",
       "4                     1.000000       0.043200           0.000432  23.000000   \n",
       "5                     1.000000       0.043200           0.000432  23.000000   \n",
       "6                     1.000000       0.043200           0.000432  23.000000   \n",
       "7                     1.000000       0.043200           0.000432  23.000000   \n",
       "8                     1.000000       0.043200           0.000432  23.000000   \n",
       "9                     1.000000       0.043200           0.000432  23.000000   \n",
       "10                    1.000000       0.043200           0.000432  23.000000   \n",
       "11                    1.000000       0.043200           0.000432  23.000000   \n",
       "12                    1.000000       0.043200           0.000432  23.000000   \n",
       "13                    1.000000       0.043200           0.000432  23.000000   \n",
       "14                    1.000000       0.043200           0.000432  23.000000   \n",
       "15                    1.000000       0.043200           0.000432  23.000000   \n",
       "16                    1.000000       0.043200           0.000432  23.000000   \n",
       "17                    1.000000       0.043200           0.000432  23.000000   \n",
       "18                    1.000000      28.023226           0.280232  23.000000   \n",
       "19                    1.000000      28.023226           0.280232  23.000000   \n",
       "20                    1.000000      28.023226           0.280232  23.000000   \n",
       "21                    1.000000      28.023226           0.280232  23.000000   \n",
       "22                    1.000000      28.023226           0.280232  23.000000   \n",
       "23                    1.000000      28.023226           0.280232  23.000000   \n",
       "24                    1.000000      28.023226           0.280232  23.000000   \n",
       "25                    1.000000      28.023226           0.280232  23.000000   \n",
       "26                    1.000000      28.023226           0.280232  23.000000   \n",
       "27                    1.000000      28.023226           0.280232  23.000000   \n",
       "28                    1.000000      21.339728           0.213397  23.000000   \n",
       "29                    1.000000      21.339728           0.213397  23.000000   \n",
       "...                        ...            ...                ...        ...   \n",
       "35885                 0.606250       0.200000           0.002000  21.000000   \n",
       "35886                 0.606250       0.200000           0.002000  21.000000   \n",
       "35887                 0.606250       0.200000           0.002000  21.000000   \n",
       "35888                 0.606250       0.200000           0.002000  21.000000   \n",
       "35889                 0.606250       0.200000           0.002000  21.000000   \n",
       "35890                 0.606250       0.200000           0.002000  21.000000   \n",
       "35891                 0.606250       0.200000           0.002000  21.000000   \n",
       "35892                 0.606250       0.200000           0.002000  21.000000   \n",
       "35893                 0.606250       0.200000           0.002000  21.000000   \n",
       "35894                 0.606250       0.200000           0.002000  21.000000   \n",
       "35895                 0.606250       0.200000           0.002000  21.000000   \n",
       "35896                 0.540000      10.000000           0.100000  21.000000   \n",
       "35897                 0.540000      10.000000           0.100000  21.000000   \n",
       "35898                 0.540000      10.000000           0.100000  21.000000   \n",
       "35899                 0.540000      10.000000           0.100000  21.000000   \n",
       "35900                 0.540000      10.000000           0.100000  21.000000   \n",
       "35901                 0.540000      10.000000           0.100000  21.000000   \n",
       "35902                 0.540000      10.000000           0.100000  21.000000   \n",
       "35903                 0.540000      10.000000           0.100000  21.000000   \n",
       "35904                 0.540000      10.000000           0.100000  21.000000   \n",
       "35905                 0.986377       5.937725           0.059377  17.191617   \n",
       "35906                 0.986377       5.937725           0.059377  17.191617   \n",
       "35907                 0.986377       5.937725           0.059377  17.191617   \n",
       "35908                 0.986377       5.937725           0.059377  17.191617   \n",
       "35909                 0.986377       5.937725           0.059377  17.191617   \n",
       "35910                 0.986377       5.937725           0.059377  17.191617   \n",
       "35911                 0.986377       5.937725           0.059377  17.191617   \n",
       "35912                 0.986377       5.937725           0.059377  17.191617   \n",
       "35913                 0.986377       5.937725           0.059377  17.191617   \n",
       "35914                 0.986377       5.937725           0.059377  17.191617   \n",
       "\n",
       "       pestreg_dtf  \n",
       "0         0.920000  \n",
       "1         0.920000  \n",
       "2         0.920000  \n",
       "3         0.920000  \n",
       "4         0.920000  \n",
       "5         0.920000  \n",
       "6         0.920000  \n",
       "7         0.920000  \n",
       "8         0.920000  \n",
       "9         0.920000  \n",
       "10        0.920000  \n",
       "11        0.920000  \n",
       "12        0.920000  \n",
       "13        0.920000  \n",
       "14        0.920000  \n",
       "15        0.920000  \n",
       "16        0.920000  \n",
       "17        0.920000  \n",
       "18        0.920000  \n",
       "19        0.920000  \n",
       "20        0.920000  \n",
       "21        0.920000  \n",
       "22        0.920000  \n",
       "23        0.920000  \n",
       "24        0.920000  \n",
       "25        0.920000  \n",
       "26        0.920000  \n",
       "27        0.920000  \n",
       "28        0.920000  \n",
       "29        0.920000  \n",
       "...            ...  \n",
       "35885     0.840000  \n",
       "35886     0.840000  \n",
       "35887     0.840000  \n",
       "35888     0.840000  \n",
       "35889     0.840000  \n",
       "35890     0.840000  \n",
       "35891     0.840000  \n",
       "35892     0.840000  \n",
       "35893     0.840000  \n",
       "35894     0.840000  \n",
       "35895     0.840000  \n",
       "35896     0.840000  \n",
       "35897     0.840000  \n",
       "35898     0.840000  \n",
       "35899     0.840000  \n",
       "35900     0.840000  \n",
       "35901     0.840000  \n",
       "35902     0.840000  \n",
       "35903     0.840000  \n",
       "35904     0.840000  \n",
       "35905     0.687665  \n",
       "35906     0.687665  \n",
       "35907     0.687665  \n",
       "35908     0.687665  \n",
       "35909     0.687665  \n",
       "35910     0.687665  \n",
       "35911     0.687665  \n",
       "35912     0.687665  \n",
       "35913     0.687665  \n",
       "35914     0.687665  \n",
       "\n",
       "[35915 rows x 169 columns]"
      ]
     },
     "execution_count": 104,
     "metadata": {},
     "output_type": "execute_result"
    }
   ],
   "source": [
    "frame"
   ]
  },
  {
   "cell_type": "code",
   "execution_count": 105,
   "metadata": {},
   "outputs": [
    {
     "data": {
      "text/plain": [
       "(35915, 169)"
      ]
     },
     "execution_count": 105,
     "metadata": {},
     "output_type": "execute_result"
    }
   ],
   "source": [
    "frame.shape"
   ]
  },
  {
   "cell_type": "markdown",
   "metadata": {},
   "source": [
    "# because the column names contain dtf are standarderedlized values of the ones without the dtf tag, we are going to delete the columns with dtf tag."
   ]
  },
  {
   "cell_type": "code",
   "execution_count": 106,
   "metadata": {
    "collapsed": true
   },
   "outputs": [],
   "source": [
    "cols = [c for c in frame.columns if c.lower()[-4:] != '_dtf']"
   ]
  },
  {
   "cell_type": "code",
   "execution_count": 107,
   "metadata": {
    "collapsed": true
   },
   "outputs": [],
   "source": [
    "frame1 = frame[cols]"
   ]
  },
  {
   "cell_type": "markdown",
   "metadata": {},
   "source": [
    "# We are going to mark our target variable with 1 which stands for people who stay over 15 days, and the other variables as 0 "
   ]
  },
  {
   "cell_type": "code",
   "execution_count": 108,
   "metadata": {},
   "outputs": [
    {
     "name": "stderr",
     "output_type": "stream",
     "text": [
      "/Users/elvy/anaconda3/lib/python3.5/site-packages/ipykernel_launcher.py:2: SettingWithCopyWarning: \n",
      "A value is trying to be set on a copy of a slice from a DataFrame.\n",
      "Try using .loc[row_indexer,col_indexer] = value instead\n",
      "\n",
      "See the caveats in the documentation: http://pandas.pydata.org/pandas-docs/stable/indexing.html#indexing-view-versus-copy\n",
      "  \n",
      "/Users/elvy/anaconda3/lib/python3.5/site-packages/pandas/core/indexing.py:517: SettingWithCopyWarning: \n",
      "A value is trying to be set on a copy of a slice from a DataFrame.\n",
      "Try using .loc[row_indexer,col_indexer] = value instead\n",
      "\n",
      "See the caveats in the documentation: http://pandas.pydata.org/pandas-docs/stable/indexing.html#indexing-view-versus-copy\n",
      "  self.obj[item] = s\n"
     ]
    }
   ],
   "source": [
    "frame2 = frame1\n",
    "frame2['y'] = '0'\n",
    "frame2.loc[frame2['dur_stay'] == '15+  nights', 'y']= '1'"
   ]
  },
  {
   "cell_type": "markdown",
   "metadata": {},
   "source": [
    "# Below we are going to use 2017 as our test set, 2016 and 2015 as validation. other data as train. "
   ]
  },
  {
   "cell_type": "code",
   "execution_count": 109,
   "metadata": {
    "collapsed": true
   },
   "outputs": [],
   "source": [
    "train = frame2[(frame2['year']!=2016)& (frame2['year']!=2015) & (frame2['year']!=2017)]"
   ]
  },
  {
   "cell_type": "code",
   "execution_count": 110,
   "metadata": {
    "collapsed": true
   },
   "outputs": [],
   "source": [
    "validation = frame2[(frame2['year']==2016)|(frame2['year']==2015)]"
   ]
  },
  {
   "cell_type": "code",
   "execution_count": 111,
   "metadata": {
    "collapsed": true
   },
   "outputs": [],
   "source": [
    "test = frame2[(frame2['year']==2017)]"
   ]
  },
  {
   "cell_type": "markdown",
   "metadata": {},
   "source": [
    "# Model"
   ]
  },
  {
   "cell_type": "code",
   "execution_count": 124,
   "metadata": {},
   "outputs": [
    {
     "name": "stdout",
     "output_type": "stream",
     "text": [
      "Checking whether there is an H2O instance running at http://localhost:54321..... not found.\n",
      "Attempting to start a local H2O server...\n",
      "  Java Version: java version \"1.8.0_161\"; Java(TM) SE Runtime Environment (build 1.8.0_161-b12); Java HotSpot(TM) 64-Bit Server VM (build 25.161-b12, mixed mode)\n",
      "  Starting server from /Users/elvy/anaconda3/lib/python3.5/site-packages/h2o/backend/bin/h2o.jar\n",
      "  Ice root: /var/folders/gn/gtpjhb555nbfkztvq_m7_84w0000gn/T/tmpsac455x_\n",
      "  JVM stdout: /var/folders/gn/gtpjhb555nbfkztvq_m7_84w0000gn/T/tmpsac455x_/h2o_elvy_started_from_python.out\n",
      "  JVM stderr: /var/folders/gn/gtpjhb555nbfkztvq_m7_84w0000gn/T/tmpsac455x_/h2o_elvy_started_from_python.err\n",
      "  Server is running at http://127.0.0.1:54321\n",
      "Connecting to H2O server at http://127.0.0.1:54321... successful.\n",
      "Warning: Your H2O cluster version is too old (10 months and 6 days)! Please download and install the latest version from http://h2o.ai/download/\n"
     ]
    },
    {
     "data": {
      "text/html": [
       "<div style=\"overflow:auto\"><table style=\"width:50%\"><tr><td>H2O cluster uptime:</td>\n",
       "<td>02 secs</td></tr>\n",
       "<tr><td>H2O cluster version:</td>\n",
       "<td>3.16.0.4</td></tr>\n",
       "<tr><td>H2O cluster version age:</td>\n",
       "<td>10 months and 6 days !!!</td></tr>\n",
       "<tr><td>H2O cluster name:</td>\n",
       "<td>H2O_from_python_elvy_89jrir</td></tr>\n",
       "<tr><td>H2O cluster total nodes:</td>\n",
       "<td>1</td></tr>\n",
       "<tr><td>H2O cluster free memory:</td>\n",
       "<td>1.778 Gb</td></tr>\n",
       "<tr><td>H2O cluster total cores:</td>\n",
       "<td>4</td></tr>\n",
       "<tr><td>H2O cluster allowed cores:</td>\n",
       "<td>4</td></tr>\n",
       "<tr><td>H2O cluster status:</td>\n",
       "<td>accepting new members, healthy</td></tr>\n",
       "<tr><td>H2O connection url:</td>\n",
       "<td>http://127.0.0.1:54321</td></tr>\n",
       "<tr><td>H2O connection proxy:</td>\n",
       "<td>None</td></tr>\n",
       "<tr><td>H2O internal security:</td>\n",
       "<td>False</td></tr>\n",
       "<tr><td>H2O API Extensions:</td>\n",
       "<td>XGBoost, Algos, AutoML, Core V3, Core V4</td></tr>\n",
       "<tr><td>Python version:</td>\n",
       "<td>3.5.4 final</td></tr></table></div>"
      ],
      "text/plain": [
       "--------------------------  ----------------------------------------\n",
       "H2O cluster uptime:         02 secs\n",
       "H2O cluster version:        3.16.0.4\n",
       "H2O cluster version age:    10 months and 6 days !!!\n",
       "H2O cluster name:           H2O_from_python_elvy_89jrir\n",
       "H2O cluster total nodes:    1\n",
       "H2O cluster free memory:    1.778 Gb\n",
       "H2O cluster total cores:    4\n",
       "H2O cluster allowed cores:  4\n",
       "H2O cluster status:         accepting new members, healthy\n",
       "H2O connection url:         http://127.0.0.1:54321\n",
       "H2O connection proxy:\n",
       "H2O internal security:      False\n",
       "H2O API Extensions:         XGBoost, Algos, AutoML, Core V3, Core V4\n",
       "Python version:             3.5.4 final\n",
       "--------------------------  ----------------------------------------"
      ]
     },
     "metadata": {},
     "output_type": "display_data"
    }
   ],
   "source": [
    "import h2o\n",
    "import math\n",
    "from h2o.estimators.gbm import H2OGradientBoostingEstimator\n",
    "from h2o.grid.grid_search import H2OGridSearch\n",
    "h2o.init(nthreads=-1, strict_version_check=True)"
   ]
  },
  {
   "cell_type": "code",
   "execution_count": 125,
   "metadata": {},
   "outputs": [
    {
     "name": "stdout",
     "output_type": "stream",
     "text": [
      "Parse progress: |█████████████████████████████████████████████████████████| 100%\n",
      "Parse progress: |█████████████████████████████████████████████████████████| 100%\n",
      "Parse progress: |█████████████████████████████████████████████████████████| 100%\n"
     ]
    }
   ],
   "source": [
    "trainh = h2o.H2OFrame(train)\n",
    "validh = h2o.H2OFrame(validation)\n",
    "testh  = h2o.H2OFrame(test)"
   ]
  },
  {
   "cell_type": "code",
   "execution_count": 126,
   "metadata": {
    "collapsed": true
   },
   "outputs": [],
   "source": [
    "y = 'y'\n",
    "X = [name for name in trainh.columns if name not in [y,'market','nights','sample','dur_stay']]"
   ]
  },
  {
   "cell_type": "code",
   "execution_count": 127,
   "metadata": {
    "collapsed": true
   },
   "outputs": [],
   "source": [
    "trainh[y] = trainh[y].asfactor()\n",
    "validh[y] = validh[y].asfactor()\n",
    "testh[y]  = testh[y].asfactor()"
   ]
  },
  {
   "cell_type": "markdown",
   "metadata": {},
   "source": [
    "# The first model is without make the target variable balanced."
   ]
  },
  {
   "cell_type": "code",
   "execution_count": 128,
   "metadata": {},
   "outputs": [
    {
     "name": "stdout",
     "output_type": "stream",
     "text": [
      "gbm Grid Build progress: |████████████████████████████████████████████████| 100%\n"
     ]
    }
   ],
   "source": [
    "# define random grid search parameters\n",
    "hyper_parameters = {'ntrees':list(range(1, 100, 10)),\n",
    "                    'max_depth':list(range(1, 30, 2)),\n",
    "                    'sample_rate':[s/float(10) for s in range(1, 11)],\n",
    "                    'col_sample_rate':[s/float(10) for s in range(1, 11)]}\n",
    "\n",
    "# define search strategy\n",
    "search_criteria = {'strategy':'RandomDiscrete',\n",
    "                   'max_models':20,\n",
    "                   'max_runtime_secs':600}\n",
    "\n",
    "# initialize grid search\n",
    "gsearch_nobalance = H2OGridSearch(H2OGradientBoostingEstimator,\n",
    "                        hyper_params=hyper_parameters,\n",
    "                        search_criteria=search_criteria)\n",
    "\n",
    "# execute training w/ grid search\n",
    "gsearch_nobalance.train(\n",
    "    x=X,\n",
    "    y=y,\n",
    "    training_frame=trainh,\n",
    "    validation_frame=validh)"
   ]
  },
  {
   "cell_type": "code",
   "execution_count": 130,
   "metadata": {},
   "outputs": [
    {
     "name": "stdout",
     "output_type": "stream",
     "text": [
      "0.956591435622665\n",
      "0.8233828366975144\n",
      "0.8180597328570115\n"
     ]
    }
   ],
   "source": [
    "gbm_model = gsearch_nobalance.get_grid()[0]\n",
    "print(gbm_model.auc(train=True))\n",
    "print(gbm_model.auc(valid=True))\n",
    "print(gbm_model.model_performance(test_data=testh).auc())"
   ]
  },
  {
   "cell_type": "code",
   "execution_count": 131,
   "metadata": {},
   "outputs": [
    {
     "data": {
      "image/png": "[encoded data removed]",
      "text/plain": [
       "<matplotlib.figure.Figure at 0x1105cca90>"
      ]
     },
     "metadata": {},
     "output_type": "display_data"
    }
   ],
   "source": [
    "gbm_model.model_performance(test_data=testh).plot()"
   ]
  },
  {
   "cell_type": "code",
   "execution_count": 132,
   "metadata": {},
   "outputs": [
    {
     "name": "stdout",
     "output_type": "stream",
     "text": [
      "\n",
      "ModelMetricsBinomial: gbm\n",
      "** Reported on test data. **\n",
      "\n",
      "MSE: 0.10939541087917888\n",
      "RMSE: 0.3307497707923301\n",
      "LogLoss: 0.347014209667333\n",
      "Mean Per-Class Error: 0.25266982463360144\n",
      "AUC: 0.8180597328570115\n",
      "Gini: 0.636119465714023\n",
      "Confusion Matrix (Act/Pred) for max f1 @ threshold = 0.1640943940295915: \n"
     ]
    },
    {
     "data": {
      "text/html": [
       "<div style=\"overflow:auto\"><table style=\"width:50%\"><tr><td><b></b></td>\n",
       "<td><b>0</b></td>\n",
       "<td><b>1</b></td>\n",
       "<td><b>Error</b></td>\n",
       "<td><b>Rate</b></td></tr>\n",
       "<tr><td>0</td>\n",
       "<td>1991.0</td>\n",
       "<td>691.0</td>\n",
       "<td>0.2576</td>\n",
       "<td> (691.0/2682.0)</td></tr>\n",
       "<tr><td>1</td>\n",
       "<td>129.0</td>\n",
       "<td>382.0</td>\n",
       "<td>0.2524</td>\n",
       "<td> (129.0/511.0)</td></tr>\n",
       "<tr><td>Total</td>\n",
       "<td>2120.0</td>\n",
       "<td>1073.0</td>\n",
       "<td>0.2568</td>\n",
       "<td> (820.0/3193.0)</td></tr></table></div>"
      ],
      "text/plain": [
       "       0     1     Error    Rate\n",
       "-----  ----  ----  -------  --------------\n",
       "0      1991  691   0.2576   (691.0/2682.0)\n",
       "1      129   382   0.2524   (129.0/511.0)\n",
       "Total  2120  1073  0.2568   (820.0/3193.0)"
      ]
     },
     "metadata": {},
     "output_type": "display_data"
    },
    {
     "name": "stdout",
     "output_type": "stream",
     "text": [
      "Maximum Metrics: Maximum metrics at their respective thresholds\n",
      "\n"
     ]
    },
    {
     "data": {
      "text/html": [
       "<div style=\"overflow:auto\"><table style=\"width:50%\"><tr><td><b>metric</b></td>\n",
       "<td><b>threshold</b></td>\n",
       "<td><b>value</b></td>\n",
       "<td><b>idx</b></td></tr>\n",
       "<tr><td>max f1</td>\n",
       "<td>0.1640944</td>\n",
       "<td>0.4823232</td>\n",
       "<td>255.0</td></tr>\n",
       "<tr><td>max f2</td>\n",
       "<td>0.0961476</td>\n",
       "<td>0.6295366</td>\n",
       "<td>303.0</td></tr>\n",
       "<tr><td>max f0point5</td>\n",
       "<td>0.4865762</td>\n",
       "<td>0.4652937</td>\n",
       "<td>97.0</td></tr>\n",
       "<tr><td>max accuracy</td>\n",
       "<td>0.5443849</td>\n",
       "<td>0.8537426</td>\n",
       "<td>79.0</td></tr>\n",
       "<tr><td>max precision</td>\n",
       "<td>0.8708066</td>\n",
       "<td>0.75</td>\n",
       "<td>9.0</td></tr>\n",
       "<tr><td>max recall</td>\n",
       "<td>0.0151649</td>\n",
       "<td>1.0</td>\n",
       "<td>384.0</td></tr>\n",
       "<tr><td>max specificity</td>\n",
       "<td>0.9651573</td>\n",
       "<td>0.9996271</td>\n",
       "<td>0.0</td></tr>\n",
       "<tr><td>max absolute_mcc</td>\n",
       "<td>0.1573410</td>\n",
       "<td>0.3813232</td>\n",
       "<td>259.0</td></tr>\n",
       "<tr><td>max min_per_class_accuracy</td>\n",
       "<td>0.1657291</td>\n",
       "<td>0.7436399</td>\n",
       "<td>254.0</td></tr>\n",
       "<tr><td>max mean_per_class_accuracy</td>\n",
       "<td>0.1573410</td>\n",
       "<td>0.7473302</td>\n",
       "<td>259.0</td></tr></table></div>"
      ],
      "text/plain": [
       "metric                       threshold    value     idx\n",
       "---------------------------  -----------  --------  -----\n",
       "max f1                       0.164094     0.482323  255\n",
       "max f2                       0.0961476    0.629537  303\n",
       "max f0point5                 0.486576     0.465294  97\n",
       "max accuracy                 0.544385     0.853743  79\n",
       "max precision                0.870807     0.75      9\n",
       "max recall                   0.0151649    1         384\n",
       "max specificity              0.965157     0.999627  0\n",
       "max absolute_mcc             0.157341     0.381323  259\n",
       "max min_per_class_accuracy   0.165729     0.74364   254\n",
       "max mean_per_class_accuracy  0.157341     0.74733   259"
      ]
     },
     "metadata": {},
     "output_type": "display_data"
    },
    {
     "name": "stdout",
     "output_type": "stream",
     "text": [
      "Gains/Lift Table: Avg response rate: 16.00 %\n",
      "\n"
     ]
    },
    {
     "data": {
      "text/html": [
       "<div style=\"overflow:auto\"><table style=\"width:50%\"><tr><td><b></b></td>\n",
       "<td><b>group</b></td>\n",
       "<td><b>cumulative_data_fraction</b></td>\n",
       "<td><b>lower_threshold</b></td>\n",
       "<td><b>lift</b></td>\n",
       "<td><b>cumulative_lift</b></td>\n",
       "<td><b>response_rate</b></td>\n",
       "<td><b>cumulative_response_rate</b></td>\n",
       "<td><b>capture_rate</b></td>\n",
       "<td><b>cumulative_capture_rate</b></td>\n",
       "<td><b>gain</b></td>\n",
       "<td><b>cumulative_gain</b></td></tr>\n",
       "<tr><td></td>\n",
       "<td>1</td>\n",
       "<td>0.0100219</td>\n",
       "<td>0.7972542</td>\n",
       "<td>4.4911326</td>\n",
       "<td>4.4911326</td>\n",
       "<td>0.71875</td>\n",
       "<td>0.71875</td>\n",
       "<td>0.0450098</td>\n",
       "<td>0.0450098</td>\n",
       "<td>349.1132583</td>\n",
       "<td>349.1132583</td></tr>\n",
       "<tr><td></td>\n",
       "<td>2</td>\n",
       "<td>0.0200438</td>\n",
       "<td>0.6970832</td>\n",
       "<td>4.2958659</td>\n",
       "<td>4.3934993</td>\n",
       "<td>0.6875</td>\n",
       "<td>0.703125</td>\n",
       "<td>0.0430528</td>\n",
       "<td>0.0880626</td>\n",
       "<td>329.5865949</td>\n",
       "<td>339.3499266</td></tr>\n",
       "<tr><td></td>\n",
       "<td>3</td>\n",
       "<td>0.0300658</td>\n",
       "<td>0.6241573</td>\n",
       "<td>4.4911326</td>\n",
       "<td>4.4260437</td>\n",
       "<td>0.71875</td>\n",
       "<td>0.7083333</td>\n",
       "<td>0.0450098</td>\n",
       "<td>0.1330724</td>\n",
       "<td>349.1132583</td>\n",
       "<td>342.6043705</td></tr>\n",
       "<tr><td></td>\n",
       "<td>4</td>\n",
       "<td>0.0400877</td>\n",
       "<td>0.5802672</td>\n",
       "<td>3.1242661</td>\n",
       "<td>4.1005993</td>\n",
       "<td>0.5</td>\n",
       "<td>0.65625</td>\n",
       "<td>0.0313112</td>\n",
       "<td>0.1643836</td>\n",
       "<td>212.4266145</td>\n",
       "<td>310.0599315</td></tr>\n",
       "<tr><td></td>\n",
       "<td>5</td>\n",
       "<td>0.0501096</td>\n",
       "<td>0.5311059</td>\n",
       "<td>3.1242661</td>\n",
       "<td>3.9053327</td>\n",
       "<td>0.5</td>\n",
       "<td>0.625</td>\n",
       "<td>0.0313112</td>\n",
       "<td>0.1956947</td>\n",
       "<td>212.4266145</td>\n",
       "<td>290.5332681</td></tr>\n",
       "<tr><td></td>\n",
       "<td>6</td>\n",
       "<td>0.1002192</td>\n",
       "<td>0.3856018</td>\n",
       "<td>2.4603596</td>\n",
       "<td>3.1828461</td>\n",
       "<td>0.39375</td>\n",
       "<td>0.509375</td>\n",
       "<td>0.1232877</td>\n",
       "<td>0.3189824</td>\n",
       "<td>146.0359589</td>\n",
       "<td>218.2846135</td></tr>\n",
       "<tr><td></td>\n",
       "<td>7</td>\n",
       "<td>0.1500157</td>\n",
       "<td>0.3076645</td>\n",
       "<td>2.0435452</td>\n",
       "<td>2.8046648</td>\n",
       "<td>0.3270440</td>\n",
       "<td>0.4488518</td>\n",
       "<td>0.1017613</td>\n",
       "<td>0.4207436</td>\n",
       "<td>104.3545151</td>\n",
       "<td>180.4664806</td></tr>\n",
       "<tr><td></td>\n",
       "<td>8</td>\n",
       "<td>0.2001253</td>\n",
       "<td>0.2507663</td>\n",
       "<td>1.7573997</td>\n",
       "<td>2.5424388</td>\n",
       "<td>0.28125</td>\n",
       "<td>0.4068858</td>\n",
       "<td>0.0880626</td>\n",
       "<td>0.5088063</td>\n",
       "<td>75.7399706</td>\n",
       "<td>154.2438803</td></tr>\n",
       "<tr><td></td>\n",
       "<td>9</td>\n",
       "<td>0.3000313</td>\n",
       "<td>0.1832259</td>\n",
       "<td>1.7041452</td>\n",
       "<td>2.2632993</td>\n",
       "<td>0.2727273</td>\n",
       "<td>0.3622129</td>\n",
       "<td>0.1702544</td>\n",
       "<td>0.6790607</td>\n",
       "<td>70.4145170</td>\n",
       "<td>126.3299274</td></tr>\n",
       "<tr><td></td>\n",
       "<td>10</td>\n",
       "<td>0.3999374</td>\n",
       "<td>0.1310476</td>\n",
       "<td>1.2340362</td>\n",
       "<td>2.0061850</td>\n",
       "<td>0.1974922</td>\n",
       "<td>0.3210650</td>\n",
       "<td>0.1232877</td>\n",
       "<td>0.8023483</td>\n",
       "<td>23.4036158</td>\n",
       "<td>100.6184995</td></tr>\n",
       "<tr><td></td>\n",
       "<td>11</td>\n",
       "<td>0.5001566</td>\n",
       "<td>0.0889617</td>\n",
       "<td>0.8982265</td>\n",
       "<td>1.7841770</td>\n",
       "<td>0.14375</td>\n",
       "<td>0.2855354</td>\n",
       "<td>0.0900196</td>\n",
       "<td>0.8923679</td>\n",
       "<td>-10.1773483</td>\n",
       "<td>78.4177034</td></tr>\n",
       "<tr><td></td>\n",
       "<td>12</td>\n",
       "<td>0.6000626</td>\n",
       "<td>0.0577428</td>\n",
       "<td>0.5288726</td>\n",
       "<td>1.5751780</td>\n",
       "<td>0.0846395</td>\n",
       "<td>0.2520877</td>\n",
       "<td>0.0528376</td>\n",
       "<td>0.9452055</td>\n",
       "<td>-47.1127361</td>\n",
       "<td>57.5178025</td></tr>\n",
       "<tr><td></td>\n",
       "<td>13</td>\n",
       "<td>0.6999687</td>\n",
       "<td>0.0332910</td>\n",
       "<td>0.2742303</td>\n",
       "<td>1.3894947</td>\n",
       "<td>0.0438871</td>\n",
       "<td>0.2223714</td>\n",
       "<td>0.0273973</td>\n",
       "<td>0.9726027</td>\n",
       "<td>-72.5769743</td>\n",
       "<td>38.9494652</td></tr>\n",
       "<tr><td></td>\n",
       "<td>14</td>\n",
       "<td>0.7998747</td>\n",
       "<td>0.0197280</td>\n",
       "<td>0.2350545</td>\n",
       "<td>1.2453026</td>\n",
       "<td>0.0376176</td>\n",
       "<td>0.1992952</td>\n",
       "<td>0.0234834</td>\n",
       "<td>0.9960861</td>\n",
       "<td>-76.4945494</td>\n",
       "<td>24.5302637</td></tr>\n",
       "<tr><td></td>\n",
       "<td>15</td>\n",
       "<td>0.8997808</td>\n",
       "<td>0.0103418</td>\n",
       "<td>0.0391758</td>\n",
       "<td>1.1113818</td>\n",
       "<td>0.0062696</td>\n",
       "<td>0.1778629</td>\n",
       "<td>0.0039139</td>\n",
       "<td>1.0</td>\n",
       "<td>-96.0824249</td>\n",
       "<td>11.1381831</td></tr>\n",
       "<tr><td></td>\n",
       "<td>16</td>\n",
       "<td>1.0</td>\n",
       "<td>0.0047556</td>\n",
       "<td>0.0</td>\n",
       "<td>1.0</td>\n",
       "<td>0.0</td>\n",
       "<td>0.1600376</td>\n",
       "<td>0.0</td>\n",
       "<td>1.0</td>\n",
       "<td>-100.0</td>\n",
       "<td>0.0</td></tr></table></div>"
      ],
      "text/plain": [
       "    group    cumulative_data_fraction    lower_threshold    lift       cumulative_lift    response_rate    cumulative_response_rate    capture_rate    cumulative_capture_rate    gain      cumulative_gain\n",
       "--  -------  --------------------------  -----------------  ---------  -----------------  ---------------  --------------------------  --------------  -------------------------  --------  -----------------\n",
       "    1        0.0100219                   0.797254           4.49113    4.49113            0.71875          0.71875                     0.0450098       0.0450098                  349.113   349.113\n",
       "    2        0.0200438                   0.697083           4.29587    4.3935             0.6875           0.703125                    0.0430528       0.0880626                  329.587   339.35\n",
       "    3        0.0300658                   0.624157           4.49113    4.42604            0.71875          0.708333                    0.0450098       0.133072                   349.113   342.604\n",
       "    4        0.0400877                   0.580267           3.12427    4.1006             0.5              0.65625                     0.0313112       0.164384                   212.427   310.06\n",
       "    5        0.0501096                   0.531106           3.12427    3.90533            0.5              0.625                       0.0313112       0.195695                   212.427   290.533\n",
       "    6        0.100219                    0.385602           2.46036    3.18285            0.39375          0.509375                    0.123288        0.318982                   146.036   218.285\n",
       "    7        0.150016                    0.307664           2.04355    2.80466            0.327044         0.448852                    0.101761        0.420744                   104.355   180.466\n",
       "    8        0.200125                    0.250766           1.7574     2.54244            0.28125          0.406886                    0.0880626       0.508806                   75.74     154.244\n",
       "    9        0.300031                    0.183226           1.70415    2.2633             0.272727         0.362213                    0.170254        0.679061                   70.4145   126.33\n",
       "    10       0.399937                    0.131048           1.23404    2.00618            0.197492         0.321065                    0.123288        0.802348                   23.4036   100.618\n",
       "    11       0.500157                    0.0889617          0.898227   1.78418            0.14375          0.285535                    0.0900196       0.892368                   -10.1773  78.4177\n",
       "    12       0.600063                    0.0577428          0.528873   1.57518            0.0846395        0.252088                    0.0528376       0.945205                   -47.1127  57.5178\n",
       "    13       0.699969                    0.033291           0.27423    1.38949            0.0438871        0.222371                    0.0273973       0.972603                   -72.577   38.9495\n",
       "    14       0.799875                    0.019728           0.235055   1.2453             0.0376176        0.199295                    0.0234834       0.996086                   -76.4945  24.5303\n",
       "    15       0.899781                    0.0103418          0.0391758  1.11138            0.00626959       0.177863                    0.00391389      1                          -96.0824  11.1382\n",
       "    16       1                           0.0047556          0          1                  0                0.160038                    0               1                          -100      0"
      ]
     },
     "metadata": {},
     "output_type": "display_data"
    },
    {
     "name": "stdout",
     "output_type": "stream",
     "text": [
      "\n"
     ]
    },
    {
     "data": {
      "text/plain": []
     },
     "execution_count": 132,
     "metadata": {},
     "output_type": "execute_result"
    }
   ],
   "source": [
    "gbm_model.model_performance(test_data=testh)"
   ]
  },
  {
   "cell_type": "markdown",
   "metadata": {},
   "source": [
    "# GBM Model 2 this model is after we making the target value balanced"
   ]
  },
  {
   "cell_type": "code",
   "execution_count": 133,
   "metadata": {},
   "outputs": [
    {
     "name": "stdout",
     "output_type": "stream",
     "text": [
      "gbm Grid Build progress: |████████████████████████████████████████████████| 100%\n"
     ]
    }
   ],
   "source": [
    "# define random grid search parameters\n",
    "hyper_parameters = {'ntrees':list(range(1, 100, 10)),\n",
    "                    'max_depth':list(range(1, 40, 2)),\n",
    "                    'sample_rate':[s/float(10) for s in range(1, 11)],\n",
    "                    'col_sample_rate':[s/float(10) for s in range(1, 11)],\n",
    "                   'balance_classes' : True}\n",
    "\n",
    "# define search strategy\n",
    "search_criteria = {'strategy':'RandomDiscrete',\n",
    "                   'max_models':20,\n",
    "                   'max_runtime_secs':600}\n",
    "\n",
    "# initialize grid search\n",
    "gsearch = H2OGridSearch(H2OGradientBoostingEstimator,\n",
    "                        hyper_params=hyper_parameters,\n",
    "                        search_criteria=search_criteria)\n",
    "\n",
    "# execute training w/ grid search\n",
    "gsearch.train(\n",
    "    x=X,\n",
    "    y=y,\n",
    "    training_frame=trainh,\n",
    "    validation_frame=validh)"
   ]
  },
  {
   "cell_type": "code",
   "execution_count": 134,
   "metadata": {
    "collapsed": true
   },
   "outputs": [],
   "source": [
    "gs_1 = gsearch.get_grid()[0]"
   ]
  },
  {
   "cell_type": "code",
   "execution_count": 135,
   "metadata": {},
   "outputs": [
    {
     "name": "stdout",
     "output_type": "stream",
     "text": [
      "0.8730884955265883\n",
      "0.8078182166529728\n",
      "0.7961911036977691\n"
     ]
    }
   ],
   "source": [
    "print(gs_1.auc(train=True))\n",
    "print(gs_1.auc(valid=True))\n",
    "print(gs_1.model_performance(test_data=testh).auc())"
   ]
  },
  {
   "cell_type": "code",
   "execution_count": 136,
   "metadata": {},
   "outputs": [
    {
     "data": {
      "image/png": "[encoded data removed]",
      "text/plain": [
       "<matplotlib.figure.Figure at 0x1a18e2dba8>"
      ]
     },
     "metadata": {},
     "output_type": "display_data"
    }
   ],
   "source": [
    "gs_1.model_performance(test_data=testh).plot()"
   ]
  },
  {
   "cell_type": "code",
   "execution_count": 137,
   "metadata": {
    "scrolled": true
   },
   "outputs": [
    {
     "name": "stdout",
     "output_type": "stream",
     "text": [
      "\n",
      "ModelMetricsBinomial: gbm\n",
      "** Reported on test data. **\n",
      "\n",
      "MSE: 0.11534410267019787\n",
      "RMSE: 0.33962347190704867\n",
      "LogLoss: 0.363539466092946\n",
      "Mean Per-Class Error: 0.270103582482915\n",
      "AUC: 0.7961911036977691\n",
      "Gini: 0.5923822073955383\n",
      "Confusion Matrix (Act/Pred) for max f1 @ threshold = 0.1579476579306784: \n"
     ]
    },
    {
     "data": {
      "text/html": [
       "<div style=\"overflow:auto\"><table style=\"width:50%\"><tr><td><b></b></td>\n",
       "<td><b>0</b></td>\n",
       "<td><b>1</b></td>\n",
       "<td><b>Error</b></td>\n",
       "<td><b>Rate</b></td></tr>\n",
       "<tr><td>0</td>\n",
       "<td>1994.0</td>\n",
       "<td>688.0</td>\n",
       "<td>0.2565</td>\n",
       "<td> (688.0/2682.0)</td></tr>\n",
       "<tr><td>1</td>\n",
       "<td>158.0</td>\n",
       "<td>353.0</td>\n",
       "<td>0.3092</td>\n",
       "<td> (158.0/511.0)</td></tr>\n",
       "<tr><td>Total</td>\n",
       "<td>2152.0</td>\n",
       "<td>1041.0</td>\n",
       "<td>0.265</td>\n",
       "<td> (846.0/3193.0)</td></tr></table></div>"
      ],
      "text/plain": [
       "       0     1     Error    Rate\n",
       "-----  ----  ----  -------  --------------\n",
       "0      1994  688   0.2565   (688.0/2682.0)\n",
       "1      158   353   0.3092   (158.0/511.0)\n",
       "Total  2152  1041  0.265    (846.0/3193.0)"
      ]
     },
     "metadata": {},
     "output_type": "display_data"
    },
    {
     "name": "stdout",
     "output_type": "stream",
     "text": [
      "Maximum Metrics: Maximum metrics at their respective thresholds\n",
      "\n"
     ]
    },
    {
     "data": {
      "text/html": [
       "<div style=\"overflow:auto\"><table style=\"width:50%\"><tr><td><b>metric</b></td>\n",
       "<td><b>threshold</b></td>\n",
       "<td><b>value</b></td>\n",
       "<td><b>idx</b></td></tr>\n",
       "<tr><td>max f1</td>\n",
       "<td>0.1579477</td>\n",
       "<td>0.4548969</td>\n",
       "<td>234.0</td></tr>\n",
       "<tr><td>max f2</td>\n",
       "<td>0.0774718</td>\n",
       "<td>0.6115203</td>\n",
       "<td>309.0</td></tr>\n",
       "<tr><td>max f0point5</td>\n",
       "<td>0.2825640</td>\n",
       "<td>0.4130534</td>\n",
       "<td>145.0</td></tr>\n",
       "<tr><td>max accuracy</td>\n",
       "<td>0.5052950</td>\n",
       "<td>0.8449734</td>\n",
       "<td>47.0</td></tr>\n",
       "<tr><td>max precision</td>\n",
       "<td>0.7362730</td>\n",
       "<td>0.6666667</td>\n",
       "<td>2.0</td></tr>\n",
       "<tr><td>max recall</td>\n",
       "<td>0.0122491</td>\n",
       "<td>1.0</td>\n",
       "<td>387.0</td></tr>\n",
       "<tr><td>max specificity</td>\n",
       "<td>0.7661873</td>\n",
       "<td>0.9996271</td>\n",
       "<td>0.0</td></tr>\n",
       "<tr><td>max absolute_mcc</td>\n",
       "<td>0.1313029</td>\n",
       "<td>0.3449061</td>\n",
       "<td>259.0</td></tr>\n",
       "<tr><td>max min_per_class_accuracy</td>\n",
       "<td>0.1488385</td>\n",
       "<td>0.7192394</td>\n",
       "<td>243.0</td></tr>\n",
       "<tr><td>max mean_per_class_accuracy</td>\n",
       "<td>0.1313029</td>\n",
       "<td>0.7298964</td>\n",
       "<td>259.0</td></tr></table></div>"
      ],
      "text/plain": [
       "metric                       threshold    value     idx\n",
       "---------------------------  -----------  --------  -----\n",
       "max f1                       0.157948     0.454897  234\n",
       "max f2                       0.0774718    0.61152   309\n",
       "max f0point5                 0.282564     0.413053  145\n",
       "max accuracy                 0.505295     0.844973  47\n",
       "max precision                0.736273     0.666667  2\n",
       "max recall                   0.0122491    1         387\n",
       "max specificity              0.766187     0.999627  0\n",
       "max absolute_mcc             0.131303     0.344906  259\n",
       "max min_per_class_accuracy   0.148839     0.719239  243\n",
       "max mean_per_class_accuracy  0.131303     0.729896  259"
      ]
     },
     "metadata": {},
     "output_type": "display_data"
    },
    {
     "name": "stdout",
     "output_type": "stream",
     "text": [
      "Gains/Lift Table: Avg response rate: 16.00 %\n",
      "\n"
     ]
    },
    {
     "data": {
      "text/html": [
       "<div style=\"overflow:auto\"><table style=\"width:50%\"><tr><td><b></b></td>\n",
       "<td><b>group</b></td>\n",
       "<td><b>cumulative_data_fraction</b></td>\n",
       "<td><b>lower_threshold</b></td>\n",
       "<td><b>lift</b></td>\n",
       "<td><b>cumulative_lift</b></td>\n",
       "<td><b>response_rate</b></td>\n",
       "<td><b>cumulative_response_rate</b></td>\n",
       "<td><b>capture_rate</b></td>\n",
       "<td><b>cumulative_capture_rate</b></td>\n",
       "<td><b>gain</b></td>\n",
       "<td><b>cumulative_gain</b></td></tr>\n",
       "<tr><td></td>\n",
       "<td>1</td>\n",
       "<td>0.0100219</td>\n",
       "<td>0.5840447</td>\n",
       "<td>3.7100660</td>\n",
       "<td>3.7100660</td>\n",
       "<td>0.59375</td>\n",
       "<td>0.59375</td>\n",
       "<td>0.0371820</td>\n",
       "<td>0.0371820</td>\n",
       "<td>271.0066047</td>\n",
       "<td>271.0066047</td></tr>\n",
       "<tr><td></td>\n",
       "<td>2</td>\n",
       "<td>0.0200438</td>\n",
       "<td>0.5316734</td>\n",
       "<td>3.5147994</td>\n",
       "<td>3.6124327</td>\n",
       "<td>0.5625</td>\n",
       "<td>0.578125</td>\n",
       "<td>0.0352250</td>\n",
       "<td>0.0724070</td>\n",
       "<td>251.4799413</td>\n",
       "<td>261.2432730</td></tr>\n",
       "<tr><td></td>\n",
       "<td>3</td>\n",
       "<td>0.0300658</td>\n",
       "<td>0.4825315</td>\n",
       "<td>3.1242661</td>\n",
       "<td>3.4497105</td>\n",
       "<td>0.5</td>\n",
       "<td>0.5520833</td>\n",
       "<td>0.0313112</td>\n",
       "<td>0.1037182</td>\n",
       "<td>212.4266145</td>\n",
       "<td>244.9710535</td></tr>\n",
       "<tr><td></td>\n",
       "<td>4</td>\n",
       "<td>0.0400877</td>\n",
       "<td>0.4452555</td>\n",
       "<td>2.1479330</td>\n",
       "<td>3.1242661</td>\n",
       "<td>0.34375</td>\n",
       "<td>0.5</td>\n",
       "<td>0.0215264</td>\n",
       "<td>0.1252446</td>\n",
       "<td>114.7932975</td>\n",
       "<td>212.4266145</td></tr>\n",
       "<tr><td></td>\n",
       "<td>5</td>\n",
       "<td>0.0501096</td>\n",
       "<td>0.4188160</td>\n",
       "<td>3.3195328</td>\n",
       "<td>3.1633195</td>\n",
       "<td>0.53125</td>\n",
       "<td>0.50625</td>\n",
       "<td>0.0332681</td>\n",
       "<td>0.1585127</td>\n",
       "<td>231.9532779</td>\n",
       "<td>216.3319472</td></tr>\n",
       "<tr><td></td>\n",
       "<td>6</td>\n",
       "<td>0.1002192</td>\n",
       "<td>0.3198554</td>\n",
       "<td>2.4994129</td>\n",
       "<td>2.8313662</td>\n",
       "<td>0.4</td>\n",
       "<td>0.453125</td>\n",
       "<td>0.1252446</td>\n",
       "<td>0.2837573</td>\n",
       "<td>149.9412916</td>\n",
       "<td>183.1366194</td></tr>\n",
       "<tr><td></td>\n",
       "<td>7</td>\n",
       "<td>0.1500157</td>\n",
       "<td>0.2630717</td>\n",
       "<td>2.0042462</td>\n",
       "<td>2.5568107</td>\n",
       "<td>0.3207547</td>\n",
       "<td>0.4091858</td>\n",
       "<td>0.0998043</td>\n",
       "<td>0.3835616</td>\n",
       "<td>100.4246206</td>\n",
       "<td>155.6810707</td></tr>\n",
       "<tr><td></td>\n",
       "<td>8</td>\n",
       "<td>0.2001253</td>\n",
       "<td>0.2271430</td>\n",
       "<td>1.9917197</td>\n",
       "<td>2.4153169</td>\n",
       "<td>0.31875</td>\n",
       "<td>0.3865415</td>\n",
       "<td>0.0998043</td>\n",
       "<td>0.4833659</td>\n",
       "<td>99.1719667</td>\n",
       "<td>141.5316863</td></tr>\n",
       "<tr><td></td>\n",
       "<td>9</td>\n",
       "<td>0.3000313</td>\n",
       "<td>0.1715366</td>\n",
       "<td>1.6649694</td>\n",
       "<td>2.1654621</td>\n",
       "<td>0.2664577</td>\n",
       "<td>0.3465553</td>\n",
       "<td>0.1663405</td>\n",
       "<td>0.6497065</td>\n",
       "<td>66.4969419</td>\n",
       "<td>116.5462130</td></tr>\n",
       "<tr><td></td>\n",
       "<td>10</td>\n",
       "<td>0.3999374</td>\n",
       "<td>0.1296693</td>\n",
       "<td>1.3319755</td>\n",
       "<td>1.9572537</td>\n",
       "<td>0.2131661</td>\n",
       "<td>0.3132341</td>\n",
       "<td>0.1330724</td>\n",
       "<td>0.7827789</td>\n",
       "<td>33.1975535</td>\n",
       "<td>95.7253654</td></tr>\n",
       "<tr><td></td>\n",
       "<td>11</td>\n",
       "<td>0.5001566</td>\n",
       "<td>0.0938001</td>\n",
       "<td>0.8591732</td>\n",
       "<td>1.7372250</td>\n",
       "<td>0.1375</td>\n",
       "<td>0.2780213</td>\n",
       "<td>0.0861057</td>\n",
       "<td>0.8688845</td>\n",
       "<td>-14.0826810</td>\n",
       "<td>73.7225007</td></tr>\n",
       "<tr><td></td>\n",
       "<td>12</td>\n",
       "<td>0.6000626</td>\n",
       "<td>0.0640221</td>\n",
       "<td>0.6855756</td>\n",
       "<td>1.5621331</td>\n",
       "<td>0.1097179</td>\n",
       "<td>0.25</td>\n",
       "<td>0.0684932</td>\n",
       "<td>0.9373777</td>\n",
       "<td>-31.4424357</td>\n",
       "<td>56.2133072</td></tr>\n",
       "<tr><td></td>\n",
       "<td>13</td>\n",
       "<td>0.6999687</td>\n",
       "<td>0.0411153</td>\n",
       "<td>0.4309333</td>\n",
       "<td>1.4006777</td>\n",
       "<td>0.0689655</td>\n",
       "<td>0.2241611</td>\n",
       "<td>0.0430528</td>\n",
       "<td>0.9804305</td>\n",
       "<td>-56.9066739</td>\n",
       "<td>40.0677708</td></tr>\n",
       "<tr><td></td>\n",
       "<td>14</td>\n",
       "<td>0.7998747</td>\n",
       "<td>0.0249265</td>\n",
       "<td>0.1175273</td>\n",
       "<td>1.2404095</td>\n",
       "<td>0.0188088</td>\n",
       "<td>0.1985121</td>\n",
       "<td>0.0117417</td>\n",
       "<td>0.9921722</td>\n",
       "<td>-88.2472747</td>\n",
       "<td>24.0409503</td></tr>\n",
       "<tr><td></td>\n",
       "<td>15</td>\n",
       "<td>0.8997808</td>\n",
       "<td>0.0128978</td>\n",
       "<td>0.0587636</td>\n",
       "<td>1.1092069</td>\n",
       "<td>0.0094044</td>\n",
       "<td>0.1775148</td>\n",
       "<td>0.0058708</td>\n",
       "<td>0.9980431</td>\n",
       "<td>-94.1236373</td>\n",
       "<td>10.9206915</td></tr>\n",
       "<tr><td></td>\n",
       "<td>16</td>\n",
       "<td>1.0</td>\n",
       "<td>0.0042238</td>\n",
       "<td>0.0195267</td>\n",
       "<td>1.0</td>\n",
       "<td>0.003125</td>\n",
       "<td>0.1600376</td>\n",
       "<td>0.0019569</td>\n",
       "<td>1.0</td>\n",
       "<td>-98.0473337</td>\n",
       "<td>0.0</td></tr></table></div>"
      ],
      "text/plain": [
       "    group    cumulative_data_fraction    lower_threshold    lift       cumulative_lift    response_rate    cumulative_response_rate    capture_rate    cumulative_capture_rate    gain      cumulative_gain\n",
       "--  -------  --------------------------  -----------------  ---------  -----------------  ---------------  --------------------------  --------------  -------------------------  --------  -----------------\n",
       "    1        0.0100219                   0.584045           3.71007    3.71007            0.59375          0.59375                     0.037182        0.037182                   271.007   271.007\n",
       "    2        0.0200438                   0.531673           3.5148     3.61243            0.5625           0.578125                    0.035225        0.072407                   251.48    261.243\n",
       "    3        0.0300658                   0.482531           3.12427    3.44971            0.5              0.552083                    0.0313112       0.103718                   212.427   244.971\n",
       "    4        0.0400877                   0.445256           2.14793    3.12427            0.34375          0.5                         0.0215264       0.125245                   114.793   212.427\n",
       "    5        0.0501096                   0.418816           3.31953    3.16332            0.53125          0.50625                     0.0332681       0.158513                   231.953   216.332\n",
       "    6        0.100219                    0.319855           2.49941    2.83137            0.4              0.453125                    0.125245        0.283757                   149.941   183.137\n",
       "    7        0.150016                    0.263072           2.00425    2.55681            0.320755         0.409186                    0.0998043       0.383562                   100.425   155.681\n",
       "    8        0.200125                    0.227143           1.99172    2.41532            0.31875          0.386541                    0.0998043       0.483366                   99.172    141.532\n",
       "    9        0.300031                    0.171537           1.66497    2.16546            0.266458         0.346555                    0.166341        0.649706                   66.4969   116.546\n",
       "    10       0.399937                    0.129669           1.33198    1.95725            0.213166         0.313234                    0.133072        0.782779                   33.1976   95.7254\n",
       "    11       0.500157                    0.0938001          0.859173   1.73723            0.1375           0.278021                    0.0861057       0.868885                   -14.0827  73.7225\n",
       "    12       0.600063                    0.0640221          0.685576   1.56213            0.109718         0.25                        0.0684932       0.937378                   -31.4424  56.2133\n",
       "    13       0.699969                    0.0411153          0.430933   1.40068            0.0689655        0.224161                    0.0430528       0.980431                   -56.9067  40.0678\n",
       "    14       0.799875                    0.0249265          0.117527   1.24041            0.0188088        0.198512                    0.0117417       0.992172                   -88.2473  24.041\n",
       "    15       0.899781                    0.0128978          0.0587636  1.10921            0.00940439       0.177515                    0.00587084      0.998043                   -94.1236  10.9207\n",
       "    16       1                           0.00422376         0.0195267  1                  0.003125         0.160038                    0.00195695      1                          -98.0473  0"
      ]
     },
     "metadata": {},
     "output_type": "display_data"
    },
    {
     "name": "stdout",
     "output_type": "stream",
     "text": [
      "\n"
     ]
    },
    {
     "data": {
      "text/plain": []
     },
     "execution_count": 137,
     "metadata": {},
     "output_type": "execute_result"
    }
   ],
   "source": [
    "gs_1.model_performance(test_data=testh)"
   ]
  },
  {
   "cell_type": "markdown",
   "metadata": {},
   "source": [
    "# Random Forest Model"
   ]
  },
  {
   "cell_type": "code",
   "execution_count": 138,
   "metadata": {},
   "outputs": [
    {
     "name": "stdout",
     "output_type": "stream",
     "text": [
      "drf Grid Build progress: |████████████████████████████████████████████████| 100%\n"
     ]
    }
   ],
   "source": [
    "from h2o.estimators.random_forest import H2ORandomForestEstimator\n",
    "# define random grid search parameters\n",
    "hyper_parameters = {'ntrees':list(range(1, 500, 10)),\n",
    "                    'max_depth':list(range(1, 10, 2)),\n",
    "                   'stopping_metric' : 'auc'}\n",
    "\n",
    "# define search strategy\n",
    "search_criteria = {'strategy':'RandomDiscrete',\n",
    "                   'max_models':20,\n",
    "                   'max_runtime_secs':600}\n",
    "\n",
    "# initialize grid search\n",
    "rf_search = H2OGridSearch(H2ORandomForestEstimator,\n",
    "                        hyper_params=hyper_parameters,\n",
    "                        search_criteria=search_criteria)\n",
    "\n",
    "# execute training w/ grid search\n",
    "rf_search.train(\n",
    "    x=X,\n",
    "    y=y,\n",
    "    training_frame=trainh,\n",
    "    validation_frame=validh)\n",
    "\n"
   ]
  },
  {
   "cell_type": "code",
   "execution_count": 139,
   "metadata": {
    "collapsed": true
   },
   "outputs": [],
   "source": [
    "rf_pram = rf_search.get_grid()[0]"
   ]
  },
  {
   "cell_type": "code",
   "execution_count": 140,
   "metadata": {},
   "outputs": [
    {
     "name": "stdout",
     "output_type": "stream",
     "text": [
      "0.7224888698909464\n",
      "0.7646724809505611\n",
      "0.766226900799853\n"
     ]
    }
   ],
   "source": [
    "print(rf_pram.auc(train=True))\n",
    "print(rf_pram.auc(valid=True))\n",
    "print(rf_pram.model_performance(test_data=testh).auc())"
   ]
  },
  {
   "cell_type": "code",
   "execution_count": 141,
   "metadata": {},
   "outputs": [
    {
     "data": {
      "image/png": "[encoded data removed]",
      "text/plain": [
       "<matplotlib.figure.Figure at 0x10ff8b358>"
      ]
     },
     "metadata": {},
     "output_type": "display_data"
    }
   ],
   "source": [
    "rf_pram.model_performance(test_data=testh).plot()"
   ]
  },
  {
   "cell_type": "code",
   "execution_count": 142,
   "metadata": {},
   "outputs": [
    {
     "name": "stdout",
     "output_type": "stream",
     "text": [
      "\n",
      "ModelMetricsBinomial: drf\n",
      "** Reported on test data. **\n",
      "\n",
      "MSE: 0.12220333263474256\n",
      "RMSE: 0.3495759325736578\n",
      "LogLoss: 0.3945509388597151\n",
      "Mean Per-Class Error: 0.29722722039077654\n",
      "AUC: 0.766226900799853\n",
      "Gini: 0.532453801599706\n",
      "Confusion Matrix (Act/Pred) for max f1 @ threshold = 0.1934780166990875: \n"
     ]
    },
    {
     "data": {
      "text/html": [
       "<div style=\"overflow:auto\"><table style=\"width:50%\"><tr><td><b></b></td>\n",
       "<td><b>0</b></td>\n",
       "<td><b>1</b></td>\n",
       "<td><b>Error</b></td>\n",
       "<td><b>Rate</b></td></tr>\n",
       "<tr><td>0</td>\n",
       "<td>1883.0</td>\n",
       "<td>799.0</td>\n",
       "<td>0.2979</td>\n",
       "<td> (799.0/2682.0)</td></tr>\n",
       "<tr><td>1</td>\n",
       "<td>158.0</td>\n",
       "<td>353.0</td>\n",
       "<td>0.3092</td>\n",
       "<td> (158.0/511.0)</td></tr>\n",
       "<tr><td>Total</td>\n",
       "<td>2041.0</td>\n",
       "<td>1152.0</td>\n",
       "<td>0.2997</td>\n",
       "<td> (957.0/3193.0)</td></tr></table></div>"
      ],
      "text/plain": [
       "       0     1     Error    Rate\n",
       "-----  ----  ----  -------  --------------\n",
       "0      1883  799   0.2979   (799.0/2682.0)\n",
       "1      158   353   0.3092   (158.0/511.0)\n",
       "Total  2041  1152  0.2997   (957.0/3193.0)"
      ]
     },
     "metadata": {},
     "output_type": "display_data"
    },
    {
     "name": "stdout",
     "output_type": "stream",
     "text": [
      "Maximum Metrics: Maximum metrics at their respective thresholds\n",
      "\n"
     ]
    },
    {
     "data": {
      "text/html": [
       "<div style=\"overflow:auto\"><table style=\"width:50%\"><tr><td><b>metric</b></td>\n",
       "<td><b>threshold</b></td>\n",
       "<td><b>value</b></td>\n",
       "<td><b>idx</b></td></tr>\n",
       "<tr><td>max f1</td>\n",
       "<td>0.1934780</td>\n",
       "<td>0.4245340</td>\n",
       "<td>174.0</td></tr>\n",
       "<tr><td>max f2</td>\n",
       "<td>0.1543731</td>\n",
       "<td>0.5888377</td>\n",
       "<td>235.0</td></tr>\n",
       "<tr><td>max f0point5</td>\n",
       "<td>0.2306204</td>\n",
       "<td>0.3790028</td>\n",
       "<td>116.0</td></tr>\n",
       "<tr><td>max accuracy</td>\n",
       "<td>0.3694763</td>\n",
       "<td>0.8415283</td>\n",
       "<td>17.0</td></tr>\n",
       "<tr><td>max precision</td>\n",
       "<td>0.4845454</td>\n",
       "<td>1.0</td>\n",
       "<td>0.0</td></tr>\n",
       "<tr><td>max recall</td>\n",
       "<td>0.0874154</td>\n",
       "<td>1.0</td>\n",
       "<td>332.0</td></tr>\n",
       "<tr><td>max specificity</td>\n",
       "<td>0.4845454</td>\n",
       "<td>1.0</td>\n",
       "<td>0.0</td></tr>\n",
       "<tr><td>max absolute_mcc</td>\n",
       "<td>0.1812609</td>\n",
       "<td>0.3004727</td>\n",
       "<td>194.0</td></tr>\n",
       "<tr><td>max min_per_class_accuracy</td>\n",
       "<td>0.1920157</td>\n",
       "<td>0.6942580</td>\n",
       "<td>176.0</td></tr>\n",
       "<tr><td>max mean_per_class_accuracy</td>\n",
       "<td>0.1812609</td>\n",
       "<td>0.7027728</td>\n",
       "<td>194.0</td></tr></table></div>"
      ],
      "text/plain": [
       "metric                       threshold    value     idx\n",
       "---------------------------  -----------  --------  -----\n",
       "max f1                       0.193478     0.424534  174\n",
       "max f2                       0.154373     0.588838  235\n",
       "max f0point5                 0.23062      0.379003  116\n",
       "max accuracy                 0.369476     0.841528  17\n",
       "max precision                0.484545     1         0\n",
       "max recall                   0.0874154    1         332\n",
       "max specificity              0.484545     1         0\n",
       "max absolute_mcc             0.181261     0.300473  194\n",
       "max min_per_class_accuracy   0.192016     0.694258  176\n",
       "max mean_per_class_accuracy  0.181261     0.702773  194"
      ]
     },
     "metadata": {},
     "output_type": "display_data"
    },
    {
     "name": "stdout",
     "output_type": "stream",
     "text": [
      "Gains/Lift Table: Avg response rate: 16.00 %\n",
      "\n"
     ]
    },
    {
     "data": {
      "text/html": [
       "<div style=\"overflow:auto\"><table style=\"width:50%\"><tr><td><b></b></td>\n",
       "<td><b>group</b></td>\n",
       "<td><b>cumulative_data_fraction</b></td>\n",
       "<td><b>lower_threshold</b></td>\n",
       "<td><b>lift</b></td>\n",
       "<td><b>cumulative_lift</b></td>\n",
       "<td><b>response_rate</b></td>\n",
       "<td><b>cumulative_response_rate</b></td>\n",
       "<td><b>capture_rate</b></td>\n",
       "<td><b>cumulative_capture_rate</b></td>\n",
       "<td><b>gain</b></td>\n",
       "<td><b>cumulative_gain</b></td></tr>\n",
       "<tr><td></td>\n",
       "<td>1</td>\n",
       "<td>0.0100219</td>\n",
       "<td>0.3502662</td>\n",
       "<td>3.1242661</td>\n",
       "<td>3.1242661</td>\n",
       "<td>0.5</td>\n",
       "<td>0.5</td>\n",
       "<td>0.0313112</td>\n",
       "<td>0.0313112</td>\n",
       "<td>212.4266145</td>\n",
       "<td>212.4266145</td></tr>\n",
       "<tr><td></td>\n",
       "<td>2</td>\n",
       "<td>0.0200438</td>\n",
       "<td>0.3146018</td>\n",
       "<td>3.5147994</td>\n",
       "<td>3.3195328</td>\n",
       "<td>0.5625</td>\n",
       "<td>0.53125</td>\n",
       "<td>0.0352250</td>\n",
       "<td>0.0665362</td>\n",
       "<td>251.4799413</td>\n",
       "<td>231.9532779</td></tr>\n",
       "<tr><td></td>\n",
       "<td>3</td>\n",
       "<td>0.0300658</td>\n",
       "<td>0.2938351</td>\n",
       "<td>2.5384662</td>\n",
       "<td>3.0591773</td>\n",
       "<td>0.40625</td>\n",
       "<td>0.4895833</td>\n",
       "<td>0.0254403</td>\n",
       "<td>0.0919765</td>\n",
       "<td>153.8466243</td>\n",
       "<td>205.9177267</td></tr>\n",
       "<tr><td></td>\n",
       "<td>4</td>\n",
       "<td>0.0400877</td>\n",
       "<td>0.2800694</td>\n",
       "<td>2.7337329</td>\n",
       "<td>2.9778162</td>\n",
       "<td>0.4375</td>\n",
       "<td>0.4765625</td>\n",
       "<td>0.0273973</td>\n",
       "<td>0.1193738</td>\n",
       "<td>173.3732877</td>\n",
       "<td>197.7816169</td></tr>\n",
       "<tr><td></td>\n",
       "<td>5</td>\n",
       "<td>0.0501096</td>\n",
       "<td>0.2720657</td>\n",
       "<td>2.5384662</td>\n",
       "<td>2.8899462</td>\n",
       "<td>0.40625</td>\n",
       "<td>0.4625</td>\n",
       "<td>0.0254403</td>\n",
       "<td>0.1448141</td>\n",
       "<td>153.8466243</td>\n",
       "<td>188.9946184</td></tr>\n",
       "<tr><td></td>\n",
       "<td>6</td>\n",
       "<td>0.1002192</td>\n",
       "<td>0.2428121</td>\n",
       "<td>2.2260396</td>\n",
       "<td>2.5579929</td>\n",
       "<td>0.35625</td>\n",
       "<td>0.409375</td>\n",
       "<td>0.1115460</td>\n",
       "<td>0.2563601</td>\n",
       "<td>122.6039628</td>\n",
       "<td>155.7992906</td></tr>\n",
       "<tr><td></td>\n",
       "<td>7</td>\n",
       "<td>0.1500157</td>\n",
       "<td>0.2307315</td>\n",
       "<td>2.0042462</td>\n",
       "<td>2.3741814</td>\n",
       "<td>0.3207547</td>\n",
       "<td>0.3799582</td>\n",
       "<td>0.0998043</td>\n",
       "<td>0.3561644</td>\n",
       "<td>100.4246206</td>\n",
       "<td>137.4181371</td></tr>\n",
       "<tr><td></td>\n",
       "<td>8</td>\n",
       "<td>0.2001253</td>\n",
       "<td>0.2215561</td>\n",
       "<td>1.6402397</td>\n",
       "<td>2.1904088</td>\n",
       "<td>0.2625</td>\n",
       "<td>0.3505477</td>\n",
       "<td>0.0821918</td>\n",
       "<td>0.4383562</td>\n",
       "<td>64.0239726</td>\n",
       "<td>119.0408815</td></tr>\n",
       "<tr><td></td>\n",
       "<td>9</td>\n",
       "<td>0.3000313</td>\n",
       "<td>0.2016547</td>\n",
       "<td>1.6257937</td>\n",
       "<td>2.0024002</td>\n",
       "<td>0.2601881</td>\n",
       "<td>0.3204593</td>\n",
       "<td>0.1624266</td>\n",
       "<td>0.6007828</td>\n",
       "<td>62.5793668</td>\n",
       "<td>100.2400222</td></tr>\n",
       "<tr><td></td>\n",
       "<td>10</td>\n",
       "<td>0.3999374</td>\n",
       "<td>0.1858582</td>\n",
       "<td>1.3319755</td>\n",
       "<td>1.8349253</td>\n",
       "<td>0.2131661</td>\n",
       "<td>0.2936570</td>\n",
       "<td>0.1330724</td>\n",
       "<td>0.7338552</td>\n",
       "<td>33.1975535</td>\n",
       "<td>83.4925300</td></tr>\n",
       "<tr><td></td>\n",
       "<td>11</td>\n",
       "<td>0.5001566</td>\n",
       "<td>0.1685559</td>\n",
       "<td>0.9763332</td>\n",
       "<td>1.6628843</td>\n",
       "<td>0.15625</td>\n",
       "<td>0.2661240</td>\n",
       "<td>0.0978474</td>\n",
       "<td>0.8317025</td>\n",
       "<td>-2.3666830</td>\n",
       "<td>66.2884297</td></tr>\n",
       "<tr><td></td>\n",
       "<td>12</td>\n",
       "<td>0.6000626</td>\n",
       "<td>0.1507865</td>\n",
       "<td>0.7443393</td>\n",
       "<td>1.5099533</td>\n",
       "<td>0.1191223</td>\n",
       "<td>0.2416493</td>\n",
       "<td>0.0743640</td>\n",
       "<td>0.9060665</td>\n",
       "<td>-25.5660730</td>\n",
       "<td>50.9953262</td></tr>\n",
       "<tr><td></td>\n",
       "<td>13</td>\n",
       "<td>0.6999687</td>\n",
       "<td>0.1292471</td>\n",
       "<td>0.5680484</td>\n",
       "<td>1.3755158</td>\n",
       "<td>0.0909091</td>\n",
       "<td>0.2201342</td>\n",
       "<td>0.0567515</td>\n",
       "<td>0.9628180</td>\n",
       "<td>-43.1951610</td>\n",
       "<td>37.5515833</td></tr>\n",
       "<tr><td></td>\n",
       "<td>14</td>\n",
       "<td>0.7998747</td>\n",
       "<td>0.1063484</td>\n",
       "<td>0.2154666</td>\n",
       "<td>1.2306232</td>\n",
       "<td>0.0344828</td>\n",
       "<td>0.1969460</td>\n",
       "<td>0.0215264</td>\n",
       "<td>0.9843444</td>\n",
       "<td>-78.4533369</td>\n",
       "<td>23.0623235</td></tr>\n",
       "<tr><td></td>\n",
       "<td>15</td>\n",
       "<td>0.8997808</td>\n",
       "<td>0.0789130</td>\n",
       "<td>0.1567030</td>\n",
       "<td>1.1113818</td>\n",
       "<td>0.0250784</td>\n",
       "<td>0.1778629</td>\n",
       "<td>0.0156556</td>\n",
       "<td>1.0</td>\n",
       "<td>-84.3296996</td>\n",
       "<td>11.1381831</td></tr>\n",
       "<tr><td></td>\n",
       "<td>16</td>\n",
       "<td>1.0</td>\n",
       "<td>0.0259580</td>\n",
       "<td>0.0</td>\n",
       "<td>1.0</td>\n",
       "<td>0.0</td>\n",
       "<td>0.1600376</td>\n",
       "<td>0.0</td>\n",
       "<td>1.0</td>\n",
       "<td>-100.0</td>\n",
       "<td>0.0</td></tr></table></div>"
      ],
      "text/plain": [
       "    group    cumulative_data_fraction    lower_threshold    lift      cumulative_lift    response_rate    cumulative_response_rate    capture_rate    cumulative_capture_rate    gain      cumulative_gain\n",
       "--  -------  --------------------------  -----------------  --------  -----------------  ---------------  --------------------------  --------------  -------------------------  --------  -----------------\n",
       "    1        0.0100219                   0.350266           3.12427   3.12427            0.5              0.5                         0.0313112       0.0313112                  212.427   212.427\n",
       "    2        0.0200438                   0.314602           3.5148    3.31953            0.5625           0.53125                     0.035225        0.0665362                  251.48    231.953\n",
       "    3        0.0300658                   0.293835           2.53847   3.05918            0.40625          0.489583                    0.0254403       0.0919765                  153.847   205.918\n",
       "    4        0.0400877                   0.280069           2.73373   2.97782            0.4375           0.476562                    0.0273973       0.119374                   173.373   197.782\n",
       "    5        0.0501096                   0.272066           2.53847   2.88995            0.40625          0.4625                      0.0254403       0.144814                   153.847   188.995\n",
       "    6        0.100219                    0.242812           2.22604   2.55799            0.35625          0.409375                    0.111546        0.25636                    122.604   155.799\n",
       "    7        0.150016                    0.230731           2.00425   2.37418            0.320755         0.379958                    0.0998043       0.356164                   100.425   137.418\n",
       "    8        0.200125                    0.221556           1.64024   2.19041            0.2625           0.350548                    0.0821918       0.438356                   64.024    119.041\n",
       "    9        0.300031                    0.201655           1.62579   2.0024             0.260188         0.320459                    0.162427        0.600783                   62.5794   100.24\n",
       "    10       0.399937                    0.185858           1.33198   1.83493            0.213166         0.293657                    0.133072        0.733855                   33.1976   83.4925\n",
       "    11       0.500157                    0.168556           0.976333  1.66288            0.15625          0.266124                    0.0978474       0.831703                   -2.36668  66.2884\n",
       "    12       0.600063                    0.150787           0.744339  1.50995            0.119122         0.241649                    0.074364        0.906067                   -25.5661  50.9953\n",
       "    13       0.699969                    0.129247           0.568048  1.37552            0.0909091        0.220134                    0.0567515       0.962818                   -43.1952  37.5516\n",
       "    14       0.799875                    0.106348           0.215467  1.23062            0.0344828        0.196946                    0.0215264       0.984344                   -78.4533  23.0623\n",
       "    15       0.899781                    0.078913           0.156703  1.11138            0.0250784        0.177863                    0.0156556       1                          -84.3297  11.1382\n",
       "    16       1                           0.025958           0         1                  0                0.160038                    0               1                          -100      0"
      ]
     },
     "metadata": {},
     "output_type": "display_data"
    },
    {
     "name": "stdout",
     "output_type": "stream",
     "text": [
      "\n"
     ]
    },
    {
     "data": {
      "text/plain": []
     },
     "execution_count": 142,
     "metadata": {},
     "output_type": "execute_result"
    }
   ],
   "source": [
    "rf_pram.model_performance(test_data=testh)"
   ]
  },
  {
   "cell_type": "code",
   "execution_count": null,
   "metadata": {
    "collapsed": true
   },
   "outputs": [],
   "source": []
  },
  {
   "cell_type": "code",
   "execution_count": null,
   "metadata": {
    "collapsed": true
   },
   "outputs": [],
   "source": []
  },
  {
   "cell_type": "code",
   "execution_count": null,
   "metadata": {
    "collapsed": true
   },
   "outputs": [],
   "source": []
  },
  {
   "cell_type": "markdown",
   "metadata": {
    "collapsed": true
   },
   "source": [
    "# We have also attempted logistic regression , but the result was not as good. So our final model has an AUC of 0.817. False negative rate is 0.285. "
   ]
  },
  {
   "cell_type": "markdown",
   "metadata": {},
   "source": [
    "# GBM 1 Analysis"
   ]
  },
  {
   "cell_type": "code",
   "execution_count": 143,
   "metadata": {},
   "outputs": [
    {
     "data": {
      "image/png": "[encoded data removed]",
      "text/plain": [
       "<matplotlib.figure.Figure at 0x1a1de96668>"
      ]
     },
     "metadata": {},
     "output_type": "display_data"
    }
   ],
   "source": [
    "gbm_model.varimp_plot()"
   ]
  },
  {
   "cell_type": "code",
   "execution_count": 144,
   "metadata": {
    "collapsed": true
   },
   "outputs": [],
   "source": [
    "test1 = testh"
   ]
  },
  {
   "cell_type": "code",
   "execution_count": 145,
   "metadata": {},
   "outputs": [
    {
     "name": "stdout",
     "output_type": "stream",
     "text": [
      "gbm prediction progress: |████████████████████████████████████████████████| 100%\n"
     ]
    }
   ],
   "source": [
    "test1['p_prediction']=gbm_model.predict(testh).drop(['predict', 'p0'])"
   ]
  },
  {
   "cell_type": "code",
   "execution_count": 154,
   "metadata": {
    "collapsed": true
   },
   "outputs": [],
   "source": [
    "test1.as_data_frame().to_csv('prediction.csv')"
   ]
  },
  {
   "cell_type": "code",
   "execution_count": 146,
   "metadata": {},
   "outputs": [
    {
     "name": "stdout",
     "output_type": "stream",
     "text": [
      "drf Model Build progress: |███████████████████████████████████████████████| 100%\n",
      "Generated MOJO path:\n",
      " /Users/elvy/Documents/GWU/Practicum/dt_surrogate_mojo.zip\n"
     ]
    }
   ],
   "source": [
    "from h2o.estimators.random_forest import H2ORandomForestEstimator\n",
    "model_id = 'dt_surrogate_mojo' # gives MOJO artifact a recognizable name\n",
    "\n",
    "# initialize single tree surrogate model\n",
    "surrogate = H2ORandomForestEstimator(ntrees=1,          # use only one tree\n",
    "                                     sample_rate=1,     # use all rows in that tree\n",
    "                                     mtries=-2,         # use all columns in that tree\n",
    "                                     max_depth=3,       # shallow trees are easier to understand\n",
    "                                     seed=12345,        # random seed for reproducibility\n",
    "                                     model_id=model_id) # gives MOJO artifact a recognizable name\n",
    "\n",
    "# train single tree surrogate model\n",
    "surrogate.train(x=X, y='p_prediction', training_frame=test1)\n",
    "\n",
    "# persist MOJO (compiled, representation of trained model)\n",
    "# from which to generate plot of surrogate\n",
    "mojo_path = surrogate.download_mojo(path='.')\n",
    "print('Generated MOJO path:\\n', mojo_path)"
   ]
  },
  {
   "cell_type": "code",
   "execution_count": 147,
   "metadata": {},
   "outputs": [
    {
     "name": "stdout",
     "output_type": "stream",
     "text": [
      "Discovered H2O jar path:\n",
      " /Users/elvy/anaconda3/lib/python3.5/site-packages/h2o/backend/bin/h2o.jar\n",
      "\n",
      "Calling external process ...\n",
      "java -cp /Users/elvy/anaconda3/lib/python3.5/site-packages/h2o/backend/bin/h2o.jar hex.genmodel.tools.PrintMojo --tree 0 -i /Users/elvy/Documents/GWU/Practicum/dt_surrogate_mojo.zip -o dt_surrogate_mojo.gv --title London Tourist Decision Tree Surrogate\n"
     ]
    }
   ],
   "source": [
    "from h2o.backend import H2OLocalServer \n",
    "import os\n",
    "import re\n",
    "import subprocess\n",
    "\n",
    "# in-notebook display\n",
    "from IPython.display import Image\n",
    "from IPython.display import display\n",
    "\n",
    "title = 'London Tourist Decision Tree Surrogate'  \n",
    "\n",
    "# locate h2o jar\n",
    "hs = H2OLocalServer()\n",
    "h2o_jar_path = hs._find_jar()\n",
    "print('Discovered H2O jar path:\\n', h2o_jar_path)\n",
    "\n",
    "# construct command line call to generate graphviz version of \n",
    "# surrogate tree see for more information: \n",
    "# http://docs.h2o.ai/h2o/latest-stable/h2o-genmodel/javadoc/index.html\n",
    "gv_file_name = model_id + '.gv'\n",
    "gv_args = str('-cp ' + h2o_jar_path +\n",
    "              ' hex.genmodel.tools.PrintMojo --tree 0 -i '\n",
    "              + mojo_path + ' -o').split()\n",
    "gv_args.insert(0, 'java')\n",
    "gv_args.append(gv_file_name)\n",
    "if title is not None:\n",
    "    gv_args = gv_args + ['--title', title]\n",
    "    \n",
    "# call \n",
    "print()\n",
    "print('Calling external process ...')\n",
    "print(' '.join(gv_args))\n",
    "_ = subprocess.call(gv_args)"
   ]
  },
  {
   "cell_type": "code",
   "execution_count": 148,
   "metadata": {},
   "outputs": [
    {
     "name": "stdout",
     "output_type": "stream",
     "text": [
      "Calling external process ...\n",
      "dot -Tpng dt_surrogate_mojo.gv -o dt_surrogate_mojo.png\n"
     ]
    }
   ],
   "source": [
    "\n",
    "# construct call to generate PNG from \n",
    "# graphviz representation of the tree\n",
    "png_file_name = model_id + '.png'\n",
    "png_args = str('dot -Tpng ' + gv_file_name + ' -o ' + png_file_name)\n",
    "png_args = png_args.split()\n",
    "\n",
    "# call\n",
    "print('Calling external process ...')\n",
    "print(' '.join(png_args))\n",
    "_ = subprocess.call(png_args)"
   ]
  },
  {
   "cell_type": "code",
   "execution_count": 149,
   "metadata": {},
   "outputs": [
    {
     "data": {
      "image/png": "[encoded data removed]",
      "text/plain": [
       "<IPython.core.display.Image object>"
      ]
     },
     "metadata": {},
     "output_type": "display_data"
    }
   ],
   "source": [
    "display(Image((png_file_name)))"
   ]
  },
  {
   "cell_type": "code",
   "execution_count": 150,
   "metadata": {},
   "outputs": [
    {
     "name": "stdout",
     "output_type": "stream",
     "text": [
      "PartialDependencePlot progress: |█████████████████████████████████████████| 100%\n"
     ]
    },
    {
     "data": {
      "image/png": "[encoded data removed]",
      "text/plain": [
       "<matplotlib.figure.Figure at 0x110506d68>"
      ]
     },
     "metadata": {},
     "output_type": "display_data"
    }
   ],
   "source": [
    "%matplotlib inline\n",
    "par_dep_visits = gbm_model.partial_plot(data=trainh, cols=['visits'], server=True, plot=True)"
   ]
  },
  {
   "cell_type": "code",
   "execution_count": null,
   "metadata": {
    "collapsed": true
   },
   "outputs": [],
   "source": []
  }
 ],
 "metadata": {
  "kernelspec": {
   "display_name": "Python 3",
   "language": "python",
   "name": "python3"
  },
  "language_info": {
   "codemirror_mode": {
    "name": "ipython",
    "version": 3
   },
   "file_extension": ".py",
   "mimetype": "text/x-python",
   "name": "python",
   "nbconvert_exporter": "python",
   "pygments_lexer": "ipython3",
   "version": "3.6.3"
  }
 },
 "nbformat": 4,
 "nbformat_minor": 2
}
